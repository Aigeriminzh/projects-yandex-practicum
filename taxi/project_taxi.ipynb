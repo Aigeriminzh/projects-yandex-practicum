{
 "cells": [
  {
   "cell_type": "markdown",
   "metadata": {
    "toc": true
   },
   "source": [
    "<h1>Содержание<span class=\"tocSkip\"></span></h1>\n",
    "<div class=\"toc\"><ul class=\"toc-item\"><li><span><a href=\"#Обзор-данных\" data-toc-modified-id=\"Обзор-данных-1\"><span class=\"toc-item-num\">1&nbsp;&nbsp;</span>Обзор данных</a></span></li><li><span><a href=\"#Анализ-и-предобработка\" data-toc-modified-id=\"Анализ-и-предобработка-2\"><span class=\"toc-item-num\">2&nbsp;&nbsp;</span>Анализ и предобработка</a></span><ul class=\"toc-item\"><li><span><a href=\"#Вывод\" data-toc-modified-id=\"Вывод-2.1\"><span class=\"toc-item-num\">2.1&nbsp;&nbsp;</span>Вывод</a></span></li></ul></li><li><span><a href=\"#Подготовка-признаков\" data-toc-modified-id=\"Подготовка-признаков-3\"><span class=\"toc-item-num\">3&nbsp;&nbsp;</span>Подготовка признаков</a></span><ul class=\"toc-item\"><li><span><a href=\"#Создание-признаков\" data-toc-modified-id=\"Создание-признаков-3.1\"><span class=\"toc-item-num\">3.1&nbsp;&nbsp;</span>Создание признаков</a></span></li><li><span><a href=\"#Разбиение-на-обучающую-и-тестовую-выборки\" data-toc-modified-id=\"Разбиение-на-обучающую-и-тестовую-выборки-3.2\"><span class=\"toc-item-num\">3.2&nbsp;&nbsp;</span>Разбиение на обучающую и тестовую выборки</a></span></li><li><span><a href=\"#Вывод\" data-toc-modified-id=\"Вывод-3.3\"><span class=\"toc-item-num\">3.3&nbsp;&nbsp;</span>Вывод</a></span></li></ul></li><li><span><a href=\"#Обучение\" data-toc-modified-id=\"Обучение-4\"><span class=\"toc-item-num\">4&nbsp;&nbsp;</span>Обучение</a></span><ul class=\"toc-item\"><li><span><a href=\"#Обучение--RandomForestRegressor\" data-toc-modified-id=\"Обучение--RandomForestRegressor-4.1\"><span class=\"toc-item-num\">4.1&nbsp;&nbsp;</span>Обучение  RandomForestRegressor</a></span></li><li><span><a href=\"#Реализация--LGBM-Regressor\" data-toc-modified-id=\"Реализация--LGBM-Regressor-4.2\"><span class=\"toc-item-num\">4.2&nbsp;&nbsp;</span>Реализация  LGBM Regressor</a></span></li><li><span><a href=\"#Вывод\" data-toc-modified-id=\"Вывод-4.3\"><span class=\"toc-item-num\">4.3&nbsp;&nbsp;</span>Вывод</a></span></li></ul></li><li><span><a href=\"#Тестирование\" data-toc-modified-id=\"Тестирование-5\"><span class=\"toc-item-num\">5&nbsp;&nbsp;</span>Тестирование</a></span></li><li><span><a href=\"#Общий-вывод¶\" data-toc-modified-id=\"Общий-вывод¶-6\"><span class=\"toc-item-num\">6&nbsp;&nbsp;</span>Общий вывод¶</a></span></li></ul></div>"
   ]
  },
  {
   "cell_type": "markdown",
   "metadata": {},
   "source": [
    "#  Прогнозирование заказов такси"
   ]
  },
  {
   "cell_type": "markdown",
   "metadata": {},
   "source": [
    "Компания «Чётенькое такси» собрала исторические данные о заказах такси в аэропортах. Чтобы привлекать больше водителей в период пиковой нагрузки, нужно спрогнозировать количество заказов такси на следующий час. Постройте модель для такого предсказания.\n",
    "\n",
    "Значение метрики *RMSE* на тестовой выборке должно быть не больше 48.\n",
    "\n",
    "План работы:\n",
    "\n",
    "1. Загрузить данные и выполнить их ресемплирование по одному часу.\n",
    "2. Проанализировать данные.\n",
    "3. Обучить разные модели с различными гиперпараметрами. Сделать тестовую выборку размером 10% от исходных данных.\n",
    "4. Проверить данные на тестовой выборке и сделать выводы.\n",
    "\n",
    "\n",
    "Данные лежат в файле `taxi.csv`. Количество заказов находится в столбце `num_orders` (от англ. *number of orders*, «число заказов»)."
   ]
  },
  {
   "cell_type": "markdown",
   "metadata": {},
   "source": [
    "## Обзор данных"
   ]
  },
  {
   "cell_type": "markdown",
   "metadata": {},
   "source": [
    "Импортируем необходимые библиотеки:"
   ]
  },
  {
   "cell_type": "code",
   "execution_count": 1,
   "metadata": {},
   "outputs": [],
   "source": [
    "import pandas as pd\n",
    "import numpy as np\n",
    "\n",
    "import seaborn as sns\n",
    "\n",
    "from statsmodels.tsa.seasonal import seasonal_decompose\n",
    "from sklearn.ensemble import RandomForestRegressor\n",
    "from sklearn.model_selection import TimeSeriesSplit\n",
    "from sklearn.model_selection import train_test_split, GridSearchCV, RandomizedSearchCV\n",
    "import lightgbm as lgb\n",
    "from sklearn.metrics import make_scorer, mean_squared_error\n",
    "from sklearn.datasets import load_boston\n",
    "import warnings\n",
    "import time"
   ]
  },
  {
   "cell_type": "code",
   "execution_count": 2,
   "metadata": {},
   "outputs": [
    {
     "data": {
      "text/html": [
       "<div>\n",
       "<style scoped>\n",
       "    .dataframe tbody tr th:only-of-type {\n",
       "        vertical-align: middle;\n",
       "    }\n",
       "\n",
       "    .dataframe tbody tr th {\n",
       "        vertical-align: top;\n",
       "    }\n",
       "\n",
       "    .dataframe thead th {\n",
       "        text-align: right;\n",
       "    }\n",
       "</style>\n",
       "<table border=\"1\" class=\"dataframe\">\n",
       "  <thead>\n",
       "    <tr style=\"text-align: right;\">\n",
       "      <th></th>\n",
       "      <th>num_orders</th>\n",
       "    </tr>\n",
       "    <tr>\n",
       "      <th>datetime</th>\n",
       "      <th></th>\n",
       "    </tr>\n",
       "  </thead>\n",
       "  <tbody>\n",
       "    <tr>\n",
       "      <th>2018-03-01 00:00:00</th>\n",
       "      <td>9</td>\n",
       "    </tr>\n",
       "    <tr>\n",
       "      <th>2018-03-01 00:10:00</th>\n",
       "      <td>14</td>\n",
       "    </tr>\n",
       "    <tr>\n",
       "      <th>2018-03-01 00:20:00</th>\n",
       "      <td>28</td>\n",
       "    </tr>\n",
       "    <tr>\n",
       "      <th>2018-03-01 00:30:00</th>\n",
       "      <td>20</td>\n",
       "    </tr>\n",
       "    <tr>\n",
       "      <th>2018-03-01 00:40:00</th>\n",
       "      <td>32</td>\n",
       "    </tr>\n",
       "    <tr>\n",
       "      <th>...</th>\n",
       "      <td>...</td>\n",
       "    </tr>\n",
       "    <tr>\n",
       "      <th>2018-08-31 23:10:00</th>\n",
       "      <td>32</td>\n",
       "    </tr>\n",
       "    <tr>\n",
       "      <th>2018-08-31 23:20:00</th>\n",
       "      <td>24</td>\n",
       "    </tr>\n",
       "    <tr>\n",
       "      <th>2018-08-31 23:30:00</th>\n",
       "      <td>27</td>\n",
       "    </tr>\n",
       "    <tr>\n",
       "      <th>2018-08-31 23:40:00</th>\n",
       "      <td>39</td>\n",
       "    </tr>\n",
       "    <tr>\n",
       "      <th>2018-08-31 23:50:00</th>\n",
       "      <td>53</td>\n",
       "    </tr>\n",
       "  </tbody>\n",
       "</table>\n",
       "<p>26496 rows × 1 columns</p>\n",
       "</div>"
      ],
      "text/plain": [
       "                     num_orders\n",
       "datetime                       \n",
       "2018-03-01 00:00:00           9\n",
       "2018-03-01 00:10:00          14\n",
       "2018-03-01 00:20:00          28\n",
       "2018-03-01 00:30:00          20\n",
       "2018-03-01 00:40:00          32\n",
       "...                         ...\n",
       "2018-08-31 23:10:00          32\n",
       "2018-08-31 23:20:00          24\n",
       "2018-08-31 23:30:00          27\n",
       "2018-08-31 23:40:00          39\n",
       "2018-08-31 23:50:00          53\n",
       "\n",
       "[26496 rows x 1 columns]"
      ]
     },
     "execution_count": 2,
     "metadata": {},
     "output_type": "execute_result"
    }
   ],
   "source": [
    "try:\n",
    "    df = pd.read_csv('/taxi.csv',index_col='datetime')\n",
    "except:    \n",
    "    df = pd.read_csv('/datasets/taxi.csv',index_col='datetime')\n",
    "\n",
    "df"
   ]
  },
  {
   "cell_type": "code",
   "execution_count": 3,
   "metadata": {},
   "outputs": [
    {
     "data": {
      "text/plain": [
       "Index(['2018-03-01 00:00:00', '2018-03-01 00:10:00', '2018-03-01 00:20:00',\n",
       "       '2018-03-01 00:30:00', '2018-03-01 00:40:00', '2018-03-01 00:50:00',\n",
       "       '2018-03-01 01:00:00', '2018-03-01 01:10:00', '2018-03-01 01:20:00',\n",
       "       '2018-03-01 01:30:00',\n",
       "       ...\n",
       "       '2018-08-31 22:20:00', '2018-08-31 22:30:00', '2018-08-31 22:40:00',\n",
       "       '2018-08-31 22:50:00', '2018-08-31 23:00:00', '2018-08-31 23:10:00',\n",
       "       '2018-08-31 23:20:00', '2018-08-31 23:30:00', '2018-08-31 23:40:00',\n",
       "       '2018-08-31 23:50:00'],\n",
       "      dtype='object', name='datetime', length=26496)"
      ]
     },
     "execution_count": 3,
     "metadata": {},
     "output_type": "execute_result"
    }
   ],
   "source": [
    "df.index"
   ]
  },
  {
   "cell_type": "markdown",
   "metadata": {},
   "source": [
    "Предоставлены данные за период: 1 марта 2018 по 31 августа 2018. Каждой строчке датафрейма соотвествует количество заказов за 10 минут."
   ]
  },
  {
   "cell_type": "markdown",
   "metadata": {},
   "source": [
    "Изучим данные:"
   ]
  },
  {
   "cell_type": "code",
   "execution_count": 4,
   "metadata": {},
   "outputs": [
    {
     "name": "stdout",
     "output_type": "stream",
     "text": [
      "(26496, 1)\n",
      "<class 'pandas.core.frame.DataFrame'>\n",
      "Index: 26496 entries, 2018-03-01 00:00:00 to 2018-08-31 23:50:00\n",
      "Data columns (total 1 columns):\n",
      " #   Column      Non-Null Count  Dtype\n",
      "---  ------      --------------  -----\n",
      " 0   num_orders  26496 non-null  int64\n",
      "dtypes: int64(1)\n",
      "memory usage: 414.0+ KB\n"
     ]
    }
   ],
   "source": [
    "print(df.shape)\n",
    "df.info()"
   ]
  },
  {
   "cell_type": "markdown",
   "metadata": {},
   "source": [
    "Проверяю, что даты идут по порядку:"
   ]
  },
  {
   "cell_type": "code",
   "execution_count": 5,
   "metadata": {},
   "outputs": [
    {
     "data": {
      "text/plain": [
       "True"
      ]
     },
     "execution_count": 5,
     "metadata": {},
     "output_type": "execute_result"
    }
   ],
   "source": [
    "df.index.is_monotonic"
   ]
  },
  {
   "cell_type": "markdown",
   "metadata": {},
   "source": [
    "## Анализ и предобработка"
   ]
  },
  {
   "cell_type": "markdown",
   "metadata": {},
   "source": [
    "Выполним почасовой ресеймплинг, предварительно изменив тип на `datetime`:"
   ]
  },
  {
   "cell_type": "code",
   "execution_count": 6,
   "metadata": {},
   "outputs": [
    {
     "name": "stdout",
     "output_type": "stream",
     "text": [
      "<class 'pandas.core.indexes.datetimes.DatetimeIndex'>\n",
      "(4416, 1)\n"
     ]
    },
    {
     "data": {
      "text/html": [
       "<div>\n",
       "<style scoped>\n",
       "    .dataframe tbody tr th:only-of-type {\n",
       "        vertical-align: middle;\n",
       "    }\n",
       "\n",
       "    .dataframe tbody tr th {\n",
       "        vertical-align: top;\n",
       "    }\n",
       "\n",
       "    .dataframe thead th {\n",
       "        text-align: right;\n",
       "    }\n",
       "</style>\n",
       "<table border=\"1\" class=\"dataframe\">\n",
       "  <thead>\n",
       "    <tr style=\"text-align: right;\">\n",
       "      <th></th>\n",
       "      <th>num_orders</th>\n",
       "    </tr>\n",
       "    <tr>\n",
       "      <th>datetime</th>\n",
       "      <th></th>\n",
       "    </tr>\n",
       "  </thead>\n",
       "  <tbody>\n",
       "    <tr>\n",
       "      <th>2018-03-01 00:00:00</th>\n",
       "      <td>124</td>\n",
       "    </tr>\n",
       "    <tr>\n",
       "      <th>2018-03-01 01:00:00</th>\n",
       "      <td>85</td>\n",
       "    </tr>\n",
       "    <tr>\n",
       "      <th>2018-03-01 02:00:00</th>\n",
       "      <td>71</td>\n",
       "    </tr>\n",
       "    <tr>\n",
       "      <th>2018-03-01 03:00:00</th>\n",
       "      <td>66</td>\n",
       "    </tr>\n",
       "    <tr>\n",
       "      <th>2018-03-01 04:00:00</th>\n",
       "      <td>43</td>\n",
       "    </tr>\n",
       "  </tbody>\n",
       "</table>\n",
       "</div>"
      ],
      "text/plain": [
       "                     num_orders\n",
       "datetime                       \n",
       "2018-03-01 00:00:00         124\n",
       "2018-03-01 01:00:00          85\n",
       "2018-03-01 02:00:00          71\n",
       "2018-03-01 03:00:00          66\n",
       "2018-03-01 04:00:00          43"
      ]
     },
     "execution_count": 6,
     "metadata": {},
     "output_type": "execute_result"
    }
   ],
   "source": [
    "df.index = pd.to_datetime(df.index)\n",
    "print(type(df.index))\n",
    "df = df.resample('1H').sum()\n",
    "print(df.shape)\n",
    "df.head()"
   ]
  },
  {
   "cell_type": "markdown",
   "metadata": {},
   "source": [
    "Добавим скользящее стандартное отклонение и среднее:"
   ]
  },
  {
   "cell_type": "code",
   "execution_count": 7,
   "metadata": {},
   "outputs": [],
   "source": [
    "df['rolling_mean'] = df['num_orders'].rolling(15).mean()\n",
    "df['rolling_std'] = df['num_orders'].rolling(15).std()"
   ]
  },
  {
   "cell_type": "markdown",
   "metadata": {},
   "source": [
    "Посмотрим на данные при помощи графиков:"
   ]
  },
  {
   "cell_type": "code",
   "execution_count": 8,
   "metadata": {},
   "outputs": [
    {
     "data": {
      "text/plain": [
       "<AxesSubplot:xlabel='datetime'>"
      ]
     },
     "execution_count": 8,
     "metadata": {},
     "output_type": "execute_result"
    },
    {
     "data": {
      "image/png": "[encoded data removed]",
      "text/plain": [
       "<Figure size 432x288 with 1 Axes>"
      ]
     },
     "metadata": {
      "needs_background": "light"
     },
     "output_type": "display_data"
    }
   ],
   "source": [
    "df.plot()"
   ]
  },
  {
   "cell_type": "markdown",
   "metadata": {},
   "source": [
    "Изначально выборка достаточно стационарна, стандартное отклонение меняется незначительно.\n",
    "\n",
    "\n",
    "Разложим временной ряд на тренд и сезонную компоненту:"
   ]
  },
  {
   "cell_type": "code",
   "execution_count": 9,
   "metadata": {},
   "outputs": [
    {
     "data": {
      "image/png": "[encoded data removed]",
      "text/plain": [
       "<Figure size 432x288 with 4 Axes>"
      ]
     },
     "metadata": {
      "needs_background": "light"
     },
     "output_type": "display_data"
    }
   ],
   "source": [
    "decomposed =  seasonal_decompose(df['num_orders']) \n",
    "decomposed.plot();"
   ]
  },
  {
   "cell_type": "code",
   "execution_count": 10,
   "metadata": {},
   "outputs": [
    {
     "data": {
      "image/png": "[encoded data removed]",
      "text/plain": [
       "<Figure size 432x288 with 1 Axes>"
      ]
     },
     "metadata": {
      "needs_background": "light"
     },
     "output_type": "display_data"
    }
   ],
   "source": [
    "decomposed.trend['2018-07-02' : '2018-07-15'].plot(title='Seasonal');"
   ]
  },
  {
   "cell_type": "code",
   "execution_count": 11,
   "metadata": {},
   "outputs": [
    {
     "data": {
      "image/png": "[encoded data removed]",
      "text/plain": [
       "<Figure size 432x288 with 1 Axes>"
      ]
     },
     "metadata": {
      "needs_background": "light"
     },
     "output_type": "display_data"
    }
   ],
   "source": [
    "decomposed.seasonal['2018-07-07' : '2018-07-8'].plot(title='Seasonal');"
   ]
  },
  {
   "cell_type": "markdown",
   "metadata": {},
   "source": [
    "### Вывод"
   ]
  },
  {
   "cell_type": "markdown",
   "metadata": {},
   "source": [
    "Тренд по кол-ву заказов растущий, предполагаю, что это связано с ростом и развитием самой компании, нежели с сезонностью.\n",
    "\n",
    "На графике за 2 первые недели июля прослеживантся тренд, связанный с днем недели - рост числа заказов в понедельник, далее спад, и ближе к выходным явный рост.  \n",
    "\n",
    "График сезонной составляющей за 2 дня июля показал, что наименьшее кол-во заказов с 4 до 7 утра, наибольшее кол-во с 23 до 01 ночи."
   ]
  },
  {
   "cell_type": "markdown",
   "metadata": {},
   "source": [
    "## Подготовка признаков"
   ]
  },
  {
   "cell_type": "markdown",
   "metadata": {},
   "source": [
    "Первоначально удалим дабавленные столбцы, оставив количество заказов:"
   ]
  },
  {
   "cell_type": "code",
   "execution_count": 12,
   "metadata": {},
   "outputs": [
    {
     "data": {
      "text/plain": [
       "Index(['num_orders'], dtype='object')"
      ]
     },
     "execution_count": 12,
     "metadata": {},
     "output_type": "execute_result"
    }
   ],
   "source": [
    "df = df.drop(['rolling_mean', 'rolling_std'], axis=1)\n",
    "df.columns"
   ]
  },
  {
   "cell_type": "markdown",
   "metadata": {},
   "source": [
    "### Создание признаков"
   ]
  },
  {
   "cell_type": "markdown",
   "metadata": {},
   "source": [
    "Создадим и выполниим функцию для создания признаков:"
   ]
  },
  {
   "cell_type": "code",
   "execution_count": 13,
   "metadata": {},
   "outputs": [],
   "source": [
    "def make_features(data, max_lag, rolling_mean_size):\n",
    "    data['year'] = data.index.year\n",
    "    data['month'] = data.index.month\n",
    "    data['day'] = data.index.day\n",
    "    data['dayofweek'] = data.index.dayofweek\n",
    "    \n",
    "    for lag in range(1, max_lag + 1):\n",
    "        data['lag_{}'.format(lag)] = data['num_orders'].shift(lag)\n",
    "\n",
    "    data['rolling_mean'] = data['num_orders'].shift().rolling(rolling_mean_size).mean()    "
   ]
  },
  {
   "cell_type": "code",
   "execution_count": 14,
   "metadata": {},
   "outputs": [],
   "source": [
    "make_features(df,24,20)"
   ]
  },
  {
   "cell_type": "code",
   "execution_count": 15,
   "metadata": {},
   "outputs": [
    {
     "name": "stdout",
     "output_type": "stream",
     "text": [
      "(4416, 30)\n"
     ]
    }
   ],
   "source": [
    "print(df.shape)"
   ]
  },
  {
   "cell_type": "code",
   "execution_count": 16,
   "metadata": {},
   "outputs": [
    {
     "data": {
      "text/html": [
       "<div>\n",
       "<style scoped>\n",
       "    .dataframe tbody tr th:only-of-type {\n",
       "        vertical-align: middle;\n",
       "    }\n",
       "\n",
       "    .dataframe tbody tr th {\n",
       "        vertical-align: top;\n",
       "    }\n",
       "\n",
       "    .dataframe thead th {\n",
       "        text-align: right;\n",
       "    }\n",
       "</style>\n",
       "<table border=\"1\" class=\"dataframe\">\n",
       "  <thead>\n",
       "    <tr style=\"text-align: right;\">\n",
       "      <th></th>\n",
       "      <th>num_orders</th>\n",
       "      <th>year</th>\n",
       "      <th>month</th>\n",
       "      <th>day</th>\n",
       "      <th>dayofweek</th>\n",
       "      <th>lag_1</th>\n",
       "      <th>lag_2</th>\n",
       "      <th>lag_3</th>\n",
       "      <th>lag_4</th>\n",
       "      <th>lag_5</th>\n",
       "      <th>...</th>\n",
       "      <th>lag_16</th>\n",
       "      <th>lag_17</th>\n",
       "      <th>lag_18</th>\n",
       "      <th>lag_19</th>\n",
       "      <th>lag_20</th>\n",
       "      <th>lag_21</th>\n",
       "      <th>lag_22</th>\n",
       "      <th>lag_23</th>\n",
       "      <th>lag_24</th>\n",
       "      <th>rolling_mean</th>\n",
       "    </tr>\n",
       "    <tr>\n",
       "      <th>datetime</th>\n",
       "      <th></th>\n",
       "      <th></th>\n",
       "      <th></th>\n",
       "      <th></th>\n",
       "      <th></th>\n",
       "      <th></th>\n",
       "      <th></th>\n",
       "      <th></th>\n",
       "      <th></th>\n",
       "      <th></th>\n",
       "      <th></th>\n",
       "      <th></th>\n",
       "      <th></th>\n",
       "      <th></th>\n",
       "      <th></th>\n",
       "      <th></th>\n",
       "      <th></th>\n",
       "      <th></th>\n",
       "      <th></th>\n",
       "      <th></th>\n",
       "      <th></th>\n",
       "    </tr>\n",
       "  </thead>\n",
       "  <tbody>\n",
       "    <tr>\n",
       "      <th>2018-03-01 00:00:00</th>\n",
       "      <td>124</td>\n",
       "      <td>2018</td>\n",
       "      <td>3</td>\n",
       "      <td>1</td>\n",
       "      <td>3</td>\n",
       "      <td>NaN</td>\n",
       "      <td>NaN</td>\n",
       "      <td>NaN</td>\n",
       "      <td>NaN</td>\n",
       "      <td>NaN</td>\n",
       "      <td>...</td>\n",
       "      <td>NaN</td>\n",
       "      <td>NaN</td>\n",
       "      <td>NaN</td>\n",
       "      <td>NaN</td>\n",
       "      <td>NaN</td>\n",
       "      <td>NaN</td>\n",
       "      <td>NaN</td>\n",
       "      <td>NaN</td>\n",
       "      <td>NaN</td>\n",
       "      <td>NaN</td>\n",
       "    </tr>\n",
       "    <tr>\n",
       "      <th>2018-03-01 01:00:00</th>\n",
       "      <td>85</td>\n",
       "      <td>2018</td>\n",
       "      <td>3</td>\n",
       "      <td>1</td>\n",
       "      <td>3</td>\n",
       "      <td>124.0</td>\n",
       "      <td>NaN</td>\n",
       "      <td>NaN</td>\n",
       "      <td>NaN</td>\n",
       "      <td>NaN</td>\n",
       "      <td>...</td>\n",
       "      <td>NaN</td>\n",
       "      <td>NaN</td>\n",
       "      <td>NaN</td>\n",
       "      <td>NaN</td>\n",
       "      <td>NaN</td>\n",
       "      <td>NaN</td>\n",
       "      <td>NaN</td>\n",
       "      <td>NaN</td>\n",
       "      <td>NaN</td>\n",
       "      <td>NaN</td>\n",
       "    </tr>\n",
       "    <tr>\n",
       "      <th>2018-03-01 02:00:00</th>\n",
       "      <td>71</td>\n",
       "      <td>2018</td>\n",
       "      <td>3</td>\n",
       "      <td>1</td>\n",
       "      <td>3</td>\n",
       "      <td>85.0</td>\n",
       "      <td>124.0</td>\n",
       "      <td>NaN</td>\n",
       "      <td>NaN</td>\n",
       "      <td>NaN</td>\n",
       "      <td>...</td>\n",
       "      <td>NaN</td>\n",
       "      <td>NaN</td>\n",
       "      <td>NaN</td>\n",
       "      <td>NaN</td>\n",
       "      <td>NaN</td>\n",
       "      <td>NaN</td>\n",
       "      <td>NaN</td>\n",
       "      <td>NaN</td>\n",
       "      <td>NaN</td>\n",
       "      <td>NaN</td>\n",
       "    </tr>\n",
       "    <tr>\n",
       "      <th>2018-03-01 03:00:00</th>\n",
       "      <td>66</td>\n",
       "      <td>2018</td>\n",
       "      <td>3</td>\n",
       "      <td>1</td>\n",
       "      <td>3</td>\n",
       "      <td>71.0</td>\n",
       "      <td>85.0</td>\n",
       "      <td>124.0</td>\n",
       "      <td>NaN</td>\n",
       "      <td>NaN</td>\n",
       "      <td>...</td>\n",
       "      <td>NaN</td>\n",
       "      <td>NaN</td>\n",
       "      <td>NaN</td>\n",
       "      <td>NaN</td>\n",
       "      <td>NaN</td>\n",
       "      <td>NaN</td>\n",
       "      <td>NaN</td>\n",
       "      <td>NaN</td>\n",
       "      <td>NaN</td>\n",
       "      <td>NaN</td>\n",
       "    </tr>\n",
       "    <tr>\n",
       "      <th>2018-03-01 04:00:00</th>\n",
       "      <td>43</td>\n",
       "      <td>2018</td>\n",
       "      <td>3</td>\n",
       "      <td>1</td>\n",
       "      <td>3</td>\n",
       "      <td>66.0</td>\n",
       "      <td>71.0</td>\n",
       "      <td>85.0</td>\n",
       "      <td>124.0</td>\n",
       "      <td>NaN</td>\n",
       "      <td>...</td>\n",
       "      <td>NaN</td>\n",
       "      <td>NaN</td>\n",
       "      <td>NaN</td>\n",
       "      <td>NaN</td>\n",
       "      <td>NaN</td>\n",
       "      <td>NaN</td>\n",
       "      <td>NaN</td>\n",
       "      <td>NaN</td>\n",
       "      <td>NaN</td>\n",
       "      <td>NaN</td>\n",
       "    </tr>\n",
       "    <tr>\n",
       "      <th>...</th>\n",
       "      <td>...</td>\n",
       "      <td>...</td>\n",
       "      <td>...</td>\n",
       "      <td>...</td>\n",
       "      <td>...</td>\n",
       "      <td>...</td>\n",
       "      <td>...</td>\n",
       "      <td>...</td>\n",
       "      <td>...</td>\n",
       "      <td>...</td>\n",
       "      <td>...</td>\n",
       "      <td>...</td>\n",
       "      <td>...</td>\n",
       "      <td>...</td>\n",
       "      <td>...</td>\n",
       "      <td>...</td>\n",
       "      <td>...</td>\n",
       "      <td>...</td>\n",
       "      <td>...</td>\n",
       "      <td>...</td>\n",
       "      <td>...</td>\n",
       "    </tr>\n",
       "    <tr>\n",
       "      <th>2018-08-31 19:00:00</th>\n",
       "      <td>136</td>\n",
       "      <td>2018</td>\n",
       "      <td>8</td>\n",
       "      <td>31</td>\n",
       "      <td>4</td>\n",
       "      <td>207.0</td>\n",
       "      <td>217.0</td>\n",
       "      <td>197.0</td>\n",
       "      <td>116.0</td>\n",
       "      <td>133.0</td>\n",
       "      <td>...</td>\n",
       "      <td>99.0</td>\n",
       "      <td>230.0</td>\n",
       "      <td>194.0</td>\n",
       "      <td>276.0</td>\n",
       "      <td>246.0</td>\n",
       "      <td>158.0</td>\n",
       "      <td>198.0</td>\n",
       "      <td>142.0</td>\n",
       "      <td>72.0</td>\n",
       "      <td>169.35</td>\n",
       "    </tr>\n",
       "    <tr>\n",
       "      <th>2018-08-31 20:00:00</th>\n",
       "      <td>154</td>\n",
       "      <td>2018</td>\n",
       "      <td>8</td>\n",
       "      <td>31</td>\n",
       "      <td>4</td>\n",
       "      <td>136.0</td>\n",
       "      <td>207.0</td>\n",
       "      <td>217.0</td>\n",
       "      <td>197.0</td>\n",
       "      <td>116.0</td>\n",
       "      <td>...</td>\n",
       "      <td>268.0</td>\n",
       "      <td>99.0</td>\n",
       "      <td>230.0</td>\n",
       "      <td>194.0</td>\n",
       "      <td>276.0</td>\n",
       "      <td>246.0</td>\n",
       "      <td>158.0</td>\n",
       "      <td>198.0</td>\n",
       "      <td>142.0</td>\n",
       "      <td>163.85</td>\n",
       "    </tr>\n",
       "    <tr>\n",
       "      <th>2018-08-31 21:00:00</th>\n",
       "      <td>159</td>\n",
       "      <td>2018</td>\n",
       "      <td>8</td>\n",
       "      <td>31</td>\n",
       "      <td>4</td>\n",
       "      <td>154.0</td>\n",
       "      <td>136.0</td>\n",
       "      <td>207.0</td>\n",
       "      <td>217.0</td>\n",
       "      <td>197.0</td>\n",
       "      <td>...</td>\n",
       "      <td>78.0</td>\n",
       "      <td>268.0</td>\n",
       "      <td>99.0</td>\n",
       "      <td>230.0</td>\n",
       "      <td>194.0</td>\n",
       "      <td>276.0</td>\n",
       "      <td>246.0</td>\n",
       "      <td>158.0</td>\n",
       "      <td>198.0</td>\n",
       "      <td>157.75</td>\n",
       "    </tr>\n",
       "    <tr>\n",
       "      <th>2018-08-31 22:00:00</th>\n",
       "      <td>223</td>\n",
       "      <td>2018</td>\n",
       "      <td>8</td>\n",
       "      <td>31</td>\n",
       "      <td>4</td>\n",
       "      <td>159.0</td>\n",
       "      <td>154.0</td>\n",
       "      <td>136.0</td>\n",
       "      <td>207.0</td>\n",
       "      <td>217.0</td>\n",
       "      <td>...</td>\n",
       "      <td>35.0</td>\n",
       "      <td>78.0</td>\n",
       "      <td>268.0</td>\n",
       "      <td>99.0</td>\n",
       "      <td>230.0</td>\n",
       "      <td>194.0</td>\n",
       "      <td>276.0</td>\n",
       "      <td>246.0</td>\n",
       "      <td>158.0</td>\n",
       "      <td>156.00</td>\n",
       "    </tr>\n",
       "    <tr>\n",
       "      <th>2018-08-31 23:00:00</th>\n",
       "      <td>205</td>\n",
       "      <td>2018</td>\n",
       "      <td>8</td>\n",
       "      <td>31</td>\n",
       "      <td>4</td>\n",
       "      <td>223.0</td>\n",
       "      <td>159.0</td>\n",
       "      <td>154.0</td>\n",
       "      <td>136.0</td>\n",
       "      <td>207.0</td>\n",
       "      <td>...</td>\n",
       "      <td>46.0</td>\n",
       "      <td>35.0</td>\n",
       "      <td>78.0</td>\n",
       "      <td>268.0</td>\n",
       "      <td>99.0</td>\n",
       "      <td>230.0</td>\n",
       "      <td>194.0</td>\n",
       "      <td>276.0</td>\n",
       "      <td>246.0</td>\n",
       "      <td>155.65</td>\n",
       "    </tr>\n",
       "  </tbody>\n",
       "</table>\n",
       "<p>4416 rows × 30 columns</p>\n",
       "</div>"
      ],
      "text/plain": [
       "                     num_orders  year  month  day  dayofweek  lag_1  lag_2  \\\n",
       "datetime                                                                     \n",
       "2018-03-01 00:00:00         124  2018      3    1          3    NaN    NaN   \n",
       "2018-03-01 01:00:00          85  2018      3    1          3  124.0    NaN   \n",
       "2018-03-01 02:00:00          71  2018      3    1          3   85.0  124.0   \n",
       "2018-03-01 03:00:00          66  2018      3    1          3   71.0   85.0   \n",
       "2018-03-01 04:00:00          43  2018      3    1          3   66.0   71.0   \n",
       "...                         ...   ...    ...  ...        ...    ...    ...   \n",
       "2018-08-31 19:00:00         136  2018      8   31          4  207.0  217.0   \n",
       "2018-08-31 20:00:00         154  2018      8   31          4  136.0  207.0   \n",
       "2018-08-31 21:00:00         159  2018      8   31          4  154.0  136.0   \n",
       "2018-08-31 22:00:00         223  2018      8   31          4  159.0  154.0   \n",
       "2018-08-31 23:00:00         205  2018      8   31          4  223.0  159.0   \n",
       "\n",
       "                     lag_3  lag_4  lag_5  ...  lag_16  lag_17  lag_18  lag_19  \\\n",
       "datetime                                  ...                                   \n",
       "2018-03-01 00:00:00    NaN    NaN    NaN  ...     NaN     NaN     NaN     NaN   \n",
       "2018-03-01 01:00:00    NaN    NaN    NaN  ...     NaN     NaN     NaN     NaN   \n",
       "2018-03-01 02:00:00    NaN    NaN    NaN  ...     NaN     NaN     NaN     NaN   \n",
       "2018-03-01 03:00:00  124.0    NaN    NaN  ...     NaN     NaN     NaN     NaN   \n",
       "2018-03-01 04:00:00   85.0  124.0    NaN  ...     NaN     NaN     NaN     NaN   \n",
       "...                    ...    ...    ...  ...     ...     ...     ...     ...   \n",
       "2018-08-31 19:00:00  197.0  116.0  133.0  ...    99.0   230.0   194.0   276.0   \n",
       "2018-08-31 20:00:00  217.0  197.0  116.0  ...   268.0    99.0   230.0   194.0   \n",
       "2018-08-31 21:00:00  207.0  217.0  197.0  ...    78.0   268.0    99.0   230.0   \n",
       "2018-08-31 22:00:00  136.0  207.0  217.0  ...    35.0    78.0   268.0    99.0   \n",
       "2018-08-31 23:00:00  154.0  136.0  207.0  ...    46.0    35.0    78.0   268.0   \n",
       "\n",
       "                     lag_20  lag_21  lag_22  lag_23  lag_24  rolling_mean  \n",
       "datetime                                                                   \n",
       "2018-03-01 00:00:00     NaN     NaN     NaN     NaN     NaN           NaN  \n",
       "2018-03-01 01:00:00     NaN     NaN     NaN     NaN     NaN           NaN  \n",
       "2018-03-01 02:00:00     NaN     NaN     NaN     NaN     NaN           NaN  \n",
       "2018-03-01 03:00:00     NaN     NaN     NaN     NaN     NaN           NaN  \n",
       "2018-03-01 04:00:00     NaN     NaN     NaN     NaN     NaN           NaN  \n",
       "...                     ...     ...     ...     ...     ...           ...  \n",
       "2018-08-31 19:00:00   246.0   158.0   198.0   142.0    72.0        169.35  \n",
       "2018-08-31 20:00:00   276.0   246.0   158.0   198.0   142.0        163.85  \n",
       "2018-08-31 21:00:00   194.0   276.0   246.0   158.0   198.0        157.75  \n",
       "2018-08-31 22:00:00   230.0   194.0   276.0   246.0   158.0        156.00  \n",
       "2018-08-31 23:00:00    99.0   230.0   194.0   276.0   246.0        155.65  \n",
       "\n",
       "[4416 rows x 30 columns]"
      ]
     },
     "execution_count": 16,
     "metadata": {},
     "output_type": "execute_result"
    }
   ],
   "source": [
    "df"
   ]
  },
  {
   "cell_type": "markdown",
   "metadata": {},
   "source": [
    "### Разбиение на обучающую и тестовую выборки"
   ]
  },
  {
   "cell_type": "markdown",
   "metadata": {},
   "source": [
    "Выделим из исходного датафрейма вектор признаков `df_x` (признаки для обучения) и целевой вектор `df_y` (цель для обучения):"
   ]
  },
  {
   "cell_type": "code",
   "execution_count": 17,
   "metadata": {},
   "outputs": [],
   "source": [
    "df = df.dropna()\n",
    "df_x = df.drop('num_orders', axis=1)\n",
    "df_y  = df['num_orders']"
   ]
  },
  {
   "cell_type": "code",
   "execution_count": 18,
   "metadata": {},
   "outputs": [
    {
     "name": "stdout",
     "output_type": "stream",
     "text": [
      "Размер обучающей выборки: (3952, 29); целевой признак (3952,):\n",
      "Размер валидационной выборки: (440, 29); целевой признак (440,):\n"
     ]
    }
   ],
   "source": [
    "X_train, X_test, y_train, y_test = train_test_split(df_x, df_y, test_size=0.1 , shuffle=False)\n",
    "print(\"Размер обучающей выборки: {0}; целевой признак {1}:\".format(X_train.shape,y_train.shape))\n",
    "print(\"Размер валидационной выборки: {0}; целевой признак {1}:\".format(X_test.shape,y_test.shape))"
   ]
  },
  {
   "cell_type": "markdown",
   "metadata": {},
   "source": [
    "### Вывод"
   ]
  },
  {
   "cell_type": "markdown",
   "metadata": {},
   "source": [
    "Признаки созданы, разбиение на обучающую и тестовую выборки выполнено."
   ]
  },
  {
   "cell_type": "markdown",
   "metadata": {},
   "source": [
    "## Обучение"
   ]
  },
  {
   "cell_type": "markdown",
   "metadata": {},
   "source": [
    "Реализуем 2 модели:\n",
    "- CatBoostRegressor\n",
    "- LGBMRegressor\n",
    "\n",
    "Создадим датафрейм для сохранения параметров для сравнения результатов моделей:"
   ]
  },
  {
   "cell_type": "code",
   "execution_count": 19,
   "metadata": {},
   "outputs": [
    {
     "data": {
      "text/html": [
       "<div>\n",
       "<style scoped>\n",
       "    .dataframe tbody tr th:only-of-type {\n",
       "        vertical-align: middle;\n",
       "    }\n",
       "\n",
       "    .dataframe tbody tr th {\n",
       "        vertical-align: top;\n",
       "    }\n",
       "\n",
       "    .dataframe thead th {\n",
       "        text-align: right;\n",
       "    }\n",
       "</style>\n",
       "<table border=\"1\" class=\"dataframe\">\n",
       "  <thead>\n",
       "    <tr style=\"text-align: right;\">\n",
       "      <th></th>\n",
       "      <th>name_model</th>\n",
       "      <th>score_RMSE_val</th>\n",
       "      <th>score_RMSE</th>\n",
       "      <th>time_learning</th>\n",
       "      <th>time_prediction</th>\n",
       "    </tr>\n",
       "  </thead>\n",
       "  <tbody>\n",
       "  </tbody>\n",
       "</table>\n",
       "</div>"
      ],
      "text/plain": [
       "Empty DataFrame\n",
       "Columns: [name_model, score_RMSE_val, score_RMSE, time_learning, time_prediction]\n",
       "Index: []"
      ]
     },
     "execution_count": 19,
     "metadata": {},
     "output_type": "execute_result"
    }
   ],
   "source": [
    "results = pd.DataFrame({'name_model' : [], 'score_RMSE_val': '', 'score_RMSE' : [], 'time_learning' : [], 'time_prediction' : []})\n",
    "results"
   ]
  },
  {
   "cell_type": "markdown",
   "metadata": {},
   "source": [
    "Создадим функцию для расчета значения метрики RMSE:"
   ]
  },
  {
   "cell_type": "code",
   "execution_count": 20,
   "metadata": {},
   "outputs": [],
   "source": [
    "def mean_squared_error_(predict, target):\n",
    "    return mean_squared_error(predict, target) ** 0.5\n",
    "scorer = make_scorer(mean_squared_error_, greater_is_better=False)"
   ]
  },
  {
   "cell_type": "markdown",
   "metadata": {},
   "source": [
    "### Обучение  RandomForestRegressor"
   ]
  },
  {
   "cell_type": "markdown",
   "metadata": {},
   "source": [
    "Выполним кросс-валидацию TimeSeriesSplit():"
   ]
  },
  {
   "cell_type": "code",
   "execution_count": 21,
   "metadata": {},
   "outputs": [],
   "source": [
    "splits = TimeSeriesSplit(n_splits=3)"
   ]
  },
  {
   "cell_type": "code",
   "execution_count": 22,
   "metadata": {},
   "outputs": [],
   "source": [
    "def random_forest(features, target):\n",
    "    model_rfr = RandomForestRegressor(random_state=12345)\n",
    "    parameters = {'n_estimators': range (30,100,10), # задаем гиперпараметры: кол-во деревьев от 30 до 100 с шагом 10\n",
    "                  'min_samples_split': range (2,5,1), # задаем гиперпараметры: мин. кол-во объектов в узле от 2 до 5 с шагом 1\n",
    "                  'max_depth': range (4,11,2), # задаем гиперпараметры: максимальная глубина дерева от 4 до 10 с шагом 2\n",
    "                  'min_samples_leaf': range (1,6)} # задаем гиперпараметры: мин. кол-во объектов в листе от 1 до 5 с шагом 1                  \n",
    "    random_search =  RandomizedSearchCV(estimator = model_rfr,\n",
    "                                        param_distributions = parameters,\n",
    "                                        cv = splits,\n",
    "                                        scoring = scorer, # задаем mean_squared_error_ в качестве метрики\n",
    "                                        n_jobs=3)                                     \n",
    "    random_search.fit(features, target)\n",
    "    best_parameters = random_search.best_params_\n",
    "    best_score = random_search.best_score_\n",
    "\n",
    "    return best_parameters, best_score  "
   ]
  },
  {
   "cell_type": "code",
   "execution_count": 23,
   "metadata": {},
   "outputs": [
    {
     "name": "stdout",
     "output_type": "stream",
     "text": [
      "CPU times: user 1.49 s, sys: 84.7 ms, total: 1.57 s\n",
      "Wall time: 25.7 s\n"
     ]
    }
   ],
   "source": [
    "%%time\n",
    "params_rf, score_rf = random_forest(X_train, y_train)"
   ]
  },
  {
   "cell_type": "code",
   "execution_count": 24,
   "metadata": {},
   "outputs": [
    {
     "name": "stdout",
     "output_type": "stream",
     "text": [
      "Лучший RMSE: 28.15\n",
      "Лучшие параметры модели {'n_estimators': 50, 'min_samples_split': 2, 'min_samples_leaf': 5, 'max_depth': 8}\n"
     ]
    }
   ],
   "source": [
    "best_score_rfr = round(abs(score_rf),2)\n",
    "print('Лучший RMSE:', best_score_rfr)\n",
    "print('Лучшие параметры модели', params_rf)"
   ]
  },
  {
   "cell_type": "markdown",
   "metadata": {},
   "source": [
    "Создадим модель с найденными наилучшими параметрами, обучим и проверим на обучающей выборке:"
   ]
  },
  {
   "cell_type": "code",
   "execution_count": 25,
   "metadata": {},
   "outputs": [
    {
     "name": "stdout",
     "output_type": "stream",
     "text": [
      "RMSE: 14.655054513328238\n",
      "Time_learning: 2.07\n",
      "time_rediction: 0.03\n"
     ]
    }
   ],
   "source": [
    "rf_model =  RandomForestRegressor(random_state=12345, n_estimators = 60, min_samples_split = 2, \n",
    "                                          min_samples_leaf = 1, max_depth = 10)\n",
    "start_time = time.time()\n",
    "rf_model.fit(X_train,y_train)\n",
    "fit_time = time.time()\n",
    "predict_train = rf_model.predict(X_train)\n",
    "predict_time = time.time()\n",
    "rf_rmse = mean_squared_error_(predict_train, y_train)\n",
    "rf_fit_time = round(fit_time - start_time,2)\n",
    "rf_predict_time = round(predict_time - fit_time,2)\n",
    "print(f'RMSE:', rf_rmse) #linear_RMSE)\n",
    "print(f'Time_learning:',rf_fit_time)\n",
    "print(f'time_rediction:',rf_predict_time)"
   ]
  },
  {
   "cell_type": "markdown",
   "metadata": {},
   "source": [
    "Сохраним полученные результаты:"
   ]
  },
  {
   "cell_type": "code",
   "execution_count": 26,
   "metadata": {},
   "outputs": [
    {
     "data": {
      "text/html": [
       "<div>\n",
       "<style scoped>\n",
       "    .dataframe tbody tr th:only-of-type {\n",
       "        vertical-align: middle;\n",
       "    }\n",
       "\n",
       "    .dataframe tbody tr th {\n",
       "        vertical-align: top;\n",
       "    }\n",
       "\n",
       "    .dataframe thead th {\n",
       "        text-align: right;\n",
       "    }\n",
       "</style>\n",
       "<table border=\"1\" class=\"dataframe\">\n",
       "  <thead>\n",
       "    <tr style=\"text-align: right;\">\n",
       "      <th></th>\n",
       "      <th>name_model</th>\n",
       "      <th>score_RMSE_val</th>\n",
       "      <th>score_RMSE</th>\n",
       "      <th>time_learning</th>\n",
       "      <th>time_prediction</th>\n",
       "    </tr>\n",
       "  </thead>\n",
       "  <tbody>\n",
       "    <tr>\n",
       "      <th>0</th>\n",
       "      <td>RandomForestRegressor</td>\n",
       "      <td>28.15</td>\n",
       "      <td>14.655055</td>\n",
       "      <td>2.07</td>\n",
       "      <td>0.03</td>\n",
       "    </tr>\n",
       "  </tbody>\n",
       "</table>\n",
       "</div>"
      ],
      "text/plain": [
       "              name_model  score_RMSE_val  score_RMSE  time_learning  \\\n",
       "0  RandomForestRegressor           28.15   14.655055           2.07   \n",
       "\n",
       "   time_prediction  \n",
       "0             0.03  "
      ]
     },
     "execution_count": 26,
     "metadata": {},
     "output_type": "execute_result"
    }
   ],
   "source": [
    "results = results.append({'name_model' : 'RandomForestRegressor', 'score_RMSE_val' :best_score_rfr,\n",
    "                          'score_RMSE' : rf_rmse, 'time_learning' : rf_fit_time, 'time_prediction' : rf_predict_time},\n",
    "                         ignore_index=True)\n",
    "results"
   ]
  },
  {
   "cell_type": "markdown",
   "metadata": {},
   "source": [
    "### Реализация  LGBM Regressor"
   ]
  },
  {
   "cell_type": "markdown",
   "metadata": {},
   "source": [
    "Для LGBM Regressor выполним кросс-валидацию:"
   ]
  },
  {
   "cell_type": "code",
   "execution_count": 42,
   "metadata": {},
   "outputs": [],
   "source": [
    "lgbm_train_data = lgb.Dataset(X_train, y_train)\n",
    "params = {'learning_rate': 1,\n",
    "         'metric': 'rmse',\n",
    "         'objective': 'regression',\n",
    "         'verbosity': -1 ,\n",
    "         'max_depth':10, \"random_state\": 42, \"learning_rate\":0.1\n",
    "        }"
   ]
  },
  {
   "cell_type": "code",
   "execution_count": 43,
   "metadata": {},
   "outputs": [],
   "source": [
    "tss = TimeSeriesSplit(3) \n",
    "folds = tss.split(X_train) \n",
    "cv_results = lgb.cv(params, lgbm_train_data, num_boost_round=10, folds=folds, verbose_eval=False) \n",
    "best_cv_score = min(cv_results['rmse-mean'])"
   ]
  },
  {
   "cell_type": "code",
   "execution_count": 44,
   "metadata": {},
   "outputs": [
    {
     "name": "stdout",
     "output_type": "stream",
     "text": [
      "Лучший RMSE: 31.992560267183006\n"
     ]
    }
   ],
   "source": [
    "print('Лучший RMSE:', best_cv_score)"
   ]
  },
  {
   "cell_type": "markdown",
   "metadata": {},
   "source": [
    "Обучим модель:"
   ]
  },
  {
   "cell_type": "code",
   "execution_count": 45,
   "metadata": {},
   "outputs": [
    {
     "name": "stdout",
     "output_type": "stream",
     "text": [
      "CPU times: user 1.23 s, sys: 7.88 ms, total: 1.24 s\n",
      "Wall time: 1.13 s\n"
     ]
    }
   ],
   "source": [
    "%%time\n",
    "lgbm_model = lgb.train(params, lgbm_train_data)"
   ]
  },
  {
   "cell_type": "code",
   "execution_count": 46,
   "metadata": {},
   "outputs": [
    {
     "name": "stdout",
     "output_type": "stream",
     "text": [
      "LGBMRegressor RMSE: 12.8\n",
      "CPU times: user 37.2 ms, sys: 128 µs, total: 37.3 ms\n",
      "Wall time: 8.36 ms\n"
     ]
    }
   ],
   "source": [
    "%%time\n",
    "\n",
    "lgbm_predict = lgbm_model.predict(X_train)\n",
    "lgbm_RMSE = round(mean_squared_error(y_train, lgbm_predict)**0.5, 2)\n",
    "    \n",
    "print('LGBMRegressor RMSE:',lgbm_RMSE)"
   ]
  },
  {
   "cell_type": "markdown",
   "metadata": {},
   "source": [
    "Сохраним полученные результаты:"
   ]
  },
  {
   "cell_type": "code",
   "execution_count": 48,
   "metadata": {},
   "outputs": [
    {
     "data": {
      "text/html": [
       "<div>\n",
       "<style scoped>\n",
       "    .dataframe tbody tr th:only-of-type {\n",
       "        vertical-align: middle;\n",
       "    }\n",
       "\n",
       "    .dataframe tbody tr th {\n",
       "        vertical-align: top;\n",
       "    }\n",
       "\n",
       "    .dataframe thead th {\n",
       "        text-align: right;\n",
       "    }\n",
       "</style>\n",
       "<table border=\"1\" class=\"dataframe\">\n",
       "  <thead>\n",
       "    <tr style=\"text-align: right;\">\n",
       "      <th></th>\n",
       "      <th>name_model</th>\n",
       "      <th>score_RMSE_val</th>\n",
       "      <th>score_RMSE</th>\n",
       "      <th>time_learning</th>\n",
       "      <th>time_prediction</th>\n",
       "    </tr>\n",
       "  </thead>\n",
       "  <tbody>\n",
       "    <tr>\n",
       "      <th>0</th>\n",
       "      <td>RandomForestRegressor</td>\n",
       "      <td>28.15000</td>\n",
       "      <td>14.655055</td>\n",
       "      <td>2.07</td>\n",
       "      <td>0.03000</td>\n",
       "    </tr>\n",
       "    <tr>\n",
       "      <th>1</th>\n",
       "      <td>LGBM Regression</td>\n",
       "      <td>31.99256</td>\n",
       "      <td>12.800000</td>\n",
       "      <td>1.13</td>\n",
       "      <td>0.00836</td>\n",
       "    </tr>\n",
       "  </tbody>\n",
       "</table>\n",
       "</div>"
      ],
      "text/plain": [
       "              name_model  score_RMSE_val  score_RMSE  time_learning  \\\n",
       "0  RandomForestRegressor        28.15000   14.655055           2.07   \n",
       "1        LGBM Regression        31.99256   12.800000           1.13   \n",
       "\n",
       "   time_prediction  \n",
       "0          0.03000  \n",
       "1          0.00836  "
      ]
     },
     "execution_count": 48,
     "metadata": {},
     "output_type": "execute_result"
    }
   ],
   "source": [
    "results = results.append({'name_model' : ' LGBM Regression', 'score_RMSE_val' : best_cv_score, 'score_RMSE' : lgbm_RMSE,\n",
    "                'time_learning' : 1.13, 'time_prediction' : 0.00836}, ignore_index=True)\n",
    "results"
   ]
  },
  {
   "cell_type": "markdown",
   "metadata": {},
   "source": [
    "### Вывод"
   ]
  },
  {
   "cell_type": "markdown",
   "metadata": {},
   "source": [
    "Посмотрим результуриющую таблицу:"
   ]
  },
  {
   "cell_type": "code",
   "execution_count": 50,
   "metadata": {},
   "outputs": [
    {
     "data": {
      "text/html": [
       "<div>\n",
       "<style scoped>\n",
       "    .dataframe tbody tr th:only-of-type {\n",
       "        vertical-align: middle;\n",
       "    }\n",
       "\n",
       "    .dataframe tbody tr th {\n",
       "        vertical-align: top;\n",
       "    }\n",
       "\n",
       "    .dataframe thead th {\n",
       "        text-align: right;\n",
       "    }\n",
       "</style>\n",
       "<table border=\"1\" class=\"dataframe\">\n",
       "  <thead>\n",
       "    <tr style=\"text-align: right;\">\n",
       "      <th></th>\n",
       "      <th>name_model</th>\n",
       "      <th>score_RMSE_val</th>\n",
       "      <th>score_RMSE</th>\n",
       "      <th>time_learning</th>\n",
       "      <th>time_prediction</th>\n",
       "    </tr>\n",
       "  </thead>\n",
       "  <tbody>\n",
       "    <tr>\n",
       "      <th>0</th>\n",
       "      <td>RandomForestRegressor</td>\n",
       "      <td>28.15000</td>\n",
       "      <td>14.655055</td>\n",
       "      <td>2.07</td>\n",
       "      <td>0.03000</td>\n",
       "    </tr>\n",
       "    <tr>\n",
       "      <th>1</th>\n",
       "      <td>LGBM Regression</td>\n",
       "      <td>31.99256</td>\n",
       "      <td>12.800000</td>\n",
       "      <td>1.13</td>\n",
       "      <td>0.00836</td>\n",
       "    </tr>\n",
       "  </tbody>\n",
       "</table>\n",
       "</div>"
      ],
      "text/plain": [
       "              name_model  score_RMSE_val  score_RMSE  time_learning  \\\n",
       "0  RandomForestRegressor        28.15000   14.655055           2.07   \n",
       "1        LGBM Regression        31.99256   12.800000           1.13   \n",
       "\n",
       "   time_prediction  \n",
       "0          0.03000  \n",
       "1          0.00836  "
      ]
     },
     "execution_count": 50,
     "metadata": {},
     "output_type": "execute_result"
    }
   ],
   "source": [
    "results.sort_values('score_RMSE_val', ascending=True)"
   ]
  },
  {
   "cell_type": "markdown",
   "metadata": {},
   "source": [
    "Из таблицы сразу видно, что модель RandomForestRegressor показала лучший RMSE на кросс-валидации,но по скорости обучения  и предсказания медленнее.\n",
    "\n",
    "Протестируем данную модель."
   ]
  },
  {
   "cell_type": "markdown",
   "metadata": {},
   "source": [
    "## Тестирование"
   ]
  },
  {
   "cell_type": "markdown",
   "metadata": {},
   "source": [
    "Запустим обученную модель RandomForestRegressor на на тестовом наборе."
   ]
  },
  {
   "cell_type": "code",
   "execution_count": 51,
   "metadata": {},
   "outputs": [
    {
     "name": "stdout",
     "output_type": "stream",
     "text": [
      "RMSE: 44.322668165676426\n",
      "CPU times: user 13.9 ms, sys: 153 µs, total: 14.1 ms\n",
      "Wall time: 12.2 ms\n"
     ]
    }
   ],
   "source": [
    "%%time\n",
    "predict = rf_model.predict(X_test)\n",
    "rf_rmse = mean_squared_error_(predict, y_test)\n",
    "print(f'RMSE:', rf_rmse)\n"
   ]
  },
  {
   "cell_type": "markdown",
   "metadata": {},
   "source": [
    "Итоговые результаты RandomForestRegressor:\n",
    "\n",
    "- качество предсказания RMSE: 44.32\n",
    "- скорость предсказания: 12.2 ms"
   ]
  },
  {
   "cell_type": "code",
   "execution_count": 52,
   "metadata": {},
   "outputs": [
    {
     "data": {
      "image/png": "[encoded data removed]",
      "text/plain": [
       "<Figure size 1008x432 with 1 Axes>"
      ]
     },
     "metadata": {
      "needs_background": "light"
     },
     "output_type": "display_data"
    }
   ],
   "source": [
    "true_pred = pd.DataFrame({ \n",
    "    'y_true' : y_test,\n",
    "    'y_pred' : predict\n",
    "    })\n",
    "\n",
    "true_pred.plot(figsize=(14,6), title='Сравнение исходного и предсказанных рядов');"
   ]
  },
  {
   "cell_type": "markdown",
   "metadata": {},
   "source": [
    "Предсказания выполнены достаточно точно: графики практически дублирует друг друга. Можно заменить, что предсказания имееют меньшую амплитуду колебания, чем истинные значения. Это объясняется усреднением результатов множество решающих деревьев."
   ]
  },
  {
   "cell_type": "markdown",
   "metadata": {},
   "source": [
    "## Общий вывод¶"
   ]
  },
  {
   "cell_type": "markdown",
   "metadata": {},
   "source": [
    "В данном проекте была найдена лучшая регрессионная модель для прогнозирования количество заказов такси на следующий час для компании «Чётенькое такси».\n",
    "\n",
    "Первоначально были предоставлены данные  за период: 1.03-31.08 2018 года, в каждой строке было записано количество заказов за 10 минут. Был выполнен почасовой ресеймплинг, для удобства дальнейшей анализа. \n",
    "\n",
    "Разложив временной ряд на тренд и сезонную компоненту, было выявлено:\n",
    " - тренд по кол-ву заказов растущий;\n",
    " - сезонности по месяцам у такси нет;\n",
    " - сезонность выражена в заказах внутри дня, по часам.\n"
   ]
  },
  {
   "cell_type": "markdown",
   "metadata": {},
   "source": [
    "Создали новые признаки:\n",
    "- четыре календарных признака: год, месяц, день и день недели;\n",
    "- получили отстающие значения знакомой функцией shift (максимальный размер отставания 20);\n",
    "- вычислили скользящее среднее (ширина окна 24).\n",
    "\n",
    "Разбили выборку на обучающую и тестовую (90/10). \n",
    "\n",
    "Были обучены 2 модели:\n",
    "- RandomForestRegressor\n",
    "- LGBMRegressor.\n",
    "\n",
    "Для каждой из моделей было измерено:\n",
    "- качество предсказания (RMSE);\n",
    "- время обучения (время выполнения fit);\n",
    "- скорость предсказания (время выполнения predict).\n",
    "\n",
    "На валидационной выборке лучший RMSE показала модель RandomForestRegressor, для которой было выполнено тестирование. \n",
    "Значение метрики RMSE на тестовой выборке должно быть не больше 48 - метрика достигнута.\n",
    "\n",
    "**Рекомендую к использованию RandomForestRegressor, так как модель удовлетворяет заявленной оценки.**"
   ]
  }
 ],
 "metadata": {
  "ExecuteTimeLog": [
   {
    "duration": 1769,
    "start_time": "2022-07-06T16:56:12.325Z"
   },
   {
    "duration": 108,
    "start_time": "2022-07-06T16:56:47.836Z"
   },
   {
    "duration": 58,
    "start_time": "2022-07-06T16:58:07.823Z"
   },
   {
    "duration": 16,
    "start_time": "2022-07-06T16:58:27.494Z"
   },
   {
    "duration": 76,
    "start_time": "2022-07-06T16:59:11.501Z"
   },
   {
    "duration": 124,
    "start_time": "2022-07-06T17:05:52.753Z"
   },
   {
    "duration": 7,
    "start_time": "2022-07-06T17:06:06.391Z"
   },
   {
    "duration": 10,
    "start_time": "2022-07-06T17:12:06.987Z"
   },
   {
    "duration": 6,
    "start_time": "2022-07-06T17:12:11.691Z"
   },
   {
    "duration": 9,
    "start_time": "2022-07-06T17:16:43.007Z"
   },
   {
    "duration": 19,
    "start_time": "2022-07-06T17:16:57.040Z"
   },
   {
    "duration": 10,
    "start_time": "2022-07-06T17:17:56.962Z"
   },
   {
    "duration": 19,
    "start_time": "2022-07-06T17:18:03.563Z"
   },
   {
    "duration": 17,
    "start_time": "2022-07-06T17:18:40.326Z"
   },
   {
    "duration": 10,
    "start_time": "2022-07-06T17:19:09.750Z"
   },
   {
    "duration": 10,
    "start_time": "2022-07-06T17:24:58.575Z"
   },
   {
    "duration": 263,
    "start_time": "2022-07-06T17:25:01.500Z"
   },
   {
    "duration": 752,
    "start_time": "2022-07-06T17:42:49.856Z"
   },
   {
    "duration": 8,
    "start_time": "2022-07-06T17:43:05.057Z"
   },
   {
    "duration": 354,
    "start_time": "2022-07-06T17:43:50.258Z"
   },
   {
    "duration": 15,
    "start_time": "2022-07-06T17:56:19.677Z"
   },
   {
    "duration": 9,
    "start_time": "2022-07-06T17:57:20.222Z"
   },
   {
    "duration": 21,
    "start_time": "2022-07-06T17:58:12.644Z"
   },
   {
    "duration": 748,
    "start_time": "2022-07-06T17:59:09.142Z"
   },
   {
    "duration": 217,
    "start_time": "2022-07-06T18:08:07.269Z"
   },
   {
    "duration": 130,
    "start_time": "2022-07-06T18:08:57.092Z"
   },
   {
    "duration": 208,
    "start_time": "2022-07-06T18:11:10.235Z"
   },
   {
    "duration": 176,
    "start_time": "2022-07-06T18:11:28.473Z"
   },
   {
    "duration": 129,
    "start_time": "2022-07-06T18:11:34.704Z"
   },
   {
    "duration": 190,
    "start_time": "2022-07-06T18:13:11.047Z"
   },
   {
    "duration": 147,
    "start_time": "2022-07-06T18:16:40.787Z"
   },
   {
    "duration": 167,
    "start_time": "2022-07-06T18:16:49.904Z"
   },
   {
    "duration": 291,
    "start_time": "2022-07-06T18:16:56.615Z"
   },
   {
    "duration": 162,
    "start_time": "2022-07-06T18:45:45.695Z"
   },
   {
    "duration": 224,
    "start_time": "2022-07-06T18:47:33.657Z"
   },
   {
    "duration": 11,
    "start_time": "2022-07-06T18:50:47.569Z"
   },
   {
    "duration": 187,
    "start_time": "2022-07-06T18:51:00.718Z"
   },
   {
    "duration": 272,
    "start_time": "2022-07-06T19:16:00.651Z"
   },
   {
    "duration": 155,
    "start_time": "2022-07-06T19:16:24.877Z"
   },
   {
    "duration": 204,
    "start_time": "2022-07-06T19:16:37.555Z"
   },
   {
    "duration": 174,
    "start_time": "2022-07-06T19:17:07.767Z"
   },
   {
    "duration": 183,
    "start_time": "2022-07-06T19:17:49.581Z"
   },
   {
    "duration": 190,
    "start_time": "2022-07-06T19:19:08.755Z"
   },
   {
    "duration": 159,
    "start_time": "2022-07-06T19:23:09.421Z"
   },
   {
    "duration": 188,
    "start_time": "2022-07-06T19:24:48.815Z"
   },
   {
    "duration": 10,
    "start_time": "2022-07-06T19:29:18.445Z"
   },
   {
    "duration": 10,
    "start_time": "2022-07-06T19:29:22.306Z"
   },
   {
    "duration": 206,
    "start_time": "2022-07-06T19:29:25.190Z"
   },
   {
    "duration": 390,
    "start_time": "2022-07-06T19:29:36.618Z"
   },
   {
    "duration": 262,
    "start_time": "2022-07-06T19:29:41.850Z"
   },
   {
    "duration": 2,
    "start_time": "2022-07-06T19:30:59.955Z"
   },
   {
    "duration": 3,
    "start_time": "2022-07-06T19:35:42.337Z"
   },
   {
    "duration": 1073,
    "start_time": "2022-07-06T19:35:54.478Z"
   },
   {
    "duration": 4,
    "start_time": "2022-07-06T19:36:19.507Z"
   },
   {
    "duration": 91,
    "start_time": "2022-07-06T19:36:19.513Z"
   },
   {
    "duration": 6,
    "start_time": "2022-07-06T19:36:19.606Z"
   },
   {
    "duration": 29,
    "start_time": "2022-07-06T19:36:19.615Z"
   },
   {
    "duration": 15,
    "start_time": "2022-07-06T19:36:19.646Z"
   },
   {
    "duration": 24,
    "start_time": "2022-07-06T19:36:19.663Z"
   },
   {
    "duration": 8,
    "start_time": "2022-07-06T19:36:19.689Z"
   },
   {
    "duration": 345,
    "start_time": "2022-07-06T19:36:19.699Z"
   },
   {
    "duration": 622,
    "start_time": "2022-07-06T19:36:20.047Z"
   },
   {
    "duration": 204,
    "start_time": "2022-07-06T19:36:20.671Z"
   },
   {
    "duration": 203,
    "start_time": "2022-07-06T19:36:20.877Z"
   },
   {
    "duration": 4,
    "start_time": "2022-07-06T19:36:22.915Z"
   },
   {
    "duration": 7,
    "start_time": "2022-07-06T19:36:30.598Z"
   },
   {
    "duration": 3,
    "start_time": "2022-07-06T19:37:16.780Z"
   },
   {
    "duration": 120,
    "start_time": "2022-07-06T19:37:16.785Z"
   },
   {
    "duration": 5,
    "start_time": "2022-07-06T19:37:16.907Z"
   },
   {
    "duration": 18,
    "start_time": "2022-07-06T19:37:16.914Z"
   },
   {
    "duration": 41,
    "start_time": "2022-07-06T19:37:16.935Z"
   },
   {
    "duration": 18,
    "start_time": "2022-07-06T19:37:16.978Z"
   },
   {
    "duration": 7,
    "start_time": "2022-07-06T19:37:16.998Z"
   },
   {
    "duration": 504,
    "start_time": "2022-07-06T19:37:17.006Z"
   },
   {
    "duration": 727,
    "start_time": "2022-07-06T19:37:17.513Z"
   },
   {
    "duration": 230,
    "start_time": "2022-07-06T19:37:18.242Z"
   },
   {
    "duration": 180,
    "start_time": "2022-07-06T19:37:18.474Z"
   },
   {
    "duration": 4,
    "start_time": "2022-07-06T19:37:19.515Z"
   },
   {
    "duration": 9,
    "start_time": "2022-07-06T19:37:40.876Z"
   },
   {
    "duration": 4,
    "start_time": "2022-07-06T19:41:14.186Z"
   },
   {
    "duration": 42,
    "start_time": "2022-07-06T19:42:04.961Z"
   },
   {
    "duration": 5,
    "start_time": "2022-07-06T19:43:30.238Z"
   },
   {
    "duration": 89,
    "start_time": "2022-07-06T19:43:30.245Z"
   },
   {
    "duration": 6,
    "start_time": "2022-07-06T19:43:30.335Z"
   },
   {
    "duration": 22,
    "start_time": "2022-07-06T19:43:30.343Z"
   },
   {
    "duration": 18,
    "start_time": "2022-07-06T19:43:30.366Z"
   },
   {
    "duration": 23,
    "start_time": "2022-07-06T19:43:30.386Z"
   },
   {
    "duration": 12,
    "start_time": "2022-07-06T19:43:30.410Z"
   },
   {
    "duration": 285,
    "start_time": "2022-07-06T19:43:30.424Z"
   },
   {
    "duration": 597,
    "start_time": "2022-07-06T19:43:30.711Z"
   },
   {
    "duration": 317,
    "start_time": "2022-07-06T19:43:31.309Z"
   },
   {
    "duration": 175,
    "start_time": "2022-07-06T19:43:31.627Z"
   },
   {
    "duration": 7,
    "start_time": "2022-07-06T19:43:31.805Z"
   },
   {
    "duration": 28,
    "start_time": "2022-07-06T19:43:34.232Z"
   },
   {
    "duration": 51,
    "start_time": "2022-07-06T19:43:41.331Z"
   },
   {
    "duration": 10,
    "start_time": "2022-07-06T19:44:19.556Z"
   },
   {
    "duration": 4,
    "start_time": "2022-07-06T19:45:14.003Z"
   },
   {
    "duration": 93,
    "start_time": "2022-07-06T19:45:14.010Z"
   },
   {
    "duration": 6,
    "start_time": "2022-07-06T19:45:14.105Z"
   },
   {
    "duration": 16,
    "start_time": "2022-07-06T19:45:14.113Z"
   },
   {
    "duration": 15,
    "start_time": "2022-07-06T19:45:14.132Z"
   },
   {
    "duration": 33,
    "start_time": "2022-07-06T19:45:14.150Z"
   },
   {
    "duration": 9,
    "start_time": "2022-07-06T19:45:14.185Z"
   },
   {
    "duration": 447,
    "start_time": "2022-07-06T19:45:14.196Z"
   },
   {
    "duration": 603,
    "start_time": "2022-07-06T19:45:14.645Z"
   },
   {
    "duration": 189,
    "start_time": "2022-07-06T19:45:15.250Z"
   },
   {
    "duration": 162,
    "start_time": "2022-07-06T19:45:15.441Z"
   },
   {
    "duration": 18,
    "start_time": "2022-07-06T19:45:15.606Z"
   },
   {
    "duration": 7,
    "start_time": "2022-07-06T19:45:15.626Z"
   },
   {
    "duration": 63,
    "start_time": "2022-07-06T19:45:15.634Z"
   },
   {
    "duration": 45,
    "start_time": "2022-07-06T19:45:28.014Z"
   },
   {
    "duration": 17,
    "start_time": "2022-07-06T19:45:58.756Z"
   },
   {
    "duration": 14,
    "start_time": "2022-07-06T19:47:19.658Z"
   },
   {
    "duration": 6,
    "start_time": "2022-07-06T19:47:36.838Z"
   },
   {
    "duration": 5,
    "start_time": "2022-07-06T19:48:01.312Z"
   },
   {
    "duration": 16,
    "start_time": "2022-07-06T19:48:02.362Z"
   },
   {
    "duration": 16,
    "start_time": "2022-07-06T19:48:03.688Z"
   },
   {
    "duration": 7,
    "start_time": "2022-07-06T19:48:05.849Z"
   },
   {
    "duration": 6,
    "start_time": "2022-07-06T19:48:58.073Z"
   },
   {
    "duration": 25,
    "start_time": "2022-07-06T19:48:58.606Z"
   },
   {
    "duration": 6,
    "start_time": "2022-07-06T19:49:06.957Z"
   },
   {
    "duration": 93,
    "start_time": "2022-07-06T19:49:06.966Z"
   },
   {
    "duration": 8,
    "start_time": "2022-07-06T19:49:07.062Z"
   },
   {
    "duration": 20,
    "start_time": "2022-07-06T19:49:07.072Z"
   },
   {
    "duration": 8,
    "start_time": "2022-07-06T19:49:07.096Z"
   },
   {
    "duration": 42,
    "start_time": "2022-07-06T19:49:07.125Z"
   },
   {
    "duration": 17,
    "start_time": "2022-07-06T19:49:07.169Z"
   },
   {
    "duration": 437,
    "start_time": "2022-07-06T19:49:07.188Z"
   },
   {
    "duration": 804,
    "start_time": "2022-07-06T19:49:07.630Z"
   },
   {
    "duration": 206,
    "start_time": "2022-07-06T19:49:08.438Z"
   },
   {
    "duration": 205,
    "start_time": "2022-07-06T19:49:08.646Z"
   },
   {
    "duration": 9,
    "start_time": "2022-07-06T19:49:08.858Z"
   },
   {
    "duration": 6,
    "start_time": "2022-07-06T19:49:18.457Z"
   },
   {
    "duration": 33,
    "start_time": "2022-07-06T19:49:19.949Z"
   },
   {
    "duration": 4,
    "start_time": "2022-07-06T19:49:21.064Z"
   },
   {
    "duration": 6,
    "start_time": "2022-07-06T19:49:22.679Z"
   },
   {
    "duration": 38,
    "start_time": "2022-07-06T19:49:43.870Z"
   },
   {
    "duration": 6,
    "start_time": "2022-07-06T19:49:56.976Z"
   },
   {
    "duration": 13,
    "start_time": "2022-07-06T19:53:03.893Z"
   },
   {
    "duration": 16,
    "start_time": "2022-07-06T19:53:51.135Z"
   },
   {
    "duration": 3,
    "start_time": "2022-07-06T19:53:57.207Z"
   },
   {
    "duration": 78,
    "start_time": "2022-07-06T19:53:57.213Z"
   },
   {
    "duration": 5,
    "start_time": "2022-07-06T19:53:57.293Z"
   },
   {
    "duration": 13,
    "start_time": "2022-07-06T19:53:57.299Z"
   },
   {
    "duration": 20,
    "start_time": "2022-07-06T19:53:57.314Z"
   },
   {
    "duration": 23,
    "start_time": "2022-07-06T19:53:57.336Z"
   },
   {
    "duration": 6,
    "start_time": "2022-07-06T19:53:57.361Z"
   },
   {
    "duration": 300,
    "start_time": "2022-07-06T19:53:57.368Z"
   },
   {
    "duration": 585,
    "start_time": "2022-07-06T19:53:57.670Z"
   },
   {
    "duration": 182,
    "start_time": "2022-07-06T19:53:58.257Z"
   },
   {
    "duration": 150,
    "start_time": "2022-07-06T19:53:58.441Z"
   },
   {
    "duration": 9,
    "start_time": "2022-07-06T19:54:01.421Z"
   },
   {
    "duration": 4,
    "start_time": "2022-07-06T19:54:07.889Z"
   },
   {
    "duration": 34,
    "start_time": "2022-07-06T19:54:08.899Z"
   },
   {
    "duration": 4,
    "start_time": "2022-07-06T19:54:09.891Z"
   },
   {
    "duration": 9,
    "start_time": "2022-07-06T19:54:18.433Z"
   },
   {
    "duration": 4,
    "start_time": "2022-07-06T19:54:42.660Z"
   },
   {
    "duration": 37,
    "start_time": "2022-07-06T19:56:16.880Z"
   },
   {
    "duration": 7,
    "start_time": "2022-07-06T19:58:12.920Z"
   },
   {
    "duration": 58,
    "start_time": "2022-07-06T20:00:11.351Z"
   },
   {
    "duration": 54,
    "start_time": "2022-07-06T20:00:47.744Z"
   },
   {
    "duration": 24,
    "start_time": "2022-07-06T20:01:03.978Z"
   },
   {
    "duration": 5,
    "start_time": "2022-07-06T20:01:08.780Z"
   },
   {
    "duration": 12,
    "start_time": "2022-07-06T20:01:09.657Z"
   },
   {
    "duration": 9,
    "start_time": "2022-07-06T20:01:34.792Z"
   },
   {
    "duration": 1702,
    "start_time": "2022-07-07T18:46:09.825Z"
   },
   {
    "duration": 220,
    "start_time": "2022-07-07T18:46:11.529Z"
   },
   {
    "duration": 5,
    "start_time": "2022-07-07T18:46:11.751Z"
   },
   {
    "duration": 52,
    "start_time": "2022-07-07T18:46:11.759Z"
   },
   {
    "duration": 6,
    "start_time": "2022-07-07T18:46:11.813Z"
   },
   {
    "duration": 20,
    "start_time": "2022-07-07T18:46:11.820Z"
   },
   {
    "duration": 7,
    "start_time": "2022-07-07T18:46:11.844Z"
   },
   {
    "duration": 377,
    "start_time": "2022-07-07T18:46:11.853Z"
   },
   {
    "duration": 866,
    "start_time": "2022-07-07T18:46:12.232Z"
   },
   {
    "duration": 197,
    "start_time": "2022-07-07T18:46:13.101Z"
   },
   {
    "duration": 139,
    "start_time": "2022-07-07T18:46:13.300Z"
   },
   {
    "duration": 8,
    "start_time": "2022-07-07T18:46:13.441Z"
   },
   {
    "duration": 38,
    "start_time": "2022-07-07T18:46:13.452Z"
   },
   {
    "duration": 29,
    "start_time": "2022-07-07T18:46:13.492Z"
   },
   {
    "duration": 3,
    "start_time": "2022-07-07T18:46:13.522Z"
   },
   {
    "duration": 59,
    "start_time": "2022-07-07T18:46:13.527Z"
   },
   {
    "duration": 6,
    "start_time": "2022-07-07T18:46:13.588Z"
   },
   {
    "duration": 6,
    "start_time": "2022-07-07T18:46:13.595Z"
   },
   {
    "duration": 7,
    "start_time": "2022-07-07T18:51:59.899Z"
   },
   {
    "duration": 55,
    "start_time": "2022-07-07T19:02:58.760Z"
   },
   {
    "duration": 8,
    "start_time": "2022-07-07T19:03:29.668Z"
   },
   {
    "duration": 6,
    "start_time": "2022-07-07T19:06:59.368Z"
   },
   {
    "duration": 4,
    "start_time": "2022-07-07T19:07:26.639Z"
   },
   {
    "duration": 5,
    "start_time": "2022-07-07T19:07:30.026Z"
   },
   {
    "duration": 175,
    "start_time": "2022-07-07T19:07:53.964Z"
   },
   {
    "duration": 92,
    "start_time": "2022-07-07T19:08:23.529Z"
   },
   {
    "duration": 727,
    "start_time": "2022-07-07T19:09:56.269Z"
   },
   {
    "duration": 15214,
    "start_time": "2022-07-07T19:10:57.368Z"
   },
   {
    "duration": 185,
    "start_time": "2022-07-07T19:12:13.306Z"
   },
   {
    "duration": 3,
    "start_time": "2022-07-07T19:18:30.629Z"
   },
   {
    "duration": 69,
    "start_time": "2022-07-07T19:18:30.634Z"
   },
   {
    "duration": 4,
    "start_time": "2022-07-07T19:18:30.705Z"
   },
   {
    "duration": 25,
    "start_time": "2022-07-07T19:18:30.710Z"
   },
   {
    "duration": 20,
    "start_time": "2022-07-07T19:18:30.737Z"
   },
   {
    "duration": 26,
    "start_time": "2022-07-07T19:18:30.758Z"
   },
   {
    "duration": 10,
    "start_time": "2022-07-07T19:18:30.786Z"
   },
   {
    "duration": 257,
    "start_time": "2022-07-07T19:18:30.797Z"
   },
   {
    "duration": 589,
    "start_time": "2022-07-07T19:18:31.055Z"
   },
   {
    "duration": 157,
    "start_time": "2022-07-07T19:18:31.645Z"
   },
   {
    "duration": 228,
    "start_time": "2022-07-07T19:18:31.804Z"
   },
   {
    "duration": 12,
    "start_time": "2022-07-07T19:18:32.034Z"
   },
   {
    "duration": 7,
    "start_time": "2022-07-07T19:18:32.048Z"
   },
   {
    "duration": 29,
    "start_time": "2022-07-07T19:18:32.057Z"
   },
   {
    "duration": 3,
    "start_time": "2022-07-07T19:18:32.087Z"
   },
   {
    "duration": 31,
    "start_time": "2022-07-07T19:18:32.092Z"
   },
   {
    "duration": 35,
    "start_time": "2022-07-07T19:18:32.125Z"
   },
   {
    "duration": 4,
    "start_time": "2022-07-07T19:18:32.162Z"
   },
   {
    "duration": 8,
    "start_time": "2022-07-07T19:18:32.168Z"
   },
   {
    "duration": 7,
    "start_time": "2022-07-07T19:18:36.723Z"
   },
   {
    "duration": 28486,
    "start_time": "2022-07-07T19:18:39.120Z"
   },
   {
    "duration": 10,
    "start_time": "2022-07-07T19:23:34.135Z"
   },
   {
    "duration": 3,
    "start_time": "2022-07-07T19:23:59.713Z"
   },
   {
    "duration": 50,
    "start_time": "2022-07-07T19:29:25.955Z"
   },
   {
    "duration": 62,
    "start_time": "2022-07-07T19:29:33.258Z"
   },
   {
    "duration": 68,
    "start_time": "2022-07-07T19:35:10.610Z"
   },
   {
    "duration": 3,
    "start_time": "2022-07-07T19:37:13.128Z"
   },
   {
    "duration": 2,
    "start_time": "2022-07-07T19:37:17.519Z"
   },
   {
    "duration": 30690,
    "start_time": "2022-07-07T19:37:29.683Z"
   },
   {
    "duration": 29642,
    "start_time": "2022-07-07T19:39:19.433Z"
   },
   {
    "duration": 4,
    "start_time": "2022-07-07T19:40:14.703Z"
   },
   {
    "duration": 4,
    "start_time": "2022-07-07T19:40:32.326Z"
   },
   {
    "duration": 3,
    "start_time": "2022-07-07T19:42:21.089Z"
   },
   {
    "duration": 3,
    "start_time": "2022-07-07T19:43:10.813Z"
   },
   {
    "duration": 28824,
    "start_time": "2022-07-07T19:43:20.878Z"
   },
   {
    "duration": 3,
    "start_time": "2022-07-07T19:44:01.189Z"
   },
   {
    "duration": 4,
    "start_time": "2022-07-07T19:44:04.198Z"
   },
   {
    "duration": 4,
    "start_time": "2022-07-07T19:45:43.292Z"
   },
   {
    "duration": 55,
    "start_time": "2022-07-07T19:54:58.019Z"
   },
   {
    "duration": 8,
    "start_time": "2022-07-07T19:55:33.137Z"
   },
   {
    "duration": 58,
    "start_time": "2022-07-07T19:55:46.620Z"
   },
   {
    "duration": 3,
    "start_time": "2022-07-07T19:56:12.129Z"
   },
   {
    "duration": 67,
    "start_time": "2022-07-07T19:56:13.060Z"
   },
   {
    "duration": 6,
    "start_time": "2022-07-07T19:58:14.577Z"
   },
   {
    "duration": 3,
    "start_time": "2022-07-07T20:00:01.395Z"
   },
   {
    "duration": 43325,
    "start_time": "2022-07-07T20:00:59.930Z"
   },
   {
    "duration": 4,
    "start_time": "2022-07-07T20:01:43.258Z"
   },
   {
    "duration": 50,
    "start_time": "2022-07-08T14:02:51.177Z"
   },
   {
    "duration": 2472,
    "start_time": "2022-07-08T14:11:16.356Z"
   },
   {
    "duration": 289,
    "start_time": "2022-07-08T14:11:18.830Z"
   },
   {
    "duration": 8,
    "start_time": "2022-07-08T14:11:19.120Z"
   },
   {
    "duration": 15,
    "start_time": "2022-07-08T14:11:19.131Z"
   },
   {
    "duration": 7,
    "start_time": "2022-07-08T14:11:19.149Z"
   },
   {
    "duration": 74,
    "start_time": "2022-07-08T14:11:19.158Z"
   },
   {
    "duration": 9,
    "start_time": "2022-07-08T14:11:19.235Z"
   },
   {
    "duration": 444,
    "start_time": "2022-07-08T14:11:19.247Z"
   },
   {
    "duration": 825,
    "start_time": "2022-07-08T14:11:19.693Z"
   },
   {
    "duration": 222,
    "start_time": "2022-07-08T14:11:20.520Z"
   },
   {
    "duration": 211,
    "start_time": "2022-07-08T14:11:20.744Z"
   },
   {
    "duration": 9,
    "start_time": "2022-07-08T14:11:20.960Z"
   },
   {
    "duration": 43,
    "start_time": "2022-07-08T14:11:20.971Z"
   },
   {
    "duration": 37,
    "start_time": "2022-07-08T14:11:21.017Z"
   },
   {
    "duration": 4,
    "start_time": "2022-07-08T14:11:21.057Z"
   },
   {
    "duration": 90,
    "start_time": "2022-07-08T14:11:21.063Z"
   },
   {
    "duration": 25,
    "start_time": "2022-07-08T14:11:21.154Z"
   },
   {
    "duration": 25,
    "start_time": "2022-07-08T14:11:21.182Z"
   },
   {
    "duration": 11,
    "start_time": "2022-07-08T14:11:21.209Z"
   },
   {
    "duration": 15,
    "start_time": "2022-07-08T14:11:21.222Z"
   },
   {
    "duration": 10,
    "start_time": "2022-07-08T14:11:21.240Z"
   },
   {
    "duration": 43259,
    "start_time": "2022-07-08T14:11:21.253Z"
   },
   {
    "duration": 5,
    "start_time": "2022-07-08T14:13:50.534Z"
   },
   {
    "duration": 2338,
    "start_time": "2022-07-08T14:25:08.380Z"
   },
   {
    "duration": 2200,
    "start_time": "2022-07-08T14:26:38.314Z"
   },
   {
    "duration": 13,
    "start_time": "2022-07-08T14:28:26.643Z"
   },
   {
    "duration": 13,
    "start_time": "2022-07-08T14:34:15.369Z"
   },
   {
    "duration": 4,
    "start_time": "2022-07-08T14:34:45.327Z"
   },
   {
    "duration": 5,
    "start_time": "2022-07-08T14:34:49.604Z"
   },
   {
    "duration": 14,
    "start_time": "2022-07-08T14:34:50.520Z"
   },
   {
    "duration": 5,
    "start_time": "2022-07-08T14:35:22.826Z"
   },
   {
    "duration": 5,
    "start_time": "2022-07-08T14:35:26.335Z"
   },
   {
    "duration": 12,
    "start_time": "2022-07-08T14:35:27.101Z"
   },
   {
    "duration": 13,
    "start_time": "2022-07-08T14:36:25.369Z"
   },
   {
    "duration": 4,
    "start_time": "2022-07-08T14:36:26.737Z"
   },
   {
    "duration": 16,
    "start_time": "2022-07-08T14:36:27.528Z"
   },
   {
    "duration": 3,
    "start_time": "2022-07-08T14:37:11.581Z"
   },
   {
    "duration": 4,
    "start_time": "2022-07-08T14:37:12.422Z"
   },
   {
    "duration": 16,
    "start_time": "2022-07-08T14:37:13.108Z"
   },
   {
    "duration": 2068552,
    "start_time": "2022-07-08T14:37:23.812Z"
   },
   {
    "duration": 0,
    "start_time": "2022-07-08T15:11:52.366Z"
   },
   {
    "duration": 0,
    "start_time": "2022-07-08T15:11:52.368Z"
   },
   {
    "duration": 0,
    "start_time": "2022-07-08T15:11:52.370Z"
   },
   {
    "duration": 0,
    "start_time": "2022-07-08T15:11:52.372Z"
   },
   {
    "duration": 6,
    "start_time": "2022-07-08T15:11:55.626Z"
   },
   {
    "duration": 8938,
    "start_time": "2022-07-08T15:11:58.756Z"
   },
   {
    "duration": 429838,
    "start_time": "2022-07-08T15:12:16.089Z"
   },
   {
    "duration": 4,
    "start_time": "2022-07-08T15:22:33.211Z"
   },
   {
    "duration": 212998,
    "start_time": "2022-07-08T15:22:34.406Z"
   },
   {
    "duration": 5,
    "start_time": "2022-07-08T15:26:07.407Z"
   },
   {
    "duration": 38784,
    "start_time": "2022-07-08T15:26:44.403Z"
   },
   {
    "duration": 5,
    "start_time": "2022-07-08T15:27:23.190Z"
   },
   {
    "duration": 5,
    "start_time": "2022-07-08T15:28:01.496Z"
   },
   {
    "duration": 87,
    "start_time": "2022-07-08T15:28:01.503Z"
   },
   {
    "duration": 6,
    "start_time": "2022-07-08T15:28:01.592Z"
   },
   {
    "duration": 22,
    "start_time": "2022-07-08T15:28:01.601Z"
   },
   {
    "duration": 16,
    "start_time": "2022-07-08T15:28:01.625Z"
   },
   {
    "duration": 38,
    "start_time": "2022-07-08T15:28:01.643Z"
   },
   {
    "duration": 7,
    "start_time": "2022-07-08T15:28:01.683Z"
   },
   {
    "duration": 288,
    "start_time": "2022-07-08T15:28:01.691Z"
   },
   {
    "duration": 580,
    "start_time": "2022-07-08T15:28:01.981Z"
   },
   {
    "duration": 289,
    "start_time": "2022-07-08T15:28:02.562Z"
   },
   {
    "duration": 185,
    "start_time": "2022-07-08T15:28:02.853Z"
   },
   {
    "duration": 6,
    "start_time": "2022-07-08T15:28:03.040Z"
   },
   {
    "duration": 14,
    "start_time": "2022-07-08T15:28:03.060Z"
   },
   {
    "duration": 41,
    "start_time": "2022-07-08T15:28:03.075Z"
   },
   {
    "duration": 3,
    "start_time": "2022-07-08T15:28:03.118Z"
   },
   {
    "duration": 43,
    "start_time": "2022-07-08T15:28:03.123Z"
   },
   {
    "duration": 10,
    "start_time": "2022-07-08T15:28:03.168Z"
   },
   {
    "duration": 23,
    "start_time": "2022-07-08T15:28:03.180Z"
   },
   {
    "duration": 17,
    "start_time": "2022-07-08T15:28:03.204Z"
   },
   {
    "duration": 20,
    "start_time": "2022-07-08T15:28:03.223Z"
   },
   {
    "duration": 19,
    "start_time": "2022-07-08T15:28:03.245Z"
   },
   {
    "duration": 28,
    "start_time": "2022-07-08T15:28:03.265Z"
   },
   {
    "duration": 903,
    "start_time": "2022-07-08T15:28:03.295Z"
   },
   {
    "duration": 9,
    "start_time": "2022-07-08T15:28:04.201Z"
   },
   {
    "duration": 1,
    "start_time": "2022-07-08T15:28:04.211Z"
   },
   {
    "duration": 0,
    "start_time": "2022-07-08T15:28:04.213Z"
   },
   {
    "duration": 0,
    "start_time": "2022-07-08T15:28:04.215Z"
   },
   {
    "duration": 51848,
    "start_time": "2022-07-08T15:28:27.778Z"
   },
   {
    "duration": 6,
    "start_time": "2022-07-08T15:32:24.261Z"
   },
   {
    "duration": 14,
    "start_time": "2022-07-08T15:32:38.063Z"
   },
   {
    "duration": 46505,
    "start_time": "2022-07-08T15:32:53.844Z"
   },
   {
    "duration": 5,
    "start_time": "2022-07-08T15:39:26.417Z"
   },
   {
    "duration": 6,
    "start_time": "2022-07-08T15:39:39.459Z"
   },
   {
    "duration": 5,
    "start_time": "2022-07-08T15:40:01.705Z"
   },
   {
    "duration": 4,
    "start_time": "2022-07-08T15:40:20.461Z"
   },
   {
    "duration": 5,
    "start_time": "2022-07-08T15:40:34.521Z"
   },
   {
    "duration": 2192,
    "start_time": "2022-07-08T15:40:36.606Z"
   },
   {
    "duration": 15,
    "start_time": "2022-07-08T15:40:40.248Z"
   },
   {
    "duration": 4,
    "start_time": "2022-07-08T15:41:49.430Z"
   },
   {
    "duration": 6,
    "start_time": "2022-07-08T15:43:20.919Z"
   },
   {
    "duration": 111336,
    "start_time": "2022-07-08T15:43:21.744Z"
   },
   {
    "duration": 4,
    "start_time": "2022-07-08T15:45:22.738Z"
   },
   {
    "duration": 13,
    "start_time": "2022-07-08T15:45:23.800Z"
   },
   {
    "duration": 4918387,
    "start_time": "2022-07-08T15:45:32.490Z"
   },
   {
    "duration": 82,
    "start_time": "2022-07-08T17:07:30.880Z"
   },
   {
    "duration": 10651,
    "start_time": "2022-07-08T17:49:54.249Z"
   },
   {
    "duration": 41879,
    "start_time": "2022-07-08T17:50:18.185Z"
   },
   {
    "duration": 96,
    "start_time": "2022-07-08T17:52:17.513Z"
   },
   {
    "duration": 18,
    "start_time": "2022-07-08T17:53:07.920Z"
   },
   {
    "duration": 17,
    "start_time": "2022-07-08T17:54:11.402Z"
   },
   {
    "duration": 11,
    "start_time": "2022-07-08T17:55:07.197Z"
   },
   {
    "duration": 27,
    "start_time": "2022-07-08T18:00:58.793Z"
   },
   {
    "duration": 138,
    "start_time": "2022-07-08T18:01:57.585Z"
   },
   {
    "duration": 1636,
    "start_time": "2022-07-09T13:59:34.400Z"
   },
   {
    "duration": 197,
    "start_time": "2022-07-09T13:59:36.038Z"
   },
   {
    "duration": 5,
    "start_time": "2022-07-09T13:59:36.236Z"
   },
   {
    "duration": 13,
    "start_time": "2022-07-09T13:59:36.243Z"
   },
   {
    "duration": 4,
    "start_time": "2022-07-09T13:59:36.258Z"
   },
   {
    "duration": 19,
    "start_time": "2022-07-09T13:59:36.264Z"
   },
   {
    "duration": 19,
    "start_time": "2022-07-09T13:59:36.285Z"
   },
   {
    "duration": 292,
    "start_time": "2022-07-09T13:59:36.305Z"
   },
   {
    "duration": 727,
    "start_time": "2022-07-09T13:59:36.599Z"
   },
   {
    "duration": 167,
    "start_time": "2022-07-09T13:59:37.328Z"
   },
   {
    "duration": 142,
    "start_time": "2022-07-09T13:59:37.497Z"
   },
   {
    "duration": 6,
    "start_time": "2022-07-09T13:59:37.640Z"
   },
   {
    "duration": 11,
    "start_time": "2022-07-09T13:59:37.647Z"
   },
   {
    "duration": 26,
    "start_time": "2022-07-09T13:59:37.659Z"
   },
   {
    "duration": 3,
    "start_time": "2022-07-09T13:59:37.686Z"
   },
   {
    "duration": 45,
    "start_time": "2022-07-09T13:59:37.691Z"
   },
   {
    "duration": 11,
    "start_time": "2022-07-09T13:59:37.737Z"
   },
   {
    "duration": 6,
    "start_time": "2022-07-09T13:59:37.749Z"
   },
   {
    "duration": 31,
    "start_time": "2022-07-09T13:59:37.757Z"
   },
   {
    "duration": 22,
    "start_time": "2022-07-09T13:59:37.789Z"
   },
   {
    "duration": 3,
    "start_time": "2022-07-09T13:59:46.748Z"
   },
   {
    "duration": 5,
    "start_time": "2022-07-09T13:59:48.597Z"
   },
   {
    "duration": 32875,
    "start_time": "2022-07-09T13:59:50.093Z"
   },
   {
    "duration": 4,
    "start_time": "2022-07-09T14:00:22.970Z"
   },
   {
    "duration": 2183,
    "start_time": "2022-07-09T14:00:34.513Z"
   },
   {
    "duration": 16,
    "start_time": "2022-07-09T14:00:47.494Z"
   },
   {
    "duration": 78,
    "start_time": "2022-07-09T14:06:03.066Z"
   },
   {
    "duration": 3,
    "start_time": "2022-07-09T14:06:08.811Z"
   },
   {
    "duration": 122,
    "start_time": "2022-07-09T14:06:19.136Z"
   },
   {
    "duration": 3,
    "start_time": "2022-07-09T14:06:43.375Z"
   },
   {
    "duration": 11,
    "start_time": "2022-07-09T14:06:44.838Z"
   },
   {
    "duration": 4,
    "start_time": "2022-07-09T14:07:29.403Z"
   },
   {
    "duration": 24412,
    "start_time": "2022-07-09T14:07:30.407Z"
   },
   {
    "duration": 3,
    "start_time": "2022-07-09T14:08:22.971Z"
   },
   {
    "duration": 194,
    "start_time": "2022-07-09T14:08:25.210Z"
   },
   {
    "duration": 12,
    "start_time": "2022-07-09T14:08:32.686Z"
   },
   {
    "duration": 4,
    "start_time": "2022-07-09T14:10:19.421Z"
   },
   {
    "duration": 12,
    "start_time": "2022-07-09T14:10:24.388Z"
   },
   {
    "duration": 205,
    "start_time": "2022-07-09T14:10:56.703Z"
   },
   {
    "duration": 11,
    "start_time": "2022-07-09T14:11:12.104Z"
   },
   {
    "duration": 24,
    "start_time": "2022-07-09T14:11:30.174Z"
   },
   {
    "duration": 12,
    "start_time": "2022-07-09T14:11:41.655Z"
   },
   {
    "duration": 3,
    "start_time": "2022-07-09T14:12:10.408Z"
   },
   {
    "duration": 8,
    "start_time": "2022-07-09T14:12:18.723Z"
   },
   {
    "duration": 13,
    "start_time": "2022-07-09T14:12:26.709Z"
   },
   {
    "duration": 12,
    "start_time": "2022-07-09T14:12:36.517Z"
   },
   {
    "duration": 17,
    "start_time": "2022-07-09T14:14:32.065Z"
   },
   {
    "duration": 1752,
    "start_time": "2022-07-10T13:41:37.545Z"
   },
   {
    "duration": 139,
    "start_time": "2022-07-10T13:41:39.300Z"
   },
   {
    "duration": 5,
    "start_time": "2022-07-10T13:41:39.441Z"
   },
   {
    "duration": 12,
    "start_time": "2022-07-10T13:41:39.448Z"
   },
   {
    "duration": 6,
    "start_time": "2022-07-10T13:41:39.462Z"
   },
   {
    "duration": 21,
    "start_time": "2022-07-10T13:41:39.469Z"
   },
   {
    "duration": 6,
    "start_time": "2022-07-10T13:41:39.492Z"
   },
   {
    "duration": 318,
    "start_time": "2022-07-10T13:41:39.528Z"
   },
   {
    "duration": 733,
    "start_time": "2022-07-10T13:41:39.847Z"
   },
   {
    "duration": 187,
    "start_time": "2022-07-10T13:41:40.583Z"
   },
   {
    "duration": 162,
    "start_time": "2022-07-10T13:41:40.772Z"
   },
   {
    "duration": 6,
    "start_time": "2022-07-10T13:41:40.936Z"
   },
   {
    "duration": 7,
    "start_time": "2022-07-10T13:41:40.944Z"
   },
   {
    "duration": 34,
    "start_time": "2022-07-10T13:41:40.953Z"
   },
   {
    "duration": 4,
    "start_time": "2022-07-10T13:41:40.989Z"
   },
   {
    "duration": 60,
    "start_time": "2022-07-10T13:41:40.994Z"
   },
   {
    "duration": 12,
    "start_time": "2022-07-10T13:41:41.055Z"
   },
   {
    "duration": 8,
    "start_time": "2022-07-10T13:41:41.068Z"
   },
   {
    "duration": 10,
    "start_time": "2022-07-10T13:41:41.078Z"
   },
   {
    "duration": 3,
    "start_time": "2022-07-10T13:50:03.940Z"
   },
   {
    "duration": 3,
    "start_time": "2022-07-10T13:50:06.799Z"
   },
   {
    "duration": 57,
    "start_time": "2022-07-10T13:50:27.928Z"
   },
   {
    "duration": 3,
    "start_time": "2022-07-10T13:50:37.625Z"
   },
   {
    "duration": 50,
    "start_time": "2022-07-10T13:50:39.423Z"
   },
   {
    "duration": 4,
    "start_time": "2022-07-10T13:50:54.629Z"
   },
   {
    "duration": 3,
    "start_time": "2022-07-10T13:50:56.695Z"
   },
   {
    "duration": 53,
    "start_time": "2022-07-10T13:50:57.441Z"
   },
   {
    "duration": 4,
    "start_time": "2022-07-10T13:51:25.200Z"
   },
   {
    "duration": 5,
    "start_time": "2022-07-10T13:51:34.830Z"
   },
   {
    "duration": 43778,
    "start_time": "2022-07-10T13:54:37.848Z"
   },
   {
    "duration": 5,
    "start_time": "2022-07-10T14:06:09.058Z"
   },
   {
    "duration": 2358,
    "start_time": "2022-07-10T14:06:14.419Z"
   },
   {
    "duration": 16,
    "start_time": "2022-07-10T14:06:26.072Z"
   },
   {
    "duration": 1565,
    "start_time": "2022-07-10T14:07:29.405Z"
   },
   {
    "duration": 1521,
    "start_time": "2022-07-10T14:07:51.649Z"
   },
   {
    "duration": 91,
    "start_time": "2022-07-10T14:07:53.172Z"
   },
   {
    "duration": 6,
    "start_time": "2022-07-10T14:07:53.265Z"
   },
   {
    "duration": 24,
    "start_time": "2022-07-10T14:07:53.273Z"
   },
   {
    "duration": 12,
    "start_time": "2022-07-10T14:07:53.299Z"
   },
   {
    "duration": 53,
    "start_time": "2022-07-10T14:07:53.313Z"
   },
   {
    "duration": 19,
    "start_time": "2022-07-10T14:07:53.368Z"
   },
   {
    "duration": 352,
    "start_time": "2022-07-10T14:07:53.390Z"
   },
   {
    "duration": 855,
    "start_time": "2022-07-10T14:07:53.743Z"
   },
   {
    "duration": 193,
    "start_time": "2022-07-10T14:07:54.601Z"
   },
   {
    "duration": 164,
    "start_time": "2022-07-10T14:07:54.797Z"
   },
   {
    "duration": 6,
    "start_time": "2022-07-10T14:07:54.963Z"
   },
   {
    "duration": 9,
    "start_time": "2022-07-10T14:07:54.971Z"
   },
   {
    "duration": 44,
    "start_time": "2022-07-10T14:07:54.982Z"
   },
   {
    "duration": 8,
    "start_time": "2022-07-10T14:07:55.027Z"
   },
   {
    "duration": 39,
    "start_time": "2022-07-10T14:07:55.037Z"
   },
   {
    "duration": 12,
    "start_time": "2022-07-10T14:07:55.077Z"
   },
   {
    "duration": 7,
    "start_time": "2022-07-10T14:07:55.090Z"
   },
   {
    "duration": 33,
    "start_time": "2022-07-10T14:07:55.099Z"
   },
   {
    "duration": 14,
    "start_time": "2022-07-10T14:07:55.134Z"
   },
   {
    "duration": 8,
    "start_time": "2022-07-10T14:07:55.150Z"
   },
   {
    "duration": 8,
    "start_time": "2022-07-10T14:07:55.159Z"
   },
   {
    "duration": 35044,
    "start_time": "2022-07-10T14:07:55.169Z"
   },
   {
    "duration": 15,
    "start_time": "2022-07-10T14:08:30.216Z"
   },
   {
    "duration": 2349,
    "start_time": "2022-07-10T14:08:30.237Z"
   },
   {
    "duration": 15,
    "start_time": "2022-07-10T14:08:32.589Z"
   },
   {
    "duration": 5,
    "start_time": "2022-07-10T14:09:36.823Z"
   },
   {
    "duration": 144,
    "start_time": "2022-07-10T14:09:38.661Z"
   },
   {
    "duration": 3,
    "start_time": "2022-07-10T14:14:13.117Z"
   },
   {
    "duration": 1730905,
    "start_time": "2022-07-10T14:14:14.339Z"
   },
   {
    "duration": 3,
    "start_time": "2022-07-10T14:44:11.002Z"
   },
   {
    "duration": 350,
    "start_time": "2022-07-10T14:44:27.382Z"
   },
   {
    "duration": 21,
    "start_time": "2022-07-10T14:44:31.236Z"
   },
   {
    "duration": 13,
    "start_time": "2022-07-10T14:45:21.167Z"
   },
   {
    "duration": 11,
    "start_time": "2022-07-10T14:45:23.813Z"
   },
   {
    "duration": 19,
    "start_time": "2022-07-10T14:45:49.619Z"
   },
   {
    "duration": 4,
    "start_time": "2022-07-10T14:47:42.843Z"
   },
   {
    "duration": 286,
    "start_time": "2022-07-10T14:48:45.669Z"
   },
   {
    "duration": 4,
    "start_time": "2022-07-10T16:05:34.068Z"
   },
   {
    "duration": 1533,
    "start_time": "2022-07-10T16:35:38.285Z"
   },
   {
    "duration": 69,
    "start_time": "2022-07-10T16:35:39.820Z"
   },
   {
    "duration": 6,
    "start_time": "2022-07-10T16:35:39.891Z"
   },
   {
    "duration": 12,
    "start_time": "2022-07-10T16:35:39.899Z"
   },
   {
    "duration": 9,
    "start_time": "2022-07-10T16:35:39.913Z"
   },
   {
    "duration": 21,
    "start_time": "2022-07-10T16:35:39.923Z"
   },
   {
    "duration": 8,
    "start_time": "2022-07-10T16:35:39.946Z"
   },
   {
    "duration": 320,
    "start_time": "2022-07-10T16:35:39.956Z"
   },
   {
    "duration": 778,
    "start_time": "2022-07-10T16:35:40.278Z"
   },
   {
    "duration": 193,
    "start_time": "2022-07-10T16:35:41.060Z"
   },
   {
    "duration": 168,
    "start_time": "2022-07-10T16:35:41.255Z"
   },
   {
    "duration": 7,
    "start_time": "2022-07-10T16:35:41.425Z"
   },
   {
    "duration": 6,
    "start_time": "2022-07-10T16:35:41.434Z"
   },
   {
    "duration": 24,
    "start_time": "2022-07-10T16:35:41.442Z"
   },
   {
    "duration": 3,
    "start_time": "2022-07-10T16:35:41.468Z"
   },
   {
    "duration": 71,
    "start_time": "2022-07-10T16:35:41.473Z"
   },
   {
    "duration": 13,
    "start_time": "2022-07-10T16:35:41.545Z"
   },
   {
    "duration": 7,
    "start_time": "2022-07-10T16:35:41.559Z"
   },
   {
    "duration": 11,
    "start_time": "2022-07-10T16:35:41.568Z"
   },
   {
    "duration": 7,
    "start_time": "2022-07-10T16:35:41.580Z"
   },
   {
    "duration": 7,
    "start_time": "2022-07-10T16:35:41.588Z"
   },
   {
    "duration": 27,
    "start_time": "2022-07-10T16:35:41.597Z"
   },
   {
    "duration": 30110,
    "start_time": "2022-07-10T16:35:41.625Z"
   },
   {
    "duration": 4,
    "start_time": "2022-07-10T16:36:11.738Z"
   },
   {
    "duration": 2252,
    "start_time": "2022-07-10T16:36:11.744Z"
   },
   {
    "duration": 25,
    "start_time": "2022-07-10T16:36:13.998Z"
   },
   {
    "duration": 4,
    "start_time": "2022-07-10T16:36:27.391Z"
   },
   {
    "duration": 193,
    "start_time": "2022-07-10T16:36:30.810Z"
   },
   {
    "duration": 97,
    "start_time": "2022-07-10T16:38:11.745Z"
   },
   {
    "duration": 56,
    "start_time": "2022-07-10T16:41:09.211Z"
   },
   {
    "duration": 15,
    "start_time": "2022-07-10T16:41:14.618Z"
   },
   {
    "duration": 16,
    "start_time": "2022-07-10T16:43:53.807Z"
   },
   {
    "duration": 20,
    "start_time": "2022-07-10T16:48:28.658Z"
   },
   {
    "duration": 19,
    "start_time": "2022-07-10T16:48:58.745Z"
   },
   {
    "duration": 122721,
    "start_time": "2022-07-10T16:51:10.041Z"
   },
   {
    "duration": 130288,
    "start_time": "2022-07-10T16:55:53.057Z"
   },
   {
    "duration": 131264,
    "start_time": "2022-07-10T17:00:56.281Z"
   },
   {
    "duration": 87186,
    "start_time": "2022-07-10T17:07:10.860Z"
   },
   {
    "duration": 632652,
    "start_time": "2022-07-10T17:27:03.301Z"
   },
   {
    "duration": 13965,
    "start_time": "2022-07-10T17:50:41.496Z"
   },
   {
    "duration": 75789,
    "start_time": "2022-07-10T17:52:23.860Z"
   },
   {
    "duration": 4,
    "start_time": "2022-07-10T17:56:35.951Z"
   },
   {
    "duration": 88,
    "start_time": "2022-07-10T17:56:37.564Z"
   },
   {
    "duration": 4,
    "start_time": "2022-07-10T17:58:24.187Z"
   },
   {
    "duration": 46,
    "start_time": "2022-07-10T17:58:24.896Z"
   },
   {
    "duration": 4,
    "start_time": "2022-07-10T17:58:48.768Z"
   },
   {
    "duration": 74546,
    "start_time": "2022-07-10T17:58:50.021Z"
   },
   {
    "duration": 18,
    "start_time": "2022-07-10T18:02:39.999Z"
   },
   {
    "duration": 544574,
    "start_time": "2022-07-10T18:03:39.161Z"
   },
   {
    "duration": 1625,
    "start_time": "2022-07-11T11:03:06.695Z"
   },
   {
    "duration": 141,
    "start_time": "2022-07-11T11:03:08.323Z"
   },
   {
    "duration": 5,
    "start_time": "2022-07-11T11:03:08.466Z"
   },
   {
    "duration": 16,
    "start_time": "2022-07-11T11:03:08.473Z"
   },
   {
    "duration": 11,
    "start_time": "2022-07-11T11:03:08.491Z"
   },
   {
    "duration": 23,
    "start_time": "2022-07-11T11:03:08.505Z"
   },
   {
    "duration": 29,
    "start_time": "2022-07-11T11:03:08.530Z"
   },
   {
    "duration": 332,
    "start_time": "2022-07-11T11:03:08.561Z"
   },
   {
    "duration": 813,
    "start_time": "2022-07-11T11:03:08.895Z"
   },
   {
    "duration": 185,
    "start_time": "2022-07-11T11:03:09.711Z"
   },
   {
    "duration": 172,
    "start_time": "2022-07-11T11:03:09.898Z"
   },
   {
    "duration": 6,
    "start_time": "2022-07-11T11:03:10.071Z"
   },
   {
    "duration": 7,
    "start_time": "2022-07-11T11:03:10.079Z"
   },
   {
    "duration": 30,
    "start_time": "2022-07-11T11:03:10.087Z"
   },
   {
    "duration": 3,
    "start_time": "2022-07-11T11:03:10.119Z"
   },
   {
    "duration": 55,
    "start_time": "2022-07-11T11:03:10.124Z"
   },
   {
    "duration": 11,
    "start_time": "2022-07-11T11:03:10.181Z"
   },
   {
    "duration": 6,
    "start_time": "2022-07-11T11:03:10.194Z"
   },
   {
    "duration": 15,
    "start_time": "2022-07-11T11:03:10.203Z"
   },
   {
    "duration": 26,
    "start_time": "2022-07-11T11:03:10.220Z"
   },
   {
    "duration": 14,
    "start_time": "2022-07-11T11:03:10.248Z"
   },
   {
    "duration": 5,
    "start_time": "2022-07-11T11:03:10.264Z"
   },
   {
    "duration": 42288,
    "start_time": "2022-07-11T11:03:10.271Z"
   },
   {
    "duration": 6,
    "start_time": "2022-07-11T11:03:52.562Z"
   },
   {
    "duration": 2394,
    "start_time": "2022-07-11T11:03:52.569Z"
   },
   {
    "duration": 16,
    "start_time": "2022-07-11T11:03:54.964Z"
   },
   {
    "duration": 4,
    "start_time": "2022-07-11T11:05:04.987Z"
   },
   {
    "duration": 10906,
    "start_time": "2022-07-11T11:05:05.958Z"
   },
   {
    "duration": 66020,
    "start_time": "2022-07-11T11:08:23.668Z"
   },
   {
    "duration": 19011,
    "start_time": "2022-07-11T11:13:36.886Z"
   },
   {
    "duration": 15074,
    "start_time": "2022-07-11T11:14:54.805Z"
   },
   {
    "duration": 15792,
    "start_time": "2022-07-11T11:16:40.295Z"
   },
   {
    "duration": 18713,
    "start_time": "2022-07-11T11:19:33.366Z"
   },
   {
    "duration": 18572,
    "start_time": "2022-07-11T11:20:23.936Z"
   },
   {
    "duration": 0,
    "start_time": "2022-07-11T11:23:04.261Z"
   },
   {
    "duration": 79473,
    "start_time": "2022-07-11T12:01:50.976Z"
   },
   {
    "duration": 71,
    "start_time": "2022-07-11T12:05:19.432Z"
   },
   {
    "duration": 15330,
    "start_time": "2022-07-11T12:05:54.575Z"
   },
   {
    "duration": 13173,
    "start_time": "2022-07-11T12:08:11.207Z"
   },
   {
    "duration": 14299,
    "start_time": "2022-07-11T12:10:21.773Z"
   },
   {
    "duration": 14479,
    "start_time": "2022-07-11T12:13:18.877Z"
   },
   {
    "duration": 14273,
    "start_time": "2022-07-11T12:14:46.310Z"
   },
   {
    "duration": 14426,
    "start_time": "2022-07-11T12:18:44.572Z"
   },
   {
    "duration": 14411,
    "start_time": "2022-07-11T12:24:12.563Z"
   },
   {
    "duration": 14604,
    "start_time": "2022-07-11T12:26:18.674Z"
   },
   {
    "duration": 14336,
    "start_time": "2022-07-11T12:28:59.321Z"
   },
   {
    "duration": 14602,
    "start_time": "2022-07-11T12:30:15.149Z"
   },
   {
    "duration": 148,
    "start_time": "2022-07-11T12:31:26.539Z"
   },
   {
    "duration": 15186,
    "start_time": "2022-07-11T12:31:31.503Z"
   },
   {
    "duration": 14411,
    "start_time": "2022-07-11T12:32:36.875Z"
   },
   {
    "duration": 4,
    "start_time": "2022-07-11T12:32:59.794Z"
   },
   {
    "duration": 14233,
    "start_time": "2022-07-11T12:38:35.742Z"
   },
   {
    "duration": 4,
    "start_time": "2022-07-11T12:39:02.865Z"
   },
   {
    "duration": 104,
    "start_time": "2022-07-11T12:44:45.802Z"
   },
   {
    "duration": 13825,
    "start_time": "2022-07-11T12:44:53.968Z"
   },
   {
    "duration": 14751,
    "start_time": "2022-07-11T12:47:34.825Z"
   },
   {
    "duration": 14646,
    "start_time": "2022-07-11T12:50:48.919Z"
   },
   {
    "duration": 13149,
    "start_time": "2022-07-11T13:37:51.806Z"
   },
   {
    "duration": 1555,
    "start_time": "2022-07-11T17:09:42.170Z"
   },
   {
    "duration": 209,
    "start_time": "2022-07-11T17:09:43.727Z"
   },
   {
    "duration": 4,
    "start_time": "2022-07-11T17:09:43.938Z"
   },
   {
    "duration": 14,
    "start_time": "2022-07-11T17:09:43.944Z"
   },
   {
    "duration": 6,
    "start_time": "2022-07-11T17:09:43.960Z"
   },
   {
    "duration": 19,
    "start_time": "2022-07-11T17:09:43.968Z"
   },
   {
    "duration": 7,
    "start_time": "2022-07-11T17:09:43.988Z"
   },
   {
    "duration": 289,
    "start_time": "2022-07-11T17:09:43.996Z"
   },
   {
    "duration": 706,
    "start_time": "2022-07-11T17:09:44.287Z"
   },
   {
    "duration": 168,
    "start_time": "2022-07-11T17:09:44.996Z"
   },
   {
    "duration": 152,
    "start_time": "2022-07-11T17:09:45.166Z"
   },
   {
    "duration": 7,
    "start_time": "2022-07-11T17:09:45.320Z"
   },
   {
    "duration": 8,
    "start_time": "2022-07-11T17:09:45.328Z"
   },
   {
    "duration": 38,
    "start_time": "2022-07-11T17:09:45.337Z"
   },
   {
    "duration": 3,
    "start_time": "2022-07-11T17:09:45.376Z"
   },
   {
    "duration": 34,
    "start_time": "2022-07-11T17:09:45.380Z"
   },
   {
    "duration": 10,
    "start_time": "2022-07-11T17:09:45.415Z"
   },
   {
    "duration": 7,
    "start_time": "2022-07-11T17:09:45.426Z"
   },
   {
    "duration": 25,
    "start_time": "2022-07-11T17:09:45.435Z"
   },
   {
    "duration": 4,
    "start_time": "2022-07-11T17:09:45.462Z"
   },
   {
    "duration": 12,
    "start_time": "2022-07-11T17:09:45.467Z"
   },
   {
    "duration": 10,
    "start_time": "2022-07-11T17:09:45.481Z"
   },
   {
    "duration": 34085,
    "start_time": "2022-07-11T17:09:45.492Z"
   },
   {
    "duration": 4,
    "start_time": "2022-07-11T17:10:19.579Z"
   },
   {
    "duration": 2139,
    "start_time": "2022-07-11T17:10:19.584Z"
   },
   {
    "duration": 12,
    "start_time": "2022-07-11T17:10:21.724Z"
   },
   {
    "duration": 126,
    "start_time": "2022-07-11T17:16:10.814Z"
   },
   {
    "duration": 4,
    "start_time": "2022-07-11T17:16:19.868Z"
   },
   {
    "duration": 214,
    "start_time": "2022-07-11T17:16:20.848Z"
   },
   {
    "duration": 175,
    "start_time": "2022-07-11T17:16:53.786Z"
   },
   {
    "duration": 109,
    "start_time": "2022-07-11T17:17:52.768Z"
   },
   {
    "duration": 70,
    "start_time": "2022-07-11T17:20:32.309Z"
   },
   {
    "duration": 28,
    "start_time": "2022-07-11T17:21:59.145Z"
   },
   {
    "duration": 136,
    "start_time": "2022-07-11T17:23:21.027Z"
   },
   {
    "duration": 144,
    "start_time": "2022-07-11T17:24:29.028Z"
   },
   {
    "duration": 39,
    "start_time": "2022-07-11T17:24:31.232Z"
   },
   {
    "duration": 28,
    "start_time": "2022-07-11T17:25:00.351Z"
   },
   {
    "duration": 112,
    "start_time": "2022-07-11T17:25:03.762Z"
   },
   {
    "duration": 200,
    "start_time": "2022-07-11T17:31:51.668Z"
   },
   {
    "duration": 122,
    "start_time": "2022-07-11T17:32:35.761Z"
   },
   {
    "duration": 14,
    "start_time": "2022-07-11T17:32:54.699Z"
   },
   {
    "duration": 11121,
    "start_time": "2022-07-11T17:33:35.660Z"
   },
   {
    "duration": 2250,
    "start_time": "2022-07-11T17:34:24.031Z"
   },
   {
    "duration": 747,
    "start_time": "2022-07-11T17:35:07.330Z"
   },
   {
    "duration": 100,
    "start_time": "2022-07-11T17:35:22.980Z"
   },
   {
    "duration": 3,
    "start_time": "2022-07-11T17:35:51.716Z"
   },
   {
    "duration": 176,
    "start_time": "2022-07-11T17:35:52.305Z"
   },
   {
    "duration": 65,
    "start_time": "2022-07-11T17:36:07.811Z"
   },
   {
    "duration": 100,
    "start_time": "2022-07-11T17:36:21.376Z"
   },
   {
    "duration": 210,
    "start_time": "2022-07-11T17:36:45.168Z"
   },
   {
    "duration": 488,
    "start_time": "2022-07-11T17:37:52.290Z"
   },
   {
    "duration": 595,
    "start_time": "2022-07-11T17:38:14.180Z"
   },
   {
    "duration": 213,
    "start_time": "2022-07-11T17:38:40.354Z"
   },
   {
    "duration": 84,
    "start_time": "2022-07-11T17:39:10.891Z"
   },
   {
    "duration": 49,
    "start_time": "2022-07-11T17:42:40.231Z"
   },
   {
    "duration": 39,
    "start_time": "2022-07-11T17:44:22.141Z"
   },
   {
    "duration": 120,
    "start_time": "2022-07-11T17:48:04.649Z"
   },
   {
    "duration": 118,
    "start_time": "2022-07-11T17:49:45.362Z"
   },
   {
    "duration": 979,
    "start_time": "2022-07-11T17:50:13.192Z"
   },
   {
    "duration": 13642,
    "start_time": "2022-07-11T17:58:29.335Z"
   },
   {
    "duration": 76247,
    "start_time": "2022-07-11T17:59:05.228Z"
   },
   {
    "duration": 34772,
    "start_time": "2022-07-11T18:02:27.407Z"
   },
   {
    "duration": 35,
    "start_time": "2022-07-11T18:03:49.541Z"
   },
   {
    "duration": 128,
    "start_time": "2022-07-11T18:03:58.950Z"
   },
   {
    "duration": 425,
    "start_time": "2022-07-11T18:08:21.550Z"
   },
   {
    "duration": 453,
    "start_time": "2022-07-11T18:08:35.909Z"
   },
   {
    "duration": 19,
    "start_time": "2022-07-11T18:09:06.048Z"
   },
   {
    "duration": 296,
    "start_time": "2022-07-11T18:09:32.977Z"
   },
   {
    "duration": 2914,
    "start_time": "2022-07-11T18:10:06.651Z"
   },
   {
    "duration": 3,
    "start_time": "2022-07-11T18:10:27.057Z"
   },
   {
    "duration": 103,
    "start_time": "2022-07-11T18:10:28.573Z"
   },
   {
    "duration": 11,
    "start_time": "2022-07-11T18:15:00.962Z"
   },
   {
    "duration": 41,
    "start_time": "2022-07-11T18:16:08.164Z"
   },
   {
    "duration": 28109,
    "start_time": "2022-07-11T18:16:17.952Z"
   },
   {
    "duration": 87,
    "start_time": "2022-07-11T18:17:29.080Z"
   },
   {
    "duration": 4,
    "start_time": "2022-07-11T18:17:50.451Z"
   },
   {
    "duration": 1499,
    "start_time": "2022-07-11T18:25:10.577Z"
   },
   {
    "duration": 4,
    "start_time": "2022-07-11T18:25:18.695Z"
   },
   {
    "duration": 4084,
    "start_time": "2022-07-11T18:26:32.590Z"
   },
   {
    "duration": 5,
    "start_time": "2022-07-11T18:26:36.676Z"
   },
   {
    "duration": 1019,
    "start_time": "2022-07-11T18:26:56.550Z"
   },
   {
    "duration": 86,
    "start_time": "2022-07-11T18:27:03.780Z"
   },
   {
    "duration": 4,
    "start_time": "2022-07-11T18:27:05.139Z"
   },
   {
    "duration": 4847,
    "start_time": "2022-07-11T18:27:46.027Z"
   },
   {
    "duration": 8,
    "start_time": "2022-07-11T18:27:50.877Z"
   },
   {
    "duration": 7,
    "start_time": "2022-07-11T18:28:28.806Z"
   },
   {
    "duration": 252,
    "start_time": "2022-07-11T18:31:29.118Z"
   },
   {
    "duration": 69,
    "start_time": "2022-07-11T18:32:06.797Z"
   },
   {
    "duration": 4,
    "start_time": "2022-07-11T18:32:07.705Z"
   },
   {
    "duration": 615,
    "start_time": "2022-07-11T18:35:43.448Z"
   },
   {
    "duration": 4,
    "start_time": "2022-07-11T18:35:45.152Z"
   },
   {
    "duration": 102,
    "start_time": "2022-07-11T18:36:59.669Z"
   },
   {
    "duration": 5,
    "start_time": "2022-07-11T18:37:08.982Z"
   },
   {
    "duration": 4,
    "start_time": "2022-07-11T18:37:32.677Z"
   },
   {
    "duration": 102,
    "start_time": "2022-07-11T18:37:32.683Z"
   },
   {
    "duration": 5,
    "start_time": "2022-07-11T18:37:32.787Z"
   },
   {
    "duration": 17,
    "start_time": "2022-07-11T18:37:32.794Z"
   },
   {
    "duration": 6,
    "start_time": "2022-07-11T18:37:32.813Z"
   },
   {
    "duration": 44,
    "start_time": "2022-07-11T18:37:32.821Z"
   },
   {
    "duration": 8,
    "start_time": "2022-07-11T18:37:32.867Z"
   },
   {
    "duration": 281,
    "start_time": "2022-07-11T18:37:32.877Z"
   },
   {
    "duration": 736,
    "start_time": "2022-07-11T18:37:33.161Z"
   },
   {
    "duration": 173,
    "start_time": "2022-07-11T18:37:33.900Z"
   },
   {
    "duration": 152,
    "start_time": "2022-07-11T18:37:34.074Z"
   },
   {
    "duration": 7,
    "start_time": "2022-07-11T18:37:34.228Z"
   },
   {
    "duration": 6,
    "start_time": "2022-07-11T18:37:34.236Z"
   },
   {
    "duration": 35,
    "start_time": "2022-07-11T18:37:34.243Z"
   },
   {
    "duration": 4,
    "start_time": "2022-07-11T18:37:34.280Z"
   },
   {
    "duration": 39,
    "start_time": "2022-07-11T18:37:34.285Z"
   },
   {
    "duration": 10,
    "start_time": "2022-07-11T18:37:34.325Z"
   },
   {
    "duration": 6,
    "start_time": "2022-07-11T18:37:34.336Z"
   },
   {
    "duration": 1013,
    "start_time": "2022-07-11T18:37:44.449Z"
   },
   {
    "duration": 3,
    "start_time": "2022-07-11T18:37:47.481Z"
   },
   {
    "duration": 710,
    "start_time": "2022-07-11T18:39:00.255Z"
   },
   {
    "duration": 50,
    "start_time": "2022-07-11T18:40:05.362Z"
   },
   {
    "duration": 3040,
    "start_time": "2022-07-11T18:40:39.737Z"
   },
   {
    "duration": 446,
    "start_time": "2022-07-11T18:41:09.121Z"
   },
   {
    "duration": 4,
    "start_time": "2022-07-11T18:41:11.738Z"
   },
   {
    "duration": 377,
    "start_time": "2022-07-11T19:08:13.394Z"
   },
   {
    "duration": 4,
    "start_time": "2022-07-11T19:08:23.592Z"
   },
   {
    "duration": 419,
    "start_time": "2022-07-11T19:08:41.854Z"
   },
   {
    "duration": 8704,
    "start_time": "2022-07-11T19:09:04.061Z"
   },
   {
    "duration": 4,
    "start_time": "2022-07-11T19:09:14.874Z"
   },
   {
    "duration": 4,
    "start_time": "2022-07-11T19:09:22.060Z"
   },
   {
    "duration": 490,
    "start_time": "2022-07-11T19:12:12.782Z"
   },
   {
    "duration": 483,
    "start_time": "2022-07-11T19:13:42.379Z"
   },
   {
    "duration": 588,
    "start_time": "2022-07-11T19:14:14.987Z"
   },
   {
    "duration": 26885,
    "start_time": "2022-07-11T19:14:49.690Z"
   },
   {
    "duration": 9427,
    "start_time": "2022-07-11T19:15:18.745Z"
   },
   {
    "duration": 88,
    "start_time": "2022-07-11T19:16:25.780Z"
   },
   {
    "duration": 46,
    "start_time": "2022-07-11T19:19:51.274Z"
   },
   {
    "duration": 1403,
    "start_time": "2022-07-11T19:20:27.773Z"
   },
   {
    "duration": 63,
    "start_time": "2022-07-11T19:20:29.178Z"
   },
   {
    "duration": 5,
    "start_time": "2022-07-11T19:20:29.242Z"
   },
   {
    "duration": 12,
    "start_time": "2022-07-11T19:20:29.248Z"
   },
   {
    "duration": 4,
    "start_time": "2022-07-11T19:20:29.262Z"
   },
   {
    "duration": 36,
    "start_time": "2022-07-11T19:20:29.268Z"
   },
   {
    "duration": 7,
    "start_time": "2022-07-11T19:20:29.305Z"
   },
   {
    "duration": 281,
    "start_time": "2022-07-11T19:20:29.313Z"
   },
   {
    "duration": 667,
    "start_time": "2022-07-11T19:20:29.596Z"
   },
   {
    "duration": 174,
    "start_time": "2022-07-11T19:20:30.265Z"
   },
   {
    "duration": 147,
    "start_time": "2022-07-11T19:20:30.441Z"
   },
   {
    "duration": 5,
    "start_time": "2022-07-11T19:20:30.589Z"
   },
   {
    "duration": 8,
    "start_time": "2022-07-11T19:20:30.596Z"
   },
   {
    "duration": 36,
    "start_time": "2022-07-11T19:20:30.607Z"
   },
   {
    "duration": 3,
    "start_time": "2022-07-11T19:20:30.646Z"
   },
   {
    "duration": 48,
    "start_time": "2022-07-11T19:20:30.650Z"
   },
   {
    "duration": 13,
    "start_time": "2022-07-11T19:20:30.700Z"
   },
   {
    "duration": 14,
    "start_time": "2022-07-11T19:20:30.715Z"
   },
   {
    "duration": 25,
    "start_time": "2022-07-11T19:20:30.730Z"
   },
   {
    "duration": 15,
    "start_time": "2022-07-11T19:20:30.756Z"
   },
   {
    "duration": 12,
    "start_time": "2022-07-11T19:20:30.773Z"
   },
   {
    "duration": 11,
    "start_time": "2022-07-11T19:20:30.786Z"
   },
   {
    "duration": 31170,
    "start_time": "2022-07-11T19:20:30.798Z"
   },
   {
    "duration": 5,
    "start_time": "2022-07-11T19:21:01.970Z"
   },
   {
    "duration": 3122,
    "start_time": "2022-07-11T19:21:01.976Z"
   },
   {
    "duration": 13,
    "start_time": "2022-07-11T19:21:05.100Z"
   },
   {
    "duration": 3,
    "start_time": "2022-07-11T19:21:09.280Z"
   },
   {
    "duration": 827,
    "start_time": "2022-07-11T19:21:10.852Z"
   },
   {
    "duration": 373,
    "start_time": "2022-07-11T19:21:25.391Z"
   },
   {
    "duration": 3,
    "start_time": "2022-07-11T19:21:58.546Z"
   },
   {
    "duration": 4,
    "start_time": "2022-07-11T19:23:31.602Z"
   },
   {
    "duration": 12,
    "start_time": "2022-07-11T19:25:30.945Z"
   },
   {
    "duration": 11,
    "start_time": "2022-07-11T19:25:46.983Z"
   },
   {
    "duration": 364,
    "start_time": "2022-07-11T19:26:30.005Z"
   },
   {
    "duration": 4,
    "start_time": "2022-07-11T19:26:33.908Z"
   },
   {
    "duration": 1417,
    "start_time": "2022-07-11T19:27:50.351Z"
   },
   {
    "duration": 83,
    "start_time": "2022-07-11T19:27:51.770Z"
   },
   {
    "duration": 5,
    "start_time": "2022-07-11T19:27:51.854Z"
   },
   {
    "duration": 12,
    "start_time": "2022-07-11T19:27:51.861Z"
   },
   {
    "duration": 4,
    "start_time": "2022-07-11T19:27:51.875Z"
   },
   {
    "duration": 23,
    "start_time": "2022-07-11T19:27:51.881Z"
   },
   {
    "duration": 6,
    "start_time": "2022-07-11T19:27:51.906Z"
   },
   {
    "duration": 288,
    "start_time": "2022-07-11T19:27:51.913Z"
   },
   {
    "duration": 665,
    "start_time": "2022-07-11T19:27:52.203Z"
   },
   {
    "duration": 161,
    "start_time": "2022-07-11T19:27:52.871Z"
   },
   {
    "duration": 153,
    "start_time": "2022-07-11T19:27:53.034Z"
   },
   {
    "duration": 6,
    "start_time": "2022-07-11T19:27:53.189Z"
   },
   {
    "duration": 5,
    "start_time": "2022-07-11T19:27:53.197Z"
   },
   {
    "duration": 23,
    "start_time": "2022-07-11T19:27:53.204Z"
   },
   {
    "duration": 3,
    "start_time": "2022-07-11T19:27:53.229Z"
   },
   {
    "duration": 57,
    "start_time": "2022-07-11T19:27:53.233Z"
   },
   {
    "duration": 10,
    "start_time": "2022-07-11T19:27:53.292Z"
   },
   {
    "duration": 6,
    "start_time": "2022-07-11T19:27:53.303Z"
   },
   {
    "duration": 11,
    "start_time": "2022-07-11T19:27:53.310Z"
   },
   {
    "duration": 5,
    "start_time": "2022-07-11T19:27:53.323Z"
   },
   {
    "duration": 9,
    "start_time": "2022-07-11T19:27:53.329Z"
   },
   {
    "duration": 22,
    "start_time": "2022-07-11T19:27:53.339Z"
   },
   {
    "duration": 25722,
    "start_time": "2022-07-11T19:27:53.362Z"
   },
   {
    "duration": 4,
    "start_time": "2022-07-11T19:28:19.086Z"
   },
   {
    "duration": 2110,
    "start_time": "2022-07-11T19:28:19.091Z"
   },
   {
    "duration": 14,
    "start_time": "2022-07-11T19:28:21.202Z"
   },
   {
    "duration": 12,
    "start_time": "2022-07-11T19:28:21.217Z"
   },
   {
    "duration": 117,
    "start_time": "2022-07-11T19:28:35.576Z"
   },
   {
    "duration": 368,
    "start_time": "2022-07-11T19:28:59.003Z"
   },
   {
    "duration": 379,
    "start_time": "2022-07-11T19:29:19.887Z"
   },
   {
    "duration": 3,
    "start_time": "2022-07-11T19:29:21.969Z"
   },
   {
    "duration": 86,
    "start_time": "2022-07-11T19:29:34.976Z"
   },
   {
    "duration": 1008,
    "start_time": "2022-07-11T19:29:40.759Z"
   },
   {
    "duration": 14,
    "start_time": "2022-07-11T19:29:54.787Z"
   },
   {
    "duration": 4,
    "start_time": "2022-07-11T19:30:28.115Z"
   },
   {
    "duration": 4,
    "start_time": "2022-07-11T19:31:12.678Z"
   },
   {
    "duration": 11,
    "start_time": "2022-07-11T19:33:35.182Z"
   },
   {
    "duration": 3,
    "start_time": "2022-07-11T19:33:42.981Z"
   },
   {
    "duration": 689,
    "start_time": "2022-07-11T19:33:43.879Z"
   },
   {
    "duration": 406,
    "start_time": "2022-07-11T19:34:19.264Z"
   },
   {
    "duration": 3,
    "start_time": "2022-07-11T19:34:26.051Z"
   },
   {
    "duration": 3,
    "start_time": "2022-07-11T19:36:46.814Z"
   },
   {
    "duration": 373,
    "start_time": "2022-07-11T19:36:47.694Z"
   },
   {
    "duration": 3,
    "start_time": "2022-07-11T19:36:49.300Z"
   },
   {
    "duration": 1130,
    "start_time": "2022-07-11T19:37:05.740Z"
   },
   {
    "duration": 11,
    "start_time": "2022-07-11T19:37:12.170Z"
   },
   {
    "duration": 12,
    "start_time": "2022-07-11T19:40:55.471Z"
   },
   {
    "duration": 13,
    "start_time": "2022-07-11T19:41:57.854Z"
   },
   {
    "duration": 10,
    "start_time": "2022-07-11T19:42:05.028Z"
   },
   {
    "duration": 9,
    "start_time": "2022-07-11T19:42:21.580Z"
   },
   {
    "duration": 17,
    "start_time": "2022-07-11T19:42:45.136Z"
   },
   {
    "duration": 257,
    "start_time": "2022-07-11T19:43:12.734Z"
   }
  ],
  "kernelspec": {
   "display_name": "Python 3",
   "language": "python",
   "name": "python3"
  },
  "language_info": {
   "codemirror_mode": {
    "name": "ipython",
    "version": 3
   },
   "file_extension": ".py",
   "mimetype": "text/x-python",
   "name": "python",
   "nbconvert_exporter": "python",
   "pygments_lexer": "ipython3",
   "version": "3.8.5"
  },
  "toc": {
   "base_numbering": 1,
   "nav_menu": {},
   "number_sections": true,
   "sideBar": true,
   "skip_h1_title": true,
   "title_cell": "Содержание",
   "title_sidebar": "Contents",
   "toc_cell": true,
   "toc_position": {
    "height": "calc(100% - 180px)",
    "left": "10px",
    "top": "150px",
    "width": "165px"
   },
   "toc_section_display": true,
   "toc_window_display": false
  }
 },
 "nbformat": 4,
 "nbformat_minor": 2
}
