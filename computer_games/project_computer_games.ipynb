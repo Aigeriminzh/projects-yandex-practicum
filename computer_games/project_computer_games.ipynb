{
 "cells": [
  {
   "cell_type": "markdown",
   "metadata": {
    "toc": true
   },
   "source": [
    "<h1>Содержание<span class=\"tocSkip\"></span></h1>\n",
    "<div class=\"toc\"><ul class=\"toc-item\"><li><span><a href=\"#Обзор-данных\" data-toc-modified-id=\"Обзор-данных-1\"><span class=\"toc-item-num\">1&nbsp;&nbsp;</span>Обзор данных</a></span></li><li><span><a href=\"#Предобработка-данных\" data-toc-modified-id=\"Предобработка-данных-2\"><span class=\"toc-item-num\">2&nbsp;&nbsp;</span>Предобработка данных</a></span><ul class=\"toc-item\"><li><span><a href=\"#Заполнение-пропусков\" data-toc-modified-id=\"Заполнение-пропусков-2.1\"><span class=\"toc-item-num\">2.1&nbsp;&nbsp;</span>Заполнение пропусков</a></span></li><li><span><a href=\"#Изменение-типов-данных\" data-toc-modified-id=\"Изменение-типов-данных-2.2\"><span class=\"toc-item-num\">2.2&nbsp;&nbsp;</span>Изменение типов данных</a></span></li><li><span><a href=\"#Расчёты-и-добавление-результатов-в-таблицу\" data-toc-modified-id=\"Расчёты-и-добавление-результатов-в-таблицу-2.3\"><span class=\"toc-item-num\">2.3&nbsp;&nbsp;</span>Расчёты и добавление результатов в таблицу</a></span></li></ul></li><li><span><a href=\"#Исследовательский-анализ-данных\" data-toc-modified-id=\"Исследовательский-анализ-данных-3\"><span class=\"toc-item-num\">3&nbsp;&nbsp;</span>Исследовательский анализ данных</a></span><ul class=\"toc-item\"><li><span><a href=\"#Исследование-количество-игр-по-году-выпуска\" data-toc-modified-id=\"Исследование-количество-игр-по-году-выпуска-3.1\"><span class=\"toc-item-num\">3.1&nbsp;&nbsp;</span>Исследование количество игр по году выпуска</a></span></li><li><span><a href=\"#Исследование-продаж-по-платформам\" data-toc-modified-id=\"Исследование-продаж-по-платформам-3.2\"><span class=\"toc-item-num\">3.2&nbsp;&nbsp;</span>Исследование продаж по платформам</a></span></li><li><span><a href=\"#Исследование-продаж-за-актуальный-период\" data-toc-modified-id=\"Исследование-продаж-за-актуальный-период-3.3\"><span class=\"toc-item-num\">3.3&nbsp;&nbsp;</span>Исследование продаж за актуальный период</a></span></li><li><span><a href=\"#Исследование-влияние-оценок-критиков-и-пользователей-на-продажи-внутри-одной-популярной-платформы\" data-toc-modified-id=\"Исследование-влияние-оценок-критиков-и-пользователей-на-продажи-внутри-одной-популярной-платформы-3.4\"><span class=\"toc-item-num\">3.4&nbsp;&nbsp;</span>Исследование влияние оценок критиков и пользователей на продажи внутри одной популярной платформы</a></span></li><li><span><a href=\"#Сравнение-выводов-влияние-оценок-критиков-и-пользователей-на-продажи-внутри-платформы-PS4-и-на--других-платформах\" data-toc-modified-id=\"Сравнение-выводов-влияние-оценок-критиков-и-пользователей-на-продажи-внутри-платформы-PS4-и-на--других-платформах-3.5\"><span class=\"toc-item-num\">3.5&nbsp;&nbsp;</span>Сравнение выводов влияние оценок критиков и пользователей на продажи внутри платформы PS4 и на  других платформах</a></span></li><li><span><a href=\"#Анализ-общего-распределение-игр-по-жанрам\" data-toc-modified-id=\"Анализ-общего-распределение-игр-по-жанрам-3.6\"><span class=\"toc-item-num\">3.6&nbsp;&nbsp;</span>Анализ общего распределение игр по жанрам</a></span></li><li><span><a href=\"#Анализ-портрета-пользователя-каждого-региона-Северной-Америки,-Европы-и-Японии\" data-toc-modified-id=\"Анализ-портрета-пользователя-каждого-региона-Северной-Америки,-Европы-и-Японии-3.7\"><span class=\"toc-item-num\">3.7&nbsp;&nbsp;</span>Анализ портрета пользователя каждого региона Северной Америки, Европы и Японии</a></span><ul class=\"toc-item\"><li><span><a href=\"#Самые-популярные-платформы\" data-toc-modified-id=\"Самые-популярные-платформы-3.7.1\"><span class=\"toc-item-num\">3.7.1&nbsp;&nbsp;</span>Самые популярные платформы</a></span></li><li><span><a href=\"#Самые-популярные-жанры\" data-toc-modified-id=\"Самые-популярные-жанры-3.7.2\"><span class=\"toc-item-num\">3.7.2&nbsp;&nbsp;</span>Самые популярные жанры</a></span></li><li><span><a href=\"#Влияние-рейтинга-ESRB-на-продажи\" data-toc-modified-id=\"Влияние-рейтинга-ESRB-на-продажи-3.7.3\"><span class=\"toc-item-num\">3.7.3&nbsp;&nbsp;</span>Влияние рейтинга ESRB на продажи</a></span></li></ul></li><li><span><a href=\"#Проверка-гипотез\" data-toc-modified-id=\"Проверка-гипотез-3.8\"><span class=\"toc-item-num\">3.8&nbsp;&nbsp;</span>Проверка гипотез</a></span><ul class=\"toc-item\"><li><span><a href=\"#Проверка-гипотезы-1\" data-toc-modified-id=\"Проверка-гипотезы-1-3.8.1\"><span class=\"toc-item-num\">3.8.1&nbsp;&nbsp;</span>Проверка гипотезы 1</a></span></li><li><span><a href=\"#Проверка-гипотезы-2\" data-toc-modified-id=\"Проверка-гипотезы-2-3.8.2\"><span class=\"toc-item-num\">3.8.2&nbsp;&nbsp;</span>Проверка гипотезы 2</a></span></li></ul></li></ul></li><li><span><a href=\"#Общий-вывод\" data-toc-modified-id=\"Общий-вывод-4\"><span class=\"toc-item-num\">4&nbsp;&nbsp;</span>Общий вывод</a></span></li></ul></div>"
   ]
  },
  {
   "cell_type": "markdown",
   "metadata": {},
   "source": [
    "# Исследование компьютерных игр интернет-магазина «Стримчик»"
   ]
  },
  {
   "cell_type": "markdown",
   "metadata": {},
   "source": [
    "Из открытых источников доступны исторические данные о продажах игр, оценки пользователей и экспертов, жанры и платформы\n",
    "(например, Xboxили PlayStation) до 2016 года.\n",
    "\n",
    "Вам нужно выявить определяющие успешность игры закономерности. Это позволит сделать ставку на потенциально популярный\n",
    "продукт и спланировать рекламные кампании.\n",
    "\n",
    "В наборе данных попадается аббревиатура ESRB (Entertainment Software Rating Board) — это ассоциация, определяющая возрастной рейтинг компьютерных игр. ESRB оценивает игровой контент и присваивает ему подходящую возрастную категорию, например, «Для взрослых», «Для детей младшего возраста» или «Для подростков».\n",
    "\n",
    "**Цель исследования:**\n",
    "Определить закономерности успешности игры для планирования рекламного бюджета."
   ]
  },
  {
   "cell_type": "markdown",
   "metadata": {},
   "source": [
    " ## Обзор данных"
   ]
  },
  {
   "cell_type": "markdown",
   "metadata": {},
   "source": [
    "Импортируем необходимые библиотеки:"
   ]
  },
  {
   "cell_type": "code",
   "execution_count": 1,
   "metadata": {},
   "outputs": [],
   "source": [
    "import pandas as pd #импорт библиотек\n",
    "import matplotlib.pyplot as plt\n",
    "import seaborn as sns\n",
    "import numpy as np\n",
    "from scipy import stats as st"
   ]
  },
  {
   "cell_type": "code",
   "execution_count": 2,
   "metadata": {
    "scrolled": true
   },
   "outputs": [],
   "source": [
    "try: #чтение файла\n",
    "    df= pd.read_csv('/games.csv')\n",
    "except:\n",
    "    df= pd.read_csv('/datasets/games.csv')"
   ]
  },
  {
   "cell_type": "code",
   "execution_count": 3,
   "metadata": {},
   "outputs": [
    {
     "data": {
      "text/html": [
       "<div>\n",
       "<style scoped>\n",
       "    .dataframe tbody tr th:only-of-type {\n",
       "        vertical-align: middle;\n",
       "    }\n",
       "\n",
       "    .dataframe tbody tr th {\n",
       "        vertical-align: top;\n",
       "    }\n",
       "\n",
       "    .dataframe thead th {\n",
       "        text-align: right;\n",
       "    }\n",
       "</style>\n",
       "<table border=\"1\" class=\"dataframe\">\n",
       "  <thead>\n",
       "    <tr style=\"text-align: right;\">\n",
       "      <th></th>\n",
       "      <th>Name</th>\n",
       "      <th>Platform</th>\n",
       "      <th>Year_of_Release</th>\n",
       "      <th>Genre</th>\n",
       "      <th>NA_sales</th>\n",
       "      <th>EU_sales</th>\n",
       "      <th>JP_sales</th>\n",
       "      <th>Other_sales</th>\n",
       "      <th>Critic_Score</th>\n",
       "      <th>User_Score</th>\n",
       "      <th>Rating</th>\n",
       "    </tr>\n",
       "  </thead>\n",
       "  <tbody>\n",
       "    <tr>\n",
       "      <th>0</th>\n",
       "      <td>Wii Sports</td>\n",
       "      <td>Wii</td>\n",
       "      <td>2006.0</td>\n",
       "      <td>Sports</td>\n",
       "      <td>41.36</td>\n",
       "      <td>28.96</td>\n",
       "      <td>3.77</td>\n",
       "      <td>8.45</td>\n",
       "      <td>76.0</td>\n",
       "      <td>8</td>\n",
       "      <td>E</td>\n",
       "    </tr>\n",
       "    <tr>\n",
       "      <th>1</th>\n",
       "      <td>Super Mario Bros.</td>\n",
       "      <td>NES</td>\n",
       "      <td>1985.0</td>\n",
       "      <td>Platform</td>\n",
       "      <td>29.08</td>\n",
       "      <td>3.58</td>\n",
       "      <td>6.81</td>\n",
       "      <td>0.77</td>\n",
       "      <td>NaN</td>\n",
       "      <td>NaN</td>\n",
       "      <td>NaN</td>\n",
       "    </tr>\n",
       "    <tr>\n",
       "      <th>2</th>\n",
       "      <td>Mario Kart Wii</td>\n",
       "      <td>Wii</td>\n",
       "      <td>2008.0</td>\n",
       "      <td>Racing</td>\n",
       "      <td>15.68</td>\n",
       "      <td>12.76</td>\n",
       "      <td>3.79</td>\n",
       "      <td>3.29</td>\n",
       "      <td>82.0</td>\n",
       "      <td>8.3</td>\n",
       "      <td>E</td>\n",
       "    </tr>\n",
       "    <tr>\n",
       "      <th>3</th>\n",
       "      <td>Wii Sports Resort</td>\n",
       "      <td>Wii</td>\n",
       "      <td>2009.0</td>\n",
       "      <td>Sports</td>\n",
       "      <td>15.61</td>\n",
       "      <td>10.93</td>\n",
       "      <td>3.28</td>\n",
       "      <td>2.95</td>\n",
       "      <td>80.0</td>\n",
       "      <td>8</td>\n",
       "      <td>E</td>\n",
       "    </tr>\n",
       "    <tr>\n",
       "      <th>4</th>\n",
       "      <td>Pokemon Red/Pokemon Blue</td>\n",
       "      <td>GB</td>\n",
       "      <td>1996.0</td>\n",
       "      <td>Role-Playing</td>\n",
       "      <td>11.27</td>\n",
       "      <td>8.89</td>\n",
       "      <td>10.22</td>\n",
       "      <td>1.00</td>\n",
       "      <td>NaN</td>\n",
       "      <td>NaN</td>\n",
       "      <td>NaN</td>\n",
       "    </tr>\n",
       "    <tr>\n",
       "      <th>5</th>\n",
       "      <td>Tetris</td>\n",
       "      <td>GB</td>\n",
       "      <td>1989.0</td>\n",
       "      <td>Puzzle</td>\n",
       "      <td>23.20</td>\n",
       "      <td>2.26</td>\n",
       "      <td>4.22</td>\n",
       "      <td>0.58</td>\n",
       "      <td>NaN</td>\n",
       "      <td>NaN</td>\n",
       "      <td>NaN</td>\n",
       "    </tr>\n",
       "    <tr>\n",
       "      <th>6</th>\n",
       "      <td>New Super Mario Bros.</td>\n",
       "      <td>DS</td>\n",
       "      <td>2006.0</td>\n",
       "      <td>Platform</td>\n",
       "      <td>11.28</td>\n",
       "      <td>9.14</td>\n",
       "      <td>6.50</td>\n",
       "      <td>2.88</td>\n",
       "      <td>89.0</td>\n",
       "      <td>8.5</td>\n",
       "      <td>E</td>\n",
       "    </tr>\n",
       "    <tr>\n",
       "      <th>7</th>\n",
       "      <td>Wii Play</td>\n",
       "      <td>Wii</td>\n",
       "      <td>2006.0</td>\n",
       "      <td>Misc</td>\n",
       "      <td>13.96</td>\n",
       "      <td>9.18</td>\n",
       "      <td>2.93</td>\n",
       "      <td>2.84</td>\n",
       "      <td>58.0</td>\n",
       "      <td>6.6</td>\n",
       "      <td>E</td>\n",
       "    </tr>\n",
       "    <tr>\n",
       "      <th>8</th>\n",
       "      <td>New Super Mario Bros. Wii</td>\n",
       "      <td>Wii</td>\n",
       "      <td>2009.0</td>\n",
       "      <td>Platform</td>\n",
       "      <td>14.44</td>\n",
       "      <td>6.94</td>\n",
       "      <td>4.70</td>\n",
       "      <td>2.24</td>\n",
       "      <td>87.0</td>\n",
       "      <td>8.4</td>\n",
       "      <td>E</td>\n",
       "    </tr>\n",
       "    <tr>\n",
       "      <th>9</th>\n",
       "      <td>Duck Hunt</td>\n",
       "      <td>NES</td>\n",
       "      <td>1984.0</td>\n",
       "      <td>Shooter</td>\n",
       "      <td>26.93</td>\n",
       "      <td>0.63</td>\n",
       "      <td>0.28</td>\n",
       "      <td>0.47</td>\n",
       "      <td>NaN</td>\n",
       "      <td>NaN</td>\n",
       "      <td>NaN</td>\n",
       "    </tr>\n",
       "  </tbody>\n",
       "</table>\n",
       "</div>"
      ],
      "text/plain": [
       "                        Name Platform  Year_of_Release         Genre  \\\n",
       "0                 Wii Sports      Wii           2006.0        Sports   \n",
       "1          Super Mario Bros.      NES           1985.0      Platform   \n",
       "2             Mario Kart Wii      Wii           2008.0        Racing   \n",
       "3          Wii Sports Resort      Wii           2009.0        Sports   \n",
       "4   Pokemon Red/Pokemon Blue       GB           1996.0  Role-Playing   \n",
       "5                     Tetris       GB           1989.0        Puzzle   \n",
       "6      New Super Mario Bros.       DS           2006.0      Platform   \n",
       "7                   Wii Play      Wii           2006.0          Misc   \n",
       "8  New Super Mario Bros. Wii      Wii           2009.0      Platform   \n",
       "9                  Duck Hunt      NES           1984.0       Shooter   \n",
       "\n",
       "   NA_sales  EU_sales  JP_sales  Other_sales  Critic_Score User_Score Rating  \n",
       "0     41.36     28.96      3.77         8.45          76.0          8      E  \n",
       "1     29.08      3.58      6.81         0.77           NaN        NaN    NaN  \n",
       "2     15.68     12.76      3.79         3.29          82.0        8.3      E  \n",
       "3     15.61     10.93      3.28         2.95          80.0          8      E  \n",
       "4     11.27      8.89     10.22         1.00           NaN        NaN    NaN  \n",
       "5     23.20      2.26      4.22         0.58           NaN        NaN    NaN  \n",
       "6     11.28      9.14      6.50         2.88          89.0        8.5      E  \n",
       "7     13.96      9.18      2.93         2.84          58.0        6.6      E  \n",
       "8     14.44      6.94      4.70         2.24          87.0        8.4      E  \n",
       "9     26.93      0.63      0.28         0.47           NaN        NaN    NaN  "
      ]
     },
     "metadata": {},
     "output_type": "display_data"
    }
   ],
   "source": [
    "display(df.head(10))#вывод первых 10 строк из таблицы"
   ]
  },
  {
   "cell_type": "markdown",
   "metadata": {},
   "source": [
    "Получим общую информацию о таблице:"
   ]
  },
  {
   "cell_type": "code",
   "execution_count": 4,
   "metadata": {},
   "outputs": [
    {
     "name": "stdout",
     "output_type": "stream",
     "text": [
      "<class 'pandas.core.frame.DataFrame'>\n",
      "RangeIndex: 16715 entries, 0 to 16714\n",
      "Data columns (total 11 columns):\n",
      " #   Column           Non-Null Count  Dtype  \n",
      "---  ------           --------------  -----  \n",
      " 0   Name             16713 non-null  object \n",
      " 1   Platform         16715 non-null  object \n",
      " 2   Year_of_Release  16446 non-null  float64\n",
      " 3   Genre            16713 non-null  object \n",
      " 4   NA_sales         16715 non-null  float64\n",
      " 5   EU_sales         16715 non-null  float64\n",
      " 6   JP_sales         16715 non-null  float64\n",
      " 7   Other_sales      16715 non-null  float64\n",
      " 8   Critic_Score     8137 non-null   float64\n",
      " 9   User_Score       10014 non-null  object \n",
      " 10  Rating           9949 non-null   object \n",
      "dtypes: float64(6), object(5)\n",
      "memory usage: 1.4+ MB\n"
     ]
    },
    {
     "data": {
      "text/plain": [
       "Index(['Name', 'Platform', 'Year_of_Release', 'Genre', 'NA_sales', 'EU_sales',\n",
       "       'JP_sales', 'Other_sales', 'Critic_Score', 'User_Score', 'Rating'],\n",
       "      dtype='object')"
      ]
     },
     "execution_count": 4,
     "metadata": {},
     "output_type": "execute_result"
    }
   ],
   "source": [
    "df.info()\n",
    "df.columns"
   ]
  },
  {
   "cell_type": "markdown",
   "metadata": {},
   "source": [
    "Итак, в таблице 11 столбцов. Типы данных не во всех столбцах соотвествует содержимому.\n",
    "\n",
    "Согласно документации к данным:\n",
    "* `Name` — название игры\n",
    "* `Platform`- платформа\n",
    "* `Year_of_Release` — год выпуска\n",
    "* `Genre` — жанр игры\n",
    "* `NA_sales` — продажи в Северной Америке (миллионы проданных копий)\n",
    "* `EU_sales` — продажи в Европе (миллионы проданных копий)\n",
    "* `JP_sales` — продажи в Японии (миллионы проданных копий)\n",
    "* `Other_sales` — продажи в других странах (миллионы проданных копий)\n",
    "* `Critic_Score` — оценка критиков (максимум 100)\n",
    "* `User_Score` — оценка пользователей (максимум 10)\n",
    "* `Rating` — рейтинг от организации ESRB \n",
    "\n",
    "В наименовании столбцов есть нарушения.\n",
    "\n",
    "Количество значений в столбцах различаются, значит, в данных есть пропуски.\n",
    "\n",
    "Получим числовое описание данных по столбцам:"
   ]
  },
  {
   "cell_type": "code",
   "execution_count": 5,
   "metadata": {},
   "outputs": [
    {
     "data": {
      "text/html": [
       "<div>\n",
       "<style scoped>\n",
       "    .dataframe tbody tr th:only-of-type {\n",
       "        vertical-align: middle;\n",
       "    }\n",
       "\n",
       "    .dataframe tbody tr th {\n",
       "        vertical-align: top;\n",
       "    }\n",
       "\n",
       "    .dataframe thead th {\n",
       "        text-align: right;\n",
       "    }\n",
       "</style>\n",
       "<table border=\"1\" class=\"dataframe\">\n",
       "  <thead>\n",
       "    <tr style=\"text-align: right;\">\n",
       "      <th></th>\n",
       "      <th>Year_of_Release</th>\n",
       "      <th>NA_sales</th>\n",
       "      <th>EU_sales</th>\n",
       "      <th>JP_sales</th>\n",
       "      <th>Other_sales</th>\n",
       "      <th>Critic_Score</th>\n",
       "    </tr>\n",
       "  </thead>\n",
       "  <tbody>\n",
       "    <tr>\n",
       "      <th>count</th>\n",
       "      <td>16446.000000</td>\n",
       "      <td>16715.000000</td>\n",
       "      <td>16715.000000</td>\n",
       "      <td>16715.000000</td>\n",
       "      <td>16715.000000</td>\n",
       "      <td>8137.000000</td>\n",
       "    </tr>\n",
       "    <tr>\n",
       "      <th>mean</th>\n",
       "      <td>2006.484616</td>\n",
       "      <td>0.263377</td>\n",
       "      <td>0.145060</td>\n",
       "      <td>0.077617</td>\n",
       "      <td>0.047342</td>\n",
       "      <td>68.967679</td>\n",
       "    </tr>\n",
       "    <tr>\n",
       "      <th>std</th>\n",
       "      <td>5.877050</td>\n",
       "      <td>0.813604</td>\n",
       "      <td>0.503339</td>\n",
       "      <td>0.308853</td>\n",
       "      <td>0.186731</td>\n",
       "      <td>13.938165</td>\n",
       "    </tr>\n",
       "    <tr>\n",
       "      <th>min</th>\n",
       "      <td>1980.000000</td>\n",
       "      <td>0.000000</td>\n",
       "      <td>0.000000</td>\n",
       "      <td>0.000000</td>\n",
       "      <td>0.000000</td>\n",
       "      <td>13.000000</td>\n",
       "    </tr>\n",
       "    <tr>\n",
       "      <th>25%</th>\n",
       "      <td>2003.000000</td>\n",
       "      <td>0.000000</td>\n",
       "      <td>0.000000</td>\n",
       "      <td>0.000000</td>\n",
       "      <td>0.000000</td>\n",
       "      <td>60.000000</td>\n",
       "    </tr>\n",
       "    <tr>\n",
       "      <th>50%</th>\n",
       "      <td>2007.000000</td>\n",
       "      <td>0.080000</td>\n",
       "      <td>0.020000</td>\n",
       "      <td>0.000000</td>\n",
       "      <td>0.010000</td>\n",
       "      <td>71.000000</td>\n",
       "    </tr>\n",
       "    <tr>\n",
       "      <th>75%</th>\n",
       "      <td>2010.000000</td>\n",
       "      <td>0.240000</td>\n",
       "      <td>0.110000</td>\n",
       "      <td>0.040000</td>\n",
       "      <td>0.030000</td>\n",
       "      <td>79.000000</td>\n",
       "    </tr>\n",
       "    <tr>\n",
       "      <th>max</th>\n",
       "      <td>2016.000000</td>\n",
       "      <td>41.360000</td>\n",
       "      <td>28.960000</td>\n",
       "      <td>10.220000</td>\n",
       "      <td>10.570000</td>\n",
       "      <td>98.000000</td>\n",
       "    </tr>\n",
       "  </tbody>\n",
       "</table>\n",
       "</div>"
      ],
      "text/plain": [
       "       Year_of_Release      NA_sales      EU_sales      JP_sales  \\\n",
       "count     16446.000000  16715.000000  16715.000000  16715.000000   \n",
       "mean       2006.484616      0.263377      0.145060      0.077617   \n",
       "std           5.877050      0.813604      0.503339      0.308853   \n",
       "min        1980.000000      0.000000      0.000000      0.000000   \n",
       "25%        2003.000000      0.000000      0.000000      0.000000   \n",
       "50%        2007.000000      0.080000      0.020000      0.000000   \n",
       "75%        2010.000000      0.240000      0.110000      0.040000   \n",
       "max        2016.000000     41.360000     28.960000     10.220000   \n",
       "\n",
       "        Other_sales  Critic_Score  \n",
       "count  16715.000000   8137.000000  \n",
       "mean       0.047342     68.967679  \n",
       "std        0.186731     13.938165  \n",
       "min        0.000000     13.000000  \n",
       "25%        0.000000     60.000000  \n",
       "50%        0.010000     71.000000  \n",
       "75%        0.030000     79.000000  \n",
       "max       10.570000     98.000000  "
      ]
     },
     "execution_count": 5,
     "metadata": {},
     "output_type": "execute_result"
    }
   ],
   "source": [
    "df.describe()"
   ]
  },
  {
   "cell_type": "markdown",
   "metadata": {},
   "source": [
    "Проанализировав, отметим:\n",
    "* год выпуска указан не для всех игр;\n",
    "* среди продаж лидерует Северная Америка;\n",
    "* критики оценили не все игры, средняя оценка 68,9\n",
    "* столбец `User_Score` имеет не числовой тип данных, поэтому оценку пользователям проанализируем далее."
   ]
  },
  {
   "cell_type": "markdown",
   "metadata": {},
   "source": [
    "## Предобработка данных"
   ]
  },
  {
   "cell_type": "markdown",
   "metadata": {},
   "source": [
    "Исправим названия столбцов в соответствие с хорошим стилем - приведем к нижнему регистру:"
   ]
  },
  {
   "cell_type": "code",
   "execution_count": 6,
   "metadata": {},
   "outputs": [
    {
     "data": {
      "text/plain": [
       "Index(['name', 'platform', 'year_of_release', 'genre', 'na_sales', 'eu_sales',\n",
       "       'jp_sales', 'other_sales', 'critic_score', 'user_score', 'rating'],\n",
       "      dtype='object')"
      ]
     },
     "execution_count": 6,
     "metadata": {},
     "output_type": "execute_result"
    }
   ],
   "source": [
    "df.columns = map(str.lower, df.columns)\n",
    "df.columns"
   ]
  },
  {
   "cell_type": "markdown",
   "metadata": {},
   "source": [
    "### Заполнение пропусков"
   ]
  },
  {
   "cell_type": "markdown",
   "metadata": {},
   "source": [
    "В исходном датафрейме 16715 строк и 11 столбцов:"
   ]
  },
  {
   "cell_type": "code",
   "execution_count": 7,
   "metadata": {},
   "outputs": [
    {
     "data": {
      "text/plain": [
       "(16715, 11)"
      ]
     },
     "execution_count": 7,
     "metadata": {},
     "output_type": "execute_result"
    }
   ],
   "source": [
    "df.shape"
   ]
  },
  {
   "cell_type": "code",
   "execution_count": 8,
   "metadata": {},
   "outputs": [
    {
     "data": {
      "text/plain": [
       "name                  2\n",
       "platform              0\n",
       "year_of_release     269\n",
       "genre                 2\n",
       "na_sales              0\n",
       "eu_sales              0\n",
       "jp_sales              0\n",
       "other_sales           0\n",
       "critic_score       8578\n",
       "user_score         6701\n",
       "rating             6766\n",
       "dtype: int64"
      ]
     },
     "execution_count": 8,
     "metadata": {},
     "output_type": "execute_result"
    }
   ],
   "source": [
    "df.isna().sum()# подсчёт пропусков"
   ]
  },
  {
   "cell_type": "markdown",
   "metadata": {},
   "source": [
    "В 2 записях не указано наименование игры и ее жанр, год выпуска - в 269 записях. Посмотрим на пропущенные значения."
   ]
  },
  {
   "cell_type": "code",
   "execution_count": 9,
   "metadata": {},
   "outputs": [
    {
     "data": {
      "text/html": [
       "<div>\n",
       "<style scoped>\n",
       "    .dataframe tbody tr th:only-of-type {\n",
       "        vertical-align: middle;\n",
       "    }\n",
       "\n",
       "    .dataframe tbody tr th {\n",
       "        vertical-align: top;\n",
       "    }\n",
       "\n",
       "    .dataframe thead th {\n",
       "        text-align: right;\n",
       "    }\n",
       "</style>\n",
       "<table border=\"1\" class=\"dataframe\">\n",
       "  <thead>\n",
       "    <tr style=\"text-align: right;\">\n",
       "      <th></th>\n",
       "      <th>name</th>\n",
       "      <th>platform</th>\n",
       "      <th>year_of_release</th>\n",
       "      <th>genre</th>\n",
       "      <th>na_sales</th>\n",
       "      <th>eu_sales</th>\n",
       "      <th>jp_sales</th>\n",
       "      <th>other_sales</th>\n",
       "      <th>critic_score</th>\n",
       "      <th>user_score</th>\n",
       "      <th>rating</th>\n",
       "    </tr>\n",
       "  </thead>\n",
       "  <tbody>\n",
       "    <tr>\n",
       "      <th>659</th>\n",
       "      <td>NaN</td>\n",
       "      <td>GEN</td>\n",
       "      <td>1993.0</td>\n",
       "      <td>NaN</td>\n",
       "      <td>1.78</td>\n",
       "      <td>0.53</td>\n",
       "      <td>0.00</td>\n",
       "      <td>0.08</td>\n",
       "      <td>NaN</td>\n",
       "      <td>NaN</td>\n",
       "      <td>NaN</td>\n",
       "    </tr>\n",
       "    <tr>\n",
       "      <th>14244</th>\n",
       "      <td>NaN</td>\n",
       "      <td>GEN</td>\n",
       "      <td>1993.0</td>\n",
       "      <td>NaN</td>\n",
       "      <td>0.00</td>\n",
       "      <td>0.00</td>\n",
       "      <td>0.03</td>\n",
       "      <td>0.00</td>\n",
       "      <td>NaN</td>\n",
       "      <td>NaN</td>\n",
       "      <td>NaN</td>\n",
       "    </tr>\n",
       "  </tbody>\n",
       "</table>\n",
       "</div>"
      ],
      "text/plain": [
       "      name platform  year_of_release genre  na_sales  eu_sales  jp_sales  \\\n",
       "659    NaN      GEN           1993.0   NaN      1.78      0.53      0.00   \n",
       "14244  NaN      GEN           1993.0   NaN      0.00      0.00      0.03   \n",
       "\n",
       "       other_sales  critic_score user_score rating  \n",
       "659           0.08           NaN        NaN    NaN  \n",
       "14244         0.00           NaN        NaN    NaN  "
      ]
     },
     "execution_count": 9,
     "metadata": {},
     "output_type": "execute_result"
    }
   ],
   "source": [
    "df[df['name'].isna()]"
   ]
  },
  {
   "cell_type": "markdown",
   "metadata": {},
   "source": [
    "Наименование и жанр пусты у одних и тех же двух записей, можем предположить, что пропуски произошли в результате сбоя при сохранении, так как их количество невелико. Удалим эти записи из датафрейма, потому что заполнение не представилось возможным:"
   ]
  },
  {
   "cell_type": "code",
   "execution_count": 10,
   "metadata": {},
   "outputs": [],
   "source": [
    "df = df.dropna(subset=['name']).reset_index(drop=True)"
   ]
  },
  {
   "cell_type": "markdown",
   "metadata": {},
   "source": [
    "Оценим пропуски в `year_of_release`:"
   ]
  },
  {
   "cell_type": "code",
   "execution_count": 11,
   "metadata": {},
   "outputs": [
    {
     "data": {
      "text/html": [
       "<div>\n",
       "<style scoped>\n",
       "    .dataframe tbody tr th:only-of-type {\n",
       "        vertical-align: middle;\n",
       "    }\n",
       "\n",
       "    .dataframe tbody tr th {\n",
       "        vertical-align: top;\n",
       "    }\n",
       "\n",
       "    .dataframe thead th {\n",
       "        text-align: right;\n",
       "    }\n",
       "</style>\n",
       "<table border=\"1\" class=\"dataframe\">\n",
       "  <thead>\n",
       "    <tr style=\"text-align: right;\">\n",
       "      <th></th>\n",
       "      <th>name</th>\n",
       "      <th>platform</th>\n",
       "      <th>year_of_release</th>\n",
       "      <th>genre</th>\n",
       "      <th>na_sales</th>\n",
       "      <th>eu_sales</th>\n",
       "      <th>jp_sales</th>\n",
       "      <th>other_sales</th>\n",
       "      <th>critic_score</th>\n",
       "      <th>user_score</th>\n",
       "      <th>rating</th>\n",
       "    </tr>\n",
       "  </thead>\n",
       "  <tbody>\n",
       "    <tr>\n",
       "      <th>183</th>\n",
       "      <td>Madden NFL 2004</td>\n",
       "      <td>PS2</td>\n",
       "      <td>NaN</td>\n",
       "      <td>Sports</td>\n",
       "      <td>4.26</td>\n",
       "      <td>0.26</td>\n",
       "      <td>0.01</td>\n",
       "      <td>0.71</td>\n",
       "      <td>94.0</td>\n",
       "      <td>8.5</td>\n",
       "      <td>E</td>\n",
       "    </tr>\n",
       "    <tr>\n",
       "      <th>377</th>\n",
       "      <td>FIFA Soccer 2004</td>\n",
       "      <td>PS2</td>\n",
       "      <td>NaN</td>\n",
       "      <td>Sports</td>\n",
       "      <td>0.59</td>\n",
       "      <td>2.36</td>\n",
       "      <td>0.04</td>\n",
       "      <td>0.51</td>\n",
       "      <td>84.0</td>\n",
       "      <td>6.4</td>\n",
       "      <td>E</td>\n",
       "    </tr>\n",
       "    <tr>\n",
       "      <th>456</th>\n",
       "      <td>LEGO Batman: The Videogame</td>\n",
       "      <td>Wii</td>\n",
       "      <td>NaN</td>\n",
       "      <td>Action</td>\n",
       "      <td>1.80</td>\n",
       "      <td>0.97</td>\n",
       "      <td>0.00</td>\n",
       "      <td>0.29</td>\n",
       "      <td>74.0</td>\n",
       "      <td>7.9</td>\n",
       "      <td>E10+</td>\n",
       "    </tr>\n",
       "    <tr>\n",
       "      <th>475</th>\n",
       "      <td>wwe Smackdown vs. Raw 2006</td>\n",
       "      <td>PS2</td>\n",
       "      <td>NaN</td>\n",
       "      <td>Fighting</td>\n",
       "      <td>1.57</td>\n",
       "      <td>1.02</td>\n",
       "      <td>0.00</td>\n",
       "      <td>0.41</td>\n",
       "      <td>NaN</td>\n",
       "      <td>NaN</td>\n",
       "      <td>NaN</td>\n",
       "    </tr>\n",
       "    <tr>\n",
       "      <th>609</th>\n",
       "      <td>Space Invaders</td>\n",
       "      <td>2600</td>\n",
       "      <td>NaN</td>\n",
       "      <td>Shooter</td>\n",
       "      <td>2.36</td>\n",
       "      <td>0.14</td>\n",
       "      <td>0.00</td>\n",
       "      <td>0.03</td>\n",
       "      <td>NaN</td>\n",
       "      <td>NaN</td>\n",
       "      <td>NaN</td>\n",
       "    </tr>\n",
       "    <tr>\n",
       "      <th>...</th>\n",
       "      <td>...</td>\n",
       "      <td>...</td>\n",
       "      <td>...</td>\n",
       "      <td>...</td>\n",
       "      <td>...</td>\n",
       "      <td>...</td>\n",
       "      <td>...</td>\n",
       "      <td>...</td>\n",
       "      <td>...</td>\n",
       "      <td>...</td>\n",
       "      <td>...</td>\n",
       "    </tr>\n",
       "    <tr>\n",
       "      <th>16371</th>\n",
       "      <td>PDC World Championship Darts 2008</td>\n",
       "      <td>PSP</td>\n",
       "      <td>NaN</td>\n",
       "      <td>Sports</td>\n",
       "      <td>0.01</td>\n",
       "      <td>0.00</td>\n",
       "      <td>0.00</td>\n",
       "      <td>0.00</td>\n",
       "      <td>43.0</td>\n",
       "      <td>tbd</td>\n",
       "      <td>E10+</td>\n",
       "    </tr>\n",
       "    <tr>\n",
       "      <th>16403</th>\n",
       "      <td>Freaky Flyers</td>\n",
       "      <td>GC</td>\n",
       "      <td>NaN</td>\n",
       "      <td>Racing</td>\n",
       "      <td>0.01</td>\n",
       "      <td>0.00</td>\n",
       "      <td>0.00</td>\n",
       "      <td>0.00</td>\n",
       "      <td>69.0</td>\n",
       "      <td>6.5</td>\n",
       "      <td>T</td>\n",
       "    </tr>\n",
       "    <tr>\n",
       "      <th>16446</th>\n",
       "      <td>Inversion</td>\n",
       "      <td>PC</td>\n",
       "      <td>NaN</td>\n",
       "      <td>Shooter</td>\n",
       "      <td>0.01</td>\n",
       "      <td>0.00</td>\n",
       "      <td>0.00</td>\n",
       "      <td>0.00</td>\n",
       "      <td>59.0</td>\n",
       "      <td>6.7</td>\n",
       "      <td>M</td>\n",
       "    </tr>\n",
       "    <tr>\n",
       "      <th>16456</th>\n",
       "      <td>Hakuouki: Shinsengumi Kitan</td>\n",
       "      <td>PS3</td>\n",
       "      <td>NaN</td>\n",
       "      <td>Adventure</td>\n",
       "      <td>0.01</td>\n",
       "      <td>0.00</td>\n",
       "      <td>0.00</td>\n",
       "      <td>0.00</td>\n",
       "      <td>NaN</td>\n",
       "      <td>NaN</td>\n",
       "      <td>NaN</td>\n",
       "    </tr>\n",
       "    <tr>\n",
       "      <th>16520</th>\n",
       "      <td>Virtua Quest</td>\n",
       "      <td>GC</td>\n",
       "      <td>NaN</td>\n",
       "      <td>Role-Playing</td>\n",
       "      <td>0.01</td>\n",
       "      <td>0.00</td>\n",
       "      <td>0.00</td>\n",
       "      <td>0.00</td>\n",
       "      <td>55.0</td>\n",
       "      <td>5.5</td>\n",
       "      <td>T</td>\n",
       "    </tr>\n",
       "  </tbody>\n",
       "</table>\n",
       "<p>269 rows × 11 columns</p>\n",
       "</div>"
      ],
      "text/plain": [
       "                                    name platform  year_of_release  \\\n",
       "183                      Madden NFL 2004      PS2              NaN   \n",
       "377                     FIFA Soccer 2004      PS2              NaN   \n",
       "456           LEGO Batman: The Videogame      Wii              NaN   \n",
       "475           wwe Smackdown vs. Raw 2006      PS2              NaN   \n",
       "609                       Space Invaders     2600              NaN   \n",
       "...                                  ...      ...              ...   \n",
       "16371  PDC World Championship Darts 2008      PSP              NaN   \n",
       "16403                      Freaky Flyers       GC              NaN   \n",
       "16446                          Inversion       PC              NaN   \n",
       "16456        Hakuouki: Shinsengumi Kitan      PS3              NaN   \n",
       "16520                       Virtua Quest       GC              NaN   \n",
       "\n",
       "              genre  na_sales  eu_sales  jp_sales  other_sales  critic_score  \\\n",
       "183          Sports      4.26      0.26      0.01         0.71          94.0   \n",
       "377          Sports      0.59      2.36      0.04         0.51          84.0   \n",
       "456          Action      1.80      0.97      0.00         0.29          74.0   \n",
       "475        Fighting      1.57      1.02      0.00         0.41           NaN   \n",
       "609         Shooter      2.36      0.14      0.00         0.03           NaN   \n",
       "...             ...       ...       ...       ...          ...           ...   \n",
       "16371        Sports      0.01      0.00      0.00         0.00          43.0   \n",
       "16403        Racing      0.01      0.00      0.00         0.00          69.0   \n",
       "16446       Shooter      0.01      0.00      0.00         0.00          59.0   \n",
       "16456     Adventure      0.01      0.00      0.00         0.00           NaN   \n",
       "16520  Role-Playing      0.01      0.00      0.00         0.00          55.0   \n",
       "\n",
       "      user_score rating  \n",
       "183          8.5      E  \n",
       "377          6.4      E  \n",
       "456          7.9   E10+  \n",
       "475          NaN    NaN  \n",
       "609          NaN    NaN  \n",
       "...          ...    ...  \n",
       "16371        tbd   E10+  \n",
       "16403        6.5      T  \n",
       "16446        6.7      M  \n",
       "16456        NaN    NaN  \n",
       "16520        5.5      T  \n",
       "\n",
       "[269 rows x 11 columns]"
      ]
     },
     "execution_count": 11,
     "metadata": {},
     "output_type": "execute_result"
    }
   ],
   "source": [
    "df[df['year_of_release'].isna()]"
   ]
  },
  {
   "cell_type": "markdown",
   "metadata": {},
   "source": [
    "Заметим, что в некоторых наименованих игр содержатся год, можем предположить, что это и есть год выпуска. Временно создадим столбец `year from_name`, в который запишем год, извлеченный из названия игры, как последние 4 символа:  "
   ]
  },
  {
   "cell_type": "code",
   "execution_count": 12,
   "metadata": {},
   "outputs": [],
   "source": [
    "df['year_from_name']=df[df['name'].str[-4:].str.isnumeric()== True]['name'].str[-4:].astype('float64')"
   ]
  },
  {
   "cell_type": "markdown",
   "metadata": {},
   "source": [
    "В 15 записях можем заполнить год выпуска:"
   ]
  },
  {
   "cell_type": "code",
   "execution_count": 13,
   "metadata": {},
   "outputs": [
    {
     "data": {
      "text/html": [
       "<div>\n",
       "<style scoped>\n",
       "    .dataframe tbody tr th:only-of-type {\n",
       "        vertical-align: middle;\n",
       "    }\n",
       "\n",
       "    .dataframe tbody tr th {\n",
       "        vertical-align: top;\n",
       "    }\n",
       "\n",
       "    .dataframe thead th {\n",
       "        text-align: right;\n",
       "    }\n",
       "</style>\n",
       "<table border=\"1\" class=\"dataframe\">\n",
       "  <thead>\n",
       "    <tr style=\"text-align: right;\">\n",
       "      <th></th>\n",
       "      <th>name</th>\n",
       "      <th>platform</th>\n",
       "      <th>year_of_release</th>\n",
       "      <th>genre</th>\n",
       "      <th>na_sales</th>\n",
       "      <th>eu_sales</th>\n",
       "      <th>jp_sales</th>\n",
       "      <th>other_sales</th>\n",
       "      <th>critic_score</th>\n",
       "      <th>user_score</th>\n",
       "      <th>rating</th>\n",
       "      <th>year_from_name</th>\n",
       "    </tr>\n",
       "  </thead>\n",
       "  <tbody>\n",
       "    <tr>\n",
       "      <th>183</th>\n",
       "      <td>Madden NFL 2004</td>\n",
       "      <td>PS2</td>\n",
       "      <td>NaN</td>\n",
       "      <td>Sports</td>\n",
       "      <td>4.26</td>\n",
       "      <td>0.26</td>\n",
       "      <td>0.01</td>\n",
       "      <td>0.71</td>\n",
       "      <td>94.0</td>\n",
       "      <td>8.5</td>\n",
       "      <td>E</td>\n",
       "      <td>2004.0</td>\n",
       "    </tr>\n",
       "    <tr>\n",
       "      <th>377</th>\n",
       "      <td>FIFA Soccer 2004</td>\n",
       "      <td>PS2</td>\n",
       "      <td>NaN</td>\n",
       "      <td>Sports</td>\n",
       "      <td>0.59</td>\n",
       "      <td>2.36</td>\n",
       "      <td>0.04</td>\n",
       "      <td>0.51</td>\n",
       "      <td>84.0</td>\n",
       "      <td>6.4</td>\n",
       "      <td>E</td>\n",
       "      <td>2004.0</td>\n",
       "    </tr>\n",
       "    <tr>\n",
       "      <th>475</th>\n",
       "      <td>wwe Smackdown vs. Raw 2006</td>\n",
       "      <td>PS2</td>\n",
       "      <td>NaN</td>\n",
       "      <td>Fighting</td>\n",
       "      <td>1.57</td>\n",
       "      <td>1.02</td>\n",
       "      <td>0.00</td>\n",
       "      <td>0.41</td>\n",
       "      <td>NaN</td>\n",
       "      <td>NaN</td>\n",
       "      <td>NaN</td>\n",
       "      <td>2006.0</td>\n",
       "    </tr>\n",
       "    <tr>\n",
       "      <th>1649</th>\n",
       "      <td>NASCAR Thunder 2003</td>\n",
       "      <td>PS2</td>\n",
       "      <td>NaN</td>\n",
       "      <td>Racing</td>\n",
       "      <td>0.60</td>\n",
       "      <td>0.46</td>\n",
       "      <td>0.00</td>\n",
       "      <td>0.16</td>\n",
       "      <td>84.0</td>\n",
       "      <td>8.7</td>\n",
       "      <td>E</td>\n",
       "      <td>2003.0</td>\n",
       "    </tr>\n",
       "    <tr>\n",
       "      <th>3485</th>\n",
       "      <td>Madden NFL 2002</td>\n",
       "      <td>XB</td>\n",
       "      <td>NaN</td>\n",
       "      <td>Sports</td>\n",
       "      <td>0.53</td>\n",
       "      <td>0.02</td>\n",
       "      <td>0.00</td>\n",
       "      <td>0.03</td>\n",
       "      <td>90.0</td>\n",
       "      <td>8.1</td>\n",
       "      <td>E</td>\n",
       "      <td>2002.0</td>\n",
       "    </tr>\n",
       "    <tr>\n",
       "      <th>4774</th>\n",
       "      <td>NFL GameDay 2003</td>\n",
       "      <td>PS2</td>\n",
       "      <td>NaN</td>\n",
       "      <td>Sports</td>\n",
       "      <td>0.20</td>\n",
       "      <td>0.15</td>\n",
       "      <td>0.00</td>\n",
       "      <td>0.05</td>\n",
       "      <td>60.0</td>\n",
       "      <td>tbd</td>\n",
       "      <td>E</td>\n",
       "      <td>2003.0</td>\n",
       "    </tr>\n",
       "    <tr>\n",
       "      <th>5155</th>\n",
       "      <td>NBA Live 2003</td>\n",
       "      <td>XB</td>\n",
       "      <td>NaN</td>\n",
       "      <td>Sports</td>\n",
       "      <td>0.31</td>\n",
       "      <td>0.04</td>\n",
       "      <td>0.00</td>\n",
       "      <td>0.01</td>\n",
       "      <td>82.0</td>\n",
       "      <td>8.8</td>\n",
       "      <td>E</td>\n",
       "      <td>2003.0</td>\n",
       "    </tr>\n",
       "    <tr>\n",
       "      <th>5654</th>\n",
       "      <td>All-Star Baseball 2005</td>\n",
       "      <td>PS2</td>\n",
       "      <td>NaN</td>\n",
       "      <td>Sports</td>\n",
       "      <td>0.16</td>\n",
       "      <td>0.12</td>\n",
       "      <td>0.00</td>\n",
       "      <td>0.04</td>\n",
       "      <td>72.0</td>\n",
       "      <td>8.6</td>\n",
       "      <td>E</td>\n",
       "      <td>2005.0</td>\n",
       "    </tr>\n",
       "    <tr>\n",
       "      <th>5888</th>\n",
       "      <td>NBA Live 2003</td>\n",
       "      <td>GC</td>\n",
       "      <td>NaN</td>\n",
       "      <td>Sports</td>\n",
       "      <td>0.23</td>\n",
       "      <td>0.06</td>\n",
       "      <td>0.00</td>\n",
       "      <td>0.01</td>\n",
       "      <td>82.0</td>\n",
       "      <td>8.2</td>\n",
       "      <td>E</td>\n",
       "      <td>2003.0</td>\n",
       "    </tr>\n",
       "    <tr>\n",
       "      <th>8917</th>\n",
       "      <td>All-Star Baseball 2005</td>\n",
       "      <td>XB</td>\n",
       "      <td>NaN</td>\n",
       "      <td>Sports</td>\n",
       "      <td>0.11</td>\n",
       "      <td>0.03</td>\n",
       "      <td>0.00</td>\n",
       "      <td>0.01</td>\n",
       "      <td>75.0</td>\n",
       "      <td>8.8</td>\n",
       "      <td>E</td>\n",
       "      <td>2005.0</td>\n",
       "    </tr>\n",
       "    <tr>\n",
       "      <th>13194</th>\n",
       "      <td>Tour de France 2011</td>\n",
       "      <td>X360</td>\n",
       "      <td>NaN</td>\n",
       "      <td>Racing</td>\n",
       "      <td>0.00</td>\n",
       "      <td>0.04</td>\n",
       "      <td>0.00</td>\n",
       "      <td>0.01</td>\n",
       "      <td>46.0</td>\n",
       "      <td>7.6</td>\n",
       "      <td>NaN</td>\n",
       "      <td>2011.0</td>\n",
       "    </tr>\n",
       "    <tr>\n",
       "      <th>13928</th>\n",
       "      <td>Sega Rally 2006</td>\n",
       "      <td>PS2</td>\n",
       "      <td>NaN</td>\n",
       "      <td>Racing</td>\n",
       "      <td>0.00</td>\n",
       "      <td>0.00</td>\n",
       "      <td>0.04</td>\n",
       "      <td>0.00</td>\n",
       "      <td>NaN</td>\n",
       "      <td>NaN</td>\n",
       "      <td>NaN</td>\n",
       "      <td>2006.0</td>\n",
       "    </tr>\n",
       "    <tr>\n",
       "      <th>15951</th>\n",
       "      <td>PDC World Championship Darts 2008</td>\n",
       "      <td>DS</td>\n",
       "      <td>NaN</td>\n",
       "      <td>Sports</td>\n",
       "      <td>0.01</td>\n",
       "      <td>0.00</td>\n",
       "      <td>0.00</td>\n",
       "      <td>0.00</td>\n",
       "      <td>NaN</td>\n",
       "      <td>NaN</td>\n",
       "      <td>NaN</td>\n",
       "      <td>2008.0</td>\n",
       "    </tr>\n",
       "    <tr>\n",
       "      <th>16077</th>\n",
       "      <td>Football Manager 2007</td>\n",
       "      <td>X360</td>\n",
       "      <td>NaN</td>\n",
       "      <td>Sports</td>\n",
       "      <td>0.00</td>\n",
       "      <td>0.01</td>\n",
       "      <td>0.00</td>\n",
       "      <td>0.00</td>\n",
       "      <td>NaN</td>\n",
       "      <td>NaN</td>\n",
       "      <td>NaN</td>\n",
       "      <td>2007.0</td>\n",
       "    </tr>\n",
       "    <tr>\n",
       "      <th>16371</th>\n",
       "      <td>PDC World Championship Darts 2008</td>\n",
       "      <td>PSP</td>\n",
       "      <td>NaN</td>\n",
       "      <td>Sports</td>\n",
       "      <td>0.01</td>\n",
       "      <td>0.00</td>\n",
       "      <td>0.00</td>\n",
       "      <td>0.00</td>\n",
       "      <td>43.0</td>\n",
       "      <td>tbd</td>\n",
       "      <td>E10+</td>\n",
       "      <td>2008.0</td>\n",
       "    </tr>\n",
       "  </tbody>\n",
       "</table>\n",
       "</div>"
      ],
      "text/plain": [
       "                                    name platform  year_of_release     genre  \\\n",
       "183                      Madden NFL 2004      PS2              NaN    Sports   \n",
       "377                     FIFA Soccer 2004      PS2              NaN    Sports   \n",
       "475           wwe Smackdown vs. Raw 2006      PS2              NaN  Fighting   \n",
       "1649                 NASCAR Thunder 2003      PS2              NaN    Racing   \n",
       "3485                     Madden NFL 2002       XB              NaN    Sports   \n",
       "4774                    NFL GameDay 2003      PS2              NaN    Sports   \n",
       "5155                       NBA Live 2003       XB              NaN    Sports   \n",
       "5654              All-Star Baseball 2005      PS2              NaN    Sports   \n",
       "5888                       NBA Live 2003       GC              NaN    Sports   \n",
       "8917              All-Star Baseball 2005       XB              NaN    Sports   \n",
       "13194                Tour de France 2011     X360              NaN    Racing   \n",
       "13928                    Sega Rally 2006      PS2              NaN    Racing   \n",
       "15951  PDC World Championship Darts 2008       DS              NaN    Sports   \n",
       "16077              Football Manager 2007     X360              NaN    Sports   \n",
       "16371  PDC World Championship Darts 2008      PSP              NaN    Sports   \n",
       "\n",
       "       na_sales  eu_sales  jp_sales  other_sales  critic_score user_score  \\\n",
       "183        4.26      0.26      0.01         0.71          94.0        8.5   \n",
       "377        0.59      2.36      0.04         0.51          84.0        6.4   \n",
       "475        1.57      1.02      0.00         0.41           NaN        NaN   \n",
       "1649       0.60      0.46      0.00         0.16          84.0        8.7   \n",
       "3485       0.53      0.02      0.00         0.03          90.0        8.1   \n",
       "4774       0.20      0.15      0.00         0.05          60.0        tbd   \n",
       "5155       0.31      0.04      0.00         0.01          82.0        8.8   \n",
       "5654       0.16      0.12      0.00         0.04          72.0        8.6   \n",
       "5888       0.23      0.06      0.00         0.01          82.0        8.2   \n",
       "8917       0.11      0.03      0.00         0.01          75.0        8.8   \n",
       "13194      0.00      0.04      0.00         0.01          46.0        7.6   \n",
       "13928      0.00      0.00      0.04         0.00           NaN        NaN   \n",
       "15951      0.01      0.00      0.00         0.00           NaN        NaN   \n",
       "16077      0.00      0.01      0.00         0.00           NaN        NaN   \n",
       "16371      0.01      0.00      0.00         0.00          43.0        tbd   \n",
       "\n",
       "      rating  year_from_name  \n",
       "183        E          2004.0  \n",
       "377        E          2004.0  \n",
       "475      NaN          2006.0  \n",
       "1649       E          2003.0  \n",
       "3485       E          2002.0  \n",
       "4774       E          2003.0  \n",
       "5155       E          2003.0  \n",
       "5654       E          2005.0  \n",
       "5888       E          2003.0  \n",
       "8917       E          2005.0  \n",
       "13194    NaN          2011.0  \n",
       "13928    NaN          2006.0  \n",
       "15951    NaN          2008.0  \n",
       "16077    NaN          2007.0  \n",
       "16371   E10+          2008.0  "
      ]
     },
     "execution_count": 13,
     "metadata": {},
     "output_type": "execute_result"
    }
   ],
   "source": [
    "df[(df['year_from_name'].notnull()) & (df['year_of_release'].isna())]"
   ]
  },
  {
   "cell_type": "code",
   "execution_count": 14,
   "metadata": {},
   "outputs": [],
   "source": [
    "df['year_of_release'] = df['year_of_release'].fillna(df['year_from_name'])"
   ]
  },
  {
   "cell_type": "markdown",
   "metadata": {},
   "source": [
    "Еще раз проверим кооличестов пропусков: "
   ]
  },
  {
   "cell_type": "code",
   "execution_count": 15,
   "metadata": {},
   "outputs": [
    {
     "data": {
      "text/plain": [
       "254"
      ]
     },
     "execution_count": 15,
     "metadata": {},
     "output_type": "execute_result"
    }
   ],
   "source": [
    "df['year_of_release'].isna().sum()"
   ]
  },
  {
   "cell_type": "markdown",
   "metadata": {},
   "source": [
    "Остальные пропущеные строки удалим, так как их заполнение не представилось возможным. И удалим временный столбец `year_from_name`:"
   ]
  },
  {
   "cell_type": "code",
   "execution_count": 16,
   "metadata": {},
   "outputs": [],
   "source": [
    "df = df.dropna(subset=['year_of_release']).reset_index(drop=True) \n",
    "df = df.drop(['year_from_name'], axis=1)"
   ]
  },
  {
   "cell_type": "markdown",
   "metadata": {},
   "source": [
    "Проверим размер датафрейма:"
   ]
  },
  {
   "cell_type": "code",
   "execution_count": 17,
   "metadata": {},
   "outputs": [
    {
     "data": {
      "text/plain": [
       "(16459, 11)"
      ]
     },
     "execution_count": 17,
     "metadata": {},
     "output_type": "execute_result"
    }
   ],
   "source": [
    "df.shape"
   ]
  },
  {
   "cell_type": "markdown",
   "metadata": {},
   "source": [
    "Оценка критиков не указана более чем в половине случаев, оценка пользователей и рейтинг от организации ESRB - примерно в 40% данных."
   ]
  },
  {
   "cell_type": "code",
   "execution_count": 18,
   "metadata": {
    "scrolled": false
   },
   "outputs": [
    {
     "data": {
      "text/html": [
       "<div>\n",
       "<style scoped>\n",
       "    .dataframe tbody tr th:only-of-type {\n",
       "        vertical-align: middle;\n",
       "    }\n",
       "\n",
       "    .dataframe tbody tr th {\n",
       "        vertical-align: top;\n",
       "    }\n",
       "\n",
       "    .dataframe thead th {\n",
       "        text-align: right;\n",
       "    }\n",
       "</style>\n",
       "<table border=\"1\" class=\"dataframe\">\n",
       "  <thead>\n",
       "    <tr style=\"text-align: right;\">\n",
       "      <th></th>\n",
       "      <th>name</th>\n",
       "      <th>platform</th>\n",
       "      <th>genre</th>\n",
       "      <th>na_sales</th>\n",
       "      <th>eu_sales</th>\n",
       "      <th>jp_sales</th>\n",
       "      <th>other_sales</th>\n",
       "      <th>critic_score</th>\n",
       "      <th>user_score</th>\n",
       "      <th>rating</th>\n",
       "    </tr>\n",
       "    <tr>\n",
       "      <th>year_of_release</th>\n",
       "      <th></th>\n",
       "      <th></th>\n",
       "      <th></th>\n",
       "      <th></th>\n",
       "      <th></th>\n",
       "      <th></th>\n",
       "      <th></th>\n",
       "      <th></th>\n",
       "      <th></th>\n",
       "      <th></th>\n",
       "    </tr>\n",
       "  </thead>\n",
       "  <tbody>\n",
       "    <tr>\n",
       "      <th>2016.0</th>\n",
       "      <td>502</td>\n",
       "      <td>502</td>\n",
       "      <td>502</td>\n",
       "      <td>502</td>\n",
       "      <td>502</td>\n",
       "      <td>502</td>\n",
       "      <td>502</td>\n",
       "      <td>232</td>\n",
       "      <td>296</td>\n",
       "      <td>280</td>\n",
       "    </tr>\n",
       "    <tr>\n",
       "      <th>2015.0</th>\n",
       "      <td>606</td>\n",
       "      <td>606</td>\n",
       "      <td>606</td>\n",
       "      <td>606</td>\n",
       "      <td>606</td>\n",
       "      <td>606</td>\n",
       "      <td>606</td>\n",
       "      <td>225</td>\n",
       "      <td>335</td>\n",
       "      <td>315</td>\n",
       "    </tr>\n",
       "    <tr>\n",
       "      <th>2014.0</th>\n",
       "      <td>581</td>\n",
       "      <td>581</td>\n",
       "      <td>581</td>\n",
       "      <td>581</td>\n",
       "      <td>581</td>\n",
       "      <td>581</td>\n",
       "      <td>581</td>\n",
       "      <td>261</td>\n",
       "      <td>350</td>\n",
       "      <td>345</td>\n",
       "    </tr>\n",
       "    <tr>\n",
       "      <th>2013.0</th>\n",
       "      <td>544</td>\n",
       "      <td>544</td>\n",
       "      <td>544</td>\n",
       "      <td>544</td>\n",
       "      <td>544</td>\n",
       "      <td>544</td>\n",
       "      <td>544</td>\n",
       "      <td>273</td>\n",
       "      <td>319</td>\n",
       "      <td>316</td>\n",
       "    </tr>\n",
       "    <tr>\n",
       "      <th>2012.0</th>\n",
       "      <td>653</td>\n",
       "      <td>653</td>\n",
       "      <td>653</td>\n",
       "      <td>653</td>\n",
       "      <td>653</td>\n",
       "      <td>653</td>\n",
       "      <td>653</td>\n",
       "      <td>321</td>\n",
       "      <td>363</td>\n",
       "      <td>355</td>\n",
       "    </tr>\n",
       "    <tr>\n",
       "      <th>2011.0</th>\n",
       "      <td>1137</td>\n",
       "      <td>1137</td>\n",
       "      <td>1137</td>\n",
       "      <td>1137</td>\n",
       "      <td>1137</td>\n",
       "      <td>1137</td>\n",
       "      <td>1137</td>\n",
       "      <td>501</td>\n",
       "      <td>719</td>\n",
       "      <td>703</td>\n",
       "    </tr>\n",
       "    <tr>\n",
       "      <th>2010.0</th>\n",
       "      <td>1255</td>\n",
       "      <td>1255</td>\n",
       "      <td>1255</td>\n",
       "      <td>1255</td>\n",
       "      <td>1255</td>\n",
       "      <td>1255</td>\n",
       "      <td>1255</td>\n",
       "      <td>500</td>\n",
       "      <td>798</td>\n",
       "      <td>799</td>\n",
       "    </tr>\n",
       "    <tr>\n",
       "      <th>2009.0</th>\n",
       "      <td>1426</td>\n",
       "      <td>1426</td>\n",
       "      <td>1426</td>\n",
       "      <td>1426</td>\n",
       "      <td>1426</td>\n",
       "      <td>1426</td>\n",
       "      <td>1426</td>\n",
       "      <td>651</td>\n",
       "      <td>1019</td>\n",
       "      <td>1011</td>\n",
       "    </tr>\n",
       "    <tr>\n",
       "      <th>2008.0</th>\n",
       "      <td>1429</td>\n",
       "      <td>1429</td>\n",
       "      <td>1429</td>\n",
       "      <td>1429</td>\n",
       "      <td>1429</td>\n",
       "      <td>1429</td>\n",
       "      <td>1429</td>\n",
       "      <td>716</td>\n",
       "      <td>988</td>\n",
       "      <td>982</td>\n",
       "    </tr>\n",
       "    <tr>\n",
       "      <th>2007.0</th>\n",
       "      <td>1198</td>\n",
       "      <td>1198</td>\n",
       "      <td>1198</td>\n",
       "      <td>1198</td>\n",
       "      <td>1198</td>\n",
       "      <td>1198</td>\n",
       "      <td>1198</td>\n",
       "      <td>692</td>\n",
       "      <td>821</td>\n",
       "      <td>821</td>\n",
       "    </tr>\n",
       "    <tr>\n",
       "      <th>2006.0</th>\n",
       "      <td>1008</td>\n",
       "      <td>1008</td>\n",
       "      <td>1008</td>\n",
       "      <td>1008</td>\n",
       "      <td>1008</td>\n",
       "      <td>1008</td>\n",
       "      <td>1008</td>\n",
       "      <td>620</td>\n",
       "      <td>676</td>\n",
       "      <td>678</td>\n",
       "    </tr>\n",
       "    <tr>\n",
       "      <th>2005.0</th>\n",
       "      <td>941</td>\n",
       "      <td>941</td>\n",
       "      <td>941</td>\n",
       "      <td>941</td>\n",
       "      <td>941</td>\n",
       "      <td>941</td>\n",
       "      <td>941</td>\n",
       "      <td>657</td>\n",
       "      <td>706</td>\n",
       "      <td>708</td>\n",
       "    </tr>\n",
       "    <tr>\n",
       "      <th>2004.0</th>\n",
       "      <td>764</td>\n",
       "      <td>764</td>\n",
       "      <td>764</td>\n",
       "      <td>764</td>\n",
       "      <td>764</td>\n",
       "      <td>764</td>\n",
       "      <td>764</td>\n",
       "      <td>563</td>\n",
       "      <td>598</td>\n",
       "      <td>600</td>\n",
       "    </tr>\n",
       "    <tr>\n",
       "      <th>2003.0</th>\n",
       "      <td>779</td>\n",
       "      <td>779</td>\n",
       "      <td>779</td>\n",
       "      <td>779</td>\n",
       "      <td>779</td>\n",
       "      <td>779</td>\n",
       "      <td>779</td>\n",
       "      <td>589</td>\n",
       "      <td>615</td>\n",
       "      <td>617</td>\n",
       "    </tr>\n",
       "    <tr>\n",
       "      <th>2002.0</th>\n",
       "      <td>830</td>\n",
       "      <td>830</td>\n",
       "      <td>830</td>\n",
       "      <td>830</td>\n",
       "      <td>830</td>\n",
       "      <td>830</td>\n",
       "      <td>830</td>\n",
       "      <td>628</td>\n",
       "      <td>657</td>\n",
       "      <td>656</td>\n",
       "    </tr>\n",
       "    <tr>\n",
       "      <th>2001.0</th>\n",
       "      <td>482</td>\n",
       "      <td>482</td>\n",
       "      <td>482</td>\n",
       "      <td>482</td>\n",
       "      <td>482</td>\n",
       "      <td>482</td>\n",
       "      <td>482</td>\n",
       "      <td>326</td>\n",
       "      <td>339</td>\n",
       "      <td>339</td>\n",
       "    </tr>\n",
       "    <tr>\n",
       "      <th>2000.0</th>\n",
       "      <td>350</td>\n",
       "      <td>350</td>\n",
       "      <td>350</td>\n",
       "      <td>350</td>\n",
       "      <td>350</td>\n",
       "      <td>350</td>\n",
       "      <td>350</td>\n",
       "      <td>143</td>\n",
       "      <td>150</td>\n",
       "      <td>148</td>\n",
       "    </tr>\n",
       "    <tr>\n",
       "      <th>1999.0</th>\n",
       "      <td>338</td>\n",
       "      <td>338</td>\n",
       "      <td>338</td>\n",
       "      <td>338</td>\n",
       "      <td>338</td>\n",
       "      <td>338</td>\n",
       "      <td>338</td>\n",
       "      <td>39</td>\n",
       "      <td>39</td>\n",
       "      <td>42</td>\n",
       "    </tr>\n",
       "    <tr>\n",
       "      <th>1998.0</th>\n",
       "      <td>379</td>\n",
       "      <td>379</td>\n",
       "      <td>379</td>\n",
       "      <td>379</td>\n",
       "      <td>379</td>\n",
       "      <td>379</td>\n",
       "      <td>379</td>\n",
       "      <td>28</td>\n",
       "      <td>31</td>\n",
       "      <td>32</td>\n",
       "    </tr>\n",
       "    <tr>\n",
       "      <th>1997.0</th>\n",
       "      <td>289</td>\n",
       "      <td>289</td>\n",
       "      <td>289</td>\n",
       "      <td>289</td>\n",
       "      <td>289</td>\n",
       "      <td>289</td>\n",
       "      <td>289</td>\n",
       "      <td>17</td>\n",
       "      <td>19</td>\n",
       "      <td>19</td>\n",
       "    </tr>\n",
       "    <tr>\n",
       "      <th>1996.0</th>\n",
       "      <td>263</td>\n",
       "      <td>263</td>\n",
       "      <td>263</td>\n",
       "      <td>263</td>\n",
       "      <td>263</td>\n",
       "      <td>263</td>\n",
       "      <td>263</td>\n",
       "      <td>8</td>\n",
       "      <td>8</td>\n",
       "      <td>7</td>\n",
       "    </tr>\n",
       "    <tr>\n",
       "      <th>1995.0</th>\n",
       "      <td>219</td>\n",
       "      <td>219</td>\n",
       "      <td>219</td>\n",
       "      <td>219</td>\n",
       "      <td>219</td>\n",
       "      <td>219</td>\n",
       "      <td>219</td>\n",
       "      <td>0</td>\n",
       "      <td>0</td>\n",
       "      <td>0</td>\n",
       "    </tr>\n",
       "    <tr>\n",
       "      <th>1994.0</th>\n",
       "      <td>121</td>\n",
       "      <td>121</td>\n",
       "      <td>121</td>\n",
       "      <td>121</td>\n",
       "      <td>121</td>\n",
       "      <td>121</td>\n",
       "      <td>121</td>\n",
       "      <td>1</td>\n",
       "      <td>1</td>\n",
       "      <td>1</td>\n",
       "    </tr>\n",
       "    <tr>\n",
       "      <th>1993.0</th>\n",
       "      <td>60</td>\n",
       "      <td>60</td>\n",
       "      <td>60</td>\n",
       "      <td>60</td>\n",
       "      <td>60</td>\n",
       "      <td>60</td>\n",
       "      <td>60</td>\n",
       "      <td>0</td>\n",
       "      <td>0</td>\n",
       "      <td>0</td>\n",
       "    </tr>\n",
       "    <tr>\n",
       "      <th>1992.0</th>\n",
       "      <td>43</td>\n",
       "      <td>43</td>\n",
       "      <td>43</td>\n",
       "      <td>43</td>\n",
       "      <td>43</td>\n",
       "      <td>43</td>\n",
       "      <td>43</td>\n",
       "      <td>1</td>\n",
       "      <td>1</td>\n",
       "      <td>2</td>\n",
       "    </tr>\n",
       "    <tr>\n",
       "      <th>1991.0</th>\n",
       "      <td>41</td>\n",
       "      <td>41</td>\n",
       "      <td>41</td>\n",
       "      <td>41</td>\n",
       "      <td>41</td>\n",
       "      <td>41</td>\n",
       "      <td>41</td>\n",
       "      <td>0</td>\n",
       "      <td>0</td>\n",
       "      <td>0</td>\n",
       "    </tr>\n",
       "    <tr>\n",
       "      <th>1990.0</th>\n",
       "      <td>16</td>\n",
       "      <td>16</td>\n",
       "      <td>16</td>\n",
       "      <td>16</td>\n",
       "      <td>16</td>\n",
       "      <td>16</td>\n",
       "      <td>16</td>\n",
       "      <td>0</td>\n",
       "      <td>0</td>\n",
       "      <td>0</td>\n",
       "    </tr>\n",
       "    <tr>\n",
       "      <th>1989.0</th>\n",
       "      <td>17</td>\n",
       "      <td>17</td>\n",
       "      <td>17</td>\n",
       "      <td>17</td>\n",
       "      <td>17</td>\n",
       "      <td>17</td>\n",
       "      <td>17</td>\n",
       "      <td>0</td>\n",
       "      <td>0</td>\n",
       "      <td>0</td>\n",
       "    </tr>\n",
       "    <tr>\n",
       "      <th>1988.0</th>\n",
       "      <td>15</td>\n",
       "      <td>15</td>\n",
       "      <td>15</td>\n",
       "      <td>15</td>\n",
       "      <td>15</td>\n",
       "      <td>15</td>\n",
       "      <td>15</td>\n",
       "      <td>1</td>\n",
       "      <td>1</td>\n",
       "      <td>1</td>\n",
       "    </tr>\n",
       "    <tr>\n",
       "      <th>1987.0</th>\n",
       "      <td>16</td>\n",
       "      <td>16</td>\n",
       "      <td>16</td>\n",
       "      <td>16</td>\n",
       "      <td>16</td>\n",
       "      <td>16</td>\n",
       "      <td>16</td>\n",
       "      <td>0</td>\n",
       "      <td>0</td>\n",
       "      <td>0</td>\n",
       "    </tr>\n",
       "    <tr>\n",
       "      <th>1986.0</th>\n",
       "      <td>21</td>\n",
       "      <td>21</td>\n",
       "      <td>21</td>\n",
       "      <td>21</td>\n",
       "      <td>21</td>\n",
       "      <td>21</td>\n",
       "      <td>21</td>\n",
       "      <td>0</td>\n",
       "      <td>0</td>\n",
       "      <td>0</td>\n",
       "    </tr>\n",
       "    <tr>\n",
       "      <th>1985.0</th>\n",
       "      <td>14</td>\n",
       "      <td>14</td>\n",
       "      <td>14</td>\n",
       "      <td>14</td>\n",
       "      <td>14</td>\n",
       "      <td>14</td>\n",
       "      <td>14</td>\n",
       "      <td>1</td>\n",
       "      <td>1</td>\n",
       "      <td>1</td>\n",
       "    </tr>\n",
       "    <tr>\n",
       "      <th>1984.0</th>\n",
       "      <td>14</td>\n",
       "      <td>14</td>\n",
       "      <td>14</td>\n",
       "      <td>14</td>\n",
       "      <td>14</td>\n",
       "      <td>14</td>\n",
       "      <td>14</td>\n",
       "      <td>0</td>\n",
       "      <td>0</td>\n",
       "      <td>0</td>\n",
       "    </tr>\n",
       "    <tr>\n",
       "      <th>1983.0</th>\n",
       "      <td>17</td>\n",
       "      <td>17</td>\n",
       "      <td>17</td>\n",
       "      <td>17</td>\n",
       "      <td>17</td>\n",
       "      <td>17</td>\n",
       "      <td>17</td>\n",
       "      <td>0</td>\n",
       "      <td>0</td>\n",
       "      <td>0</td>\n",
       "    </tr>\n",
       "    <tr>\n",
       "      <th>1982.0</th>\n",
       "      <td>36</td>\n",
       "      <td>36</td>\n",
       "      <td>36</td>\n",
       "      <td>36</td>\n",
       "      <td>36</td>\n",
       "      <td>36</td>\n",
       "      <td>36</td>\n",
       "      <td>0</td>\n",
       "      <td>0</td>\n",
       "      <td>0</td>\n",
       "    </tr>\n",
       "    <tr>\n",
       "      <th>1981.0</th>\n",
       "      <td>46</td>\n",
       "      <td>46</td>\n",
       "      <td>46</td>\n",
       "      <td>46</td>\n",
       "      <td>46</td>\n",
       "      <td>46</td>\n",
       "      <td>46</td>\n",
       "      <td>0</td>\n",
       "      <td>0</td>\n",
       "      <td>0</td>\n",
       "    </tr>\n",
       "    <tr>\n",
       "      <th>1980.0</th>\n",
       "      <td>9</td>\n",
       "      <td>9</td>\n",
       "      <td>9</td>\n",
       "      <td>9</td>\n",
       "      <td>9</td>\n",
       "      <td>9</td>\n",
       "      <td>9</td>\n",
       "      <td>0</td>\n",
       "      <td>0</td>\n",
       "      <td>0</td>\n",
       "    </tr>\n",
       "  </tbody>\n",
       "</table>\n",
       "</div>"
      ],
      "text/plain": [
       "                 name  platform  genre  na_sales  eu_sales  jp_sales  \\\n",
       "year_of_release                                                        \n",
       "2016.0            502       502    502       502       502       502   \n",
       "2015.0            606       606    606       606       606       606   \n",
       "2014.0            581       581    581       581       581       581   \n",
       "2013.0            544       544    544       544       544       544   \n",
       "2012.0            653       653    653       653       653       653   \n",
       "2011.0           1137      1137   1137      1137      1137      1137   \n",
       "2010.0           1255      1255   1255      1255      1255      1255   \n",
       "2009.0           1426      1426   1426      1426      1426      1426   \n",
       "2008.0           1429      1429   1429      1429      1429      1429   \n",
       "2007.0           1198      1198   1198      1198      1198      1198   \n",
       "2006.0           1008      1008   1008      1008      1008      1008   \n",
       "2005.0            941       941    941       941       941       941   \n",
       "2004.0            764       764    764       764       764       764   \n",
       "2003.0            779       779    779       779       779       779   \n",
       "2002.0            830       830    830       830       830       830   \n",
       "2001.0            482       482    482       482       482       482   \n",
       "2000.0            350       350    350       350       350       350   \n",
       "1999.0            338       338    338       338       338       338   \n",
       "1998.0            379       379    379       379       379       379   \n",
       "1997.0            289       289    289       289       289       289   \n",
       "1996.0            263       263    263       263       263       263   \n",
       "1995.0            219       219    219       219       219       219   \n",
       "1994.0            121       121    121       121       121       121   \n",
       "1993.0             60        60     60        60        60        60   \n",
       "1992.0             43        43     43        43        43        43   \n",
       "1991.0             41        41     41        41        41        41   \n",
       "1990.0             16        16     16        16        16        16   \n",
       "1989.0             17        17     17        17        17        17   \n",
       "1988.0             15        15     15        15        15        15   \n",
       "1987.0             16        16     16        16        16        16   \n",
       "1986.0             21        21     21        21        21        21   \n",
       "1985.0             14        14     14        14        14        14   \n",
       "1984.0             14        14     14        14        14        14   \n",
       "1983.0             17        17     17        17        17        17   \n",
       "1982.0             36        36     36        36        36        36   \n",
       "1981.0             46        46     46        46        46        46   \n",
       "1980.0              9         9      9         9         9         9   \n",
       "\n",
       "                 other_sales  critic_score  user_score  rating  \n",
       "year_of_release                                                 \n",
       "2016.0                   502           232         296     280  \n",
       "2015.0                   606           225         335     315  \n",
       "2014.0                   581           261         350     345  \n",
       "2013.0                   544           273         319     316  \n",
       "2012.0                   653           321         363     355  \n",
       "2011.0                  1137           501         719     703  \n",
       "2010.0                  1255           500         798     799  \n",
       "2009.0                  1426           651        1019    1011  \n",
       "2008.0                  1429           716         988     982  \n",
       "2007.0                  1198           692         821     821  \n",
       "2006.0                  1008           620         676     678  \n",
       "2005.0                   941           657         706     708  \n",
       "2004.0                   764           563         598     600  \n",
       "2003.0                   779           589         615     617  \n",
       "2002.0                   830           628         657     656  \n",
       "2001.0                   482           326         339     339  \n",
       "2000.0                   350           143         150     148  \n",
       "1999.0                   338            39          39      42  \n",
       "1998.0                   379            28          31      32  \n",
       "1997.0                   289            17          19      19  \n",
       "1996.0                   263             8           8       7  \n",
       "1995.0                   219             0           0       0  \n",
       "1994.0                   121             1           1       1  \n",
       "1993.0                    60             0           0       0  \n",
       "1992.0                    43             1           1       2  \n",
       "1991.0                    41             0           0       0  \n",
       "1990.0                    16             0           0       0  \n",
       "1989.0                    17             0           0       0  \n",
       "1988.0                    15             1           1       1  \n",
       "1987.0                    16             0           0       0  \n",
       "1986.0                    21             0           0       0  \n",
       "1985.0                    14             1           1       1  \n",
       "1984.0                    14             0           0       0  \n",
       "1983.0                    17             0           0       0  \n",
       "1982.0                    36             0           0       0  \n",
       "1981.0                    46             0           0       0  \n",
       "1980.0                     9             0           0       0  "
      ]
     },
     "execution_count": 18,
     "metadata": {},
     "output_type": "execute_result"
    }
   ],
   "source": [
    "df[df['critic_score'].isna()].groupby('year_of_release').count().sort_values(by = ['year_of_release'], ascending = [False])\n",
    "df.groupby('year_of_release').count().sort_values(by = ['year_of_release'], ascending = [False])\n"
   ]
  },
  {
   "cell_type": "markdown",
   "metadata": {},
   "source": [
    "Стоит отметить, что до 1997 года игры не оценивались, редко встречаются единичные случаи. С 2000 и пользователи и критики стали активнее. Логично предположить, что если есть пропуски, то скорее всего игры не оценивали, поэтому заполним столбцы `critic_score` и `user_score` значением -1, `rating` - 'unknown'. Так мы отметим эти неоценненные записи:"
   ]
  },
  {
   "cell_type": "code",
   "execution_count": 19,
   "metadata": {},
   "outputs": [],
   "source": [
    "df['critic_score']= df['critic_score'].fillna(-1)\n",
    "df['user_score']= df['user_score'].fillna(-1)\n",
    "df['rating'] = df['rating'].fillna('unknown')"
   ]
  },
  {
   "cell_type": "markdown",
   "metadata": {},
   "source": [
    "Оценка критиков принимает только целочисленные значения [0;100].\n",
    "Оценка пользователей примает вещественные значения [0;10] и встречается значение 'tbd'. Данное сокращение означает, что пользватель поставил отметку \"будет определено\", но оценку еще не присвоил. Заменим данное значение на '-1', так как на момент выгрузки оценки нет:"
   ]
  },
  {
   "cell_type": "code",
   "execution_count": 20,
   "metadata": {},
   "outputs": [
    {
     "data": {
      "text/html": [
       "<div>\n",
       "<style scoped>\n",
       "    .dataframe tbody tr th:only-of-type {\n",
       "        vertical-align: middle;\n",
       "    }\n",
       "\n",
       "    .dataframe tbody tr th {\n",
       "        vertical-align: top;\n",
       "    }\n",
       "\n",
       "    .dataframe thead th {\n",
       "        text-align: right;\n",
       "    }\n",
       "</style>\n",
       "<table border=\"1\" class=\"dataframe\">\n",
       "  <thead>\n",
       "    <tr style=\"text-align: right;\">\n",
       "      <th></th>\n",
       "      <th>name</th>\n",
       "      <th>platform</th>\n",
       "      <th>year_of_release</th>\n",
       "      <th>genre</th>\n",
       "      <th>na_sales</th>\n",
       "      <th>eu_sales</th>\n",
       "      <th>jp_sales</th>\n",
       "      <th>other_sales</th>\n",
       "      <th>critic_score</th>\n",
       "      <th>user_score</th>\n",
       "      <th>rating</th>\n",
       "    </tr>\n",
       "  </thead>\n",
       "  <tbody>\n",
       "    <tr>\n",
       "      <th>119</th>\n",
       "      <td>Zumba Fitness</td>\n",
       "      <td>Wii</td>\n",
       "      <td>2010.0</td>\n",
       "      <td>Sports</td>\n",
       "      <td>3.45</td>\n",
       "      <td>2.59</td>\n",
       "      <td>0.0</td>\n",
       "      <td>0.66</td>\n",
       "      <td>-1.0</td>\n",
       "      <td>tbd</td>\n",
       "      <td>E</td>\n",
       "    </tr>\n",
       "    <tr>\n",
       "      <th>301</th>\n",
       "      <td>Namco Museum: 50th Anniversary</td>\n",
       "      <td>PS2</td>\n",
       "      <td>2005.0</td>\n",
       "      <td>Misc</td>\n",
       "      <td>2.08</td>\n",
       "      <td>1.35</td>\n",
       "      <td>0.0</td>\n",
       "      <td>0.54</td>\n",
       "      <td>61.0</td>\n",
       "      <td>tbd</td>\n",
       "      <td>E10+</td>\n",
       "    </tr>\n",
       "    <tr>\n",
       "      <th>519</th>\n",
       "      <td>Zumba Fitness 2</td>\n",
       "      <td>Wii</td>\n",
       "      <td>2011.0</td>\n",
       "      <td>Sports</td>\n",
       "      <td>1.51</td>\n",
       "      <td>1.03</td>\n",
       "      <td>0.0</td>\n",
       "      <td>0.27</td>\n",
       "      <td>-1.0</td>\n",
       "      <td>tbd</td>\n",
       "      <td>T</td>\n",
       "    </tr>\n",
       "    <tr>\n",
       "      <th>642</th>\n",
       "      <td>uDraw Studio</td>\n",
       "      <td>Wii</td>\n",
       "      <td>2010.0</td>\n",
       "      <td>Misc</td>\n",
       "      <td>1.65</td>\n",
       "      <td>0.57</td>\n",
       "      <td>0.0</td>\n",
       "      <td>0.20</td>\n",
       "      <td>71.0</td>\n",
       "      <td>tbd</td>\n",
       "      <td>E</td>\n",
       "    </tr>\n",
       "    <tr>\n",
       "      <th>712</th>\n",
       "      <td>Just Dance Kids</td>\n",
       "      <td>Wii</td>\n",
       "      <td>2010.0</td>\n",
       "      <td>Misc</td>\n",
       "      <td>1.52</td>\n",
       "      <td>0.54</td>\n",
       "      <td>0.0</td>\n",
       "      <td>0.18</td>\n",
       "      <td>-1.0</td>\n",
       "      <td>tbd</td>\n",
       "      <td>E</td>\n",
       "    </tr>\n",
       "    <tr>\n",
       "      <th>...</th>\n",
       "      <td>...</td>\n",
       "      <td>...</td>\n",
       "      <td>...</td>\n",
       "      <td>...</td>\n",
       "      <td>...</td>\n",
       "      <td>...</td>\n",
       "      <td>...</td>\n",
       "      <td>...</td>\n",
       "      <td>...</td>\n",
       "      <td>...</td>\n",
       "      <td>...</td>\n",
       "    </tr>\n",
       "    <tr>\n",
       "      <th>16439</th>\n",
       "      <td>Planet Monsters</td>\n",
       "      <td>GBA</td>\n",
       "      <td>2001.0</td>\n",
       "      <td>Action</td>\n",
       "      <td>0.01</td>\n",
       "      <td>0.00</td>\n",
       "      <td>0.0</td>\n",
       "      <td>0.00</td>\n",
       "      <td>67.0</td>\n",
       "      <td>tbd</td>\n",
       "      <td>E</td>\n",
       "    </tr>\n",
       "    <tr>\n",
       "      <th>16441</th>\n",
       "      <td>Bust-A-Move 3000</td>\n",
       "      <td>GC</td>\n",
       "      <td>2003.0</td>\n",
       "      <td>Puzzle</td>\n",
       "      <td>0.01</td>\n",
       "      <td>0.00</td>\n",
       "      <td>0.0</td>\n",
       "      <td>0.00</td>\n",
       "      <td>53.0</td>\n",
       "      <td>tbd</td>\n",
       "      <td>E</td>\n",
       "    </tr>\n",
       "    <tr>\n",
       "      <th>16442</th>\n",
       "      <td>Mega Brain Boost</td>\n",
       "      <td>DS</td>\n",
       "      <td>2008.0</td>\n",
       "      <td>Puzzle</td>\n",
       "      <td>0.01</td>\n",
       "      <td>0.00</td>\n",
       "      <td>0.0</td>\n",
       "      <td>0.00</td>\n",
       "      <td>48.0</td>\n",
       "      <td>tbd</td>\n",
       "      <td>E</td>\n",
       "    </tr>\n",
       "    <tr>\n",
       "      <th>16448</th>\n",
       "      <td>Plushees</td>\n",
       "      <td>DS</td>\n",
       "      <td>2008.0</td>\n",
       "      <td>Simulation</td>\n",
       "      <td>0.01</td>\n",
       "      <td>0.00</td>\n",
       "      <td>0.0</td>\n",
       "      <td>0.00</td>\n",
       "      <td>-1.0</td>\n",
       "      <td>tbd</td>\n",
       "      <td>E</td>\n",
       "    </tr>\n",
       "    <tr>\n",
       "      <th>16450</th>\n",
       "      <td>Men in Black II: Alien Escape</td>\n",
       "      <td>GC</td>\n",
       "      <td>2003.0</td>\n",
       "      <td>Shooter</td>\n",
       "      <td>0.01</td>\n",
       "      <td>0.00</td>\n",
       "      <td>0.0</td>\n",
       "      <td>0.00</td>\n",
       "      <td>-1.0</td>\n",
       "      <td>tbd</td>\n",
       "      <td>T</td>\n",
       "    </tr>\n",
       "  </tbody>\n",
       "</table>\n",
       "<p>2378 rows × 11 columns</p>\n",
       "</div>"
      ],
      "text/plain": [
       "                                 name platform  year_of_release       genre  \\\n",
       "119                     Zumba Fitness      Wii           2010.0      Sports   \n",
       "301    Namco Museum: 50th Anniversary      PS2           2005.0        Misc   \n",
       "519                   Zumba Fitness 2      Wii           2011.0      Sports   \n",
       "642                      uDraw Studio      Wii           2010.0        Misc   \n",
       "712                   Just Dance Kids      Wii           2010.0        Misc   \n",
       "...                               ...      ...              ...         ...   \n",
       "16439                 Planet Monsters      GBA           2001.0      Action   \n",
       "16441                Bust-A-Move 3000       GC           2003.0      Puzzle   \n",
       "16442                Mega Brain Boost       DS           2008.0      Puzzle   \n",
       "16448                        Plushees       DS           2008.0  Simulation   \n",
       "16450   Men in Black II: Alien Escape       GC           2003.0     Shooter   \n",
       "\n",
       "       na_sales  eu_sales  jp_sales  other_sales  critic_score user_score  \\\n",
       "119        3.45      2.59       0.0         0.66          -1.0        tbd   \n",
       "301        2.08      1.35       0.0         0.54          61.0        tbd   \n",
       "519        1.51      1.03       0.0         0.27          -1.0        tbd   \n",
       "642        1.65      0.57       0.0         0.20          71.0        tbd   \n",
       "712        1.52      0.54       0.0         0.18          -1.0        tbd   \n",
       "...         ...       ...       ...          ...           ...        ...   \n",
       "16439      0.01      0.00       0.0         0.00          67.0        tbd   \n",
       "16441      0.01      0.00       0.0         0.00          53.0        tbd   \n",
       "16442      0.01      0.00       0.0         0.00          48.0        tbd   \n",
       "16448      0.01      0.00       0.0         0.00          -1.0        tbd   \n",
       "16450      0.01      0.00       0.0         0.00          -1.0        tbd   \n",
       "\n",
       "      rating  \n",
       "119        E  \n",
       "301     E10+  \n",
       "519        T  \n",
       "642        E  \n",
       "712        E  \n",
       "...      ...  \n",
       "16439      E  \n",
       "16441      E  \n",
       "16442      E  \n",
       "16448      E  \n",
       "16450      T  \n",
       "\n",
       "[2378 rows x 11 columns]"
      ]
     },
     "execution_count": 20,
     "metadata": {},
     "output_type": "execute_result"
    }
   ],
   "source": [
    "df[df['user_score']=='tbd']"
   ]
  },
  {
   "cell_type": "code",
   "execution_count": 21,
   "metadata": {},
   "outputs": [],
   "source": [
    "df['user_score'] = df['user_score'].replace('tbd', '-1')"
   ]
  },
  {
   "cell_type": "markdown",
   "metadata": {},
   "source": [
    "Пропуски устранены:"
   ]
  },
  {
   "cell_type": "code",
   "execution_count": 22,
   "metadata": {},
   "outputs": [
    {
     "data": {
      "text/plain": [
       "name               0\n",
       "platform           0\n",
       "year_of_release    0\n",
       "genre              0\n",
       "na_sales           0\n",
       "eu_sales           0\n",
       "jp_sales           0\n",
       "other_sales        0\n",
       "critic_score       0\n",
       "user_score         0\n",
       "rating             0\n",
       "dtype: int64"
      ]
     },
     "execution_count": 22,
     "metadata": {},
     "output_type": "execute_result"
    }
   ],
   "source": [
    "df.isna().sum()"
   ]
  },
  {
   "cell_type": "markdown",
   "metadata": {},
   "source": [
    " ### Изменение типов данных"
   ]
  },
  {
   "cell_type": "code",
   "execution_count": 23,
   "metadata": {},
   "outputs": [
    {
     "name": "stdout",
     "output_type": "stream",
     "text": [
      "<class 'pandas.core.frame.DataFrame'>\n",
      "RangeIndex: 16459 entries, 0 to 16458\n",
      "Data columns (total 11 columns):\n",
      " #   Column           Non-Null Count  Dtype  \n",
      "---  ------           --------------  -----  \n",
      " 0   name             16459 non-null  object \n",
      " 1   platform         16459 non-null  object \n",
      " 2   year_of_release  16459 non-null  float64\n",
      " 3   genre            16459 non-null  object \n",
      " 4   na_sales         16459 non-null  float64\n",
      " 5   eu_sales         16459 non-null  float64\n",
      " 6   jp_sales         16459 non-null  float64\n",
      " 7   other_sales      16459 non-null  float64\n",
      " 8   critic_score     16459 non-null  float64\n",
      " 9   user_score       16459 non-null  object \n",
      " 10  rating           16459 non-null  object \n",
      "dtypes: float64(6), object(5)\n",
      "memory usage: 1.4+ MB\n"
     ]
    }
   ],
   "source": [
    "df.info()"
   ]
  },
  {
   "cell_type": "markdown",
   "metadata": {},
   "source": [
    "Для столбцов год и оценка критиков установим int, так как данные имеют целочисленный тип:"
   ]
  },
  {
   "cell_type": "code",
   "execution_count": 24,
   "metadata": {},
   "outputs": [],
   "source": [
    "df['year_of_release'] = df['year_of_release'].astype('int')"
   ]
  },
  {
   "cell_type": "code",
   "execution_count": 25,
   "metadata": {},
   "outputs": [],
   "source": [
    "df['critic_score'] = df['critic_score'].astype('int')"
   ]
  },
  {
   "cell_type": "markdown",
   "metadata": {},
   "source": [
    "Оценку пользователей приведем к вещественному типы, так как мы устранили пропуски и 'tbd':"
   ]
  },
  {
   "cell_type": "code",
   "execution_count": 26,
   "metadata": {},
   "outputs": [],
   "source": [
    "df['user_score'] = df['user_score'].astype('float64')"
   ]
  },
  {
   "cell_type": "code",
   "execution_count": 27,
   "metadata": {},
   "outputs": [
    {
     "name": "stdout",
     "output_type": "stream",
     "text": [
      "<class 'pandas.core.frame.DataFrame'>\n",
      "RangeIndex: 16459 entries, 0 to 16458\n",
      "Data columns (total 11 columns):\n",
      " #   Column           Non-Null Count  Dtype  \n",
      "---  ------           --------------  -----  \n",
      " 0   name             16459 non-null  object \n",
      " 1   platform         16459 non-null  object \n",
      " 2   year_of_release  16459 non-null  int32  \n",
      " 3   genre            16459 non-null  object \n",
      " 4   na_sales         16459 non-null  float64\n",
      " 5   eu_sales         16459 non-null  float64\n",
      " 6   jp_sales         16459 non-null  float64\n",
      " 7   other_sales      16459 non-null  float64\n",
      " 8   critic_score     16459 non-null  int32  \n",
      " 9   user_score       16459 non-null  float64\n",
      " 10  rating           16459 non-null  object \n",
      "dtypes: float64(5), int32(2), object(4)\n",
      "memory usage: 1.3+ MB\n"
     ]
    }
   ],
   "source": [
    "df.info() #проверка результатов"
   ]
  },
  {
   "cell_type": "markdown",
   "metadata": {},
   "source": [
    "Все типы данных соответствуют содержимому."
   ]
  },
  {
   "cell_type": "markdown",
   "metadata": {},
   "source": [
    "### Расчёты и добавление результатов в таблицу"
   ]
  },
  {
   "cell_type": "markdown",
   "metadata": {},
   "source": [
    "Добавим столбец суммарные продажи во всех регионах: "
   ]
  },
  {
   "cell_type": "code",
   "execution_count": 28,
   "metadata": {},
   "outputs": [],
   "source": [
    "df['sum_sales'] = df[['na_sales','eu_sales','jp_sales', 'other_sales']].sum(axis='columns')"
   ]
  },
  {
   "cell_type": "code",
   "execution_count": 29,
   "metadata": {},
   "outputs": [
    {
     "data": {
      "text/plain": [
       "count    16459.000000\n",
       "mean         0.536458\n",
       "std          1.558837\n",
       "min          0.000000\n",
       "25%          0.060000\n",
       "50%          0.170000\n",
       "75%          0.470000\n",
       "max         82.540000\n",
       "Name: sum_sales, dtype: float64"
      ]
     },
     "execution_count": 29,
     "metadata": {},
     "output_type": "execute_result"
    }
   ],
   "source": [
    "df['sum_sales'].describe()"
   ]
  },
  {
   "cell_type": "code",
   "execution_count": 30,
   "metadata": {},
   "outputs": [
    {
     "data": {
      "text/plain": [
       "(0.0, 1.5)"
      ]
     },
     "execution_count": 30,
     "metadata": {},
     "output_type": "execute_result"
    },
    {
     "data": {
      "image/png": "[encoded data removed]",
      "text/plain": [
       "<Figure size 432x288 with 1 Axes>"
      ]
     },
     "metadata": {
      "needs_background": "light"
     },
     "output_type": "display_data"
    }
   ],
   "source": [
    "df.boxplot('sum_sales')\n",
    "plt.ylim(0, 1.5)"
   ]
  },
  {
   "cell_type": "markdown",
   "metadata": {},
   "source": [
    "Есть игры которые вообще не были проданы. Максимальное значение 82.54 миллиона проданных копий. Медианное значение 0.17 значительно меньше среднего. На диаграмме размаха отражено, что есть игры с продажами на много выше, чем граница третьего квартиля."
   ]
  },
  {
   "cell_type": "code",
   "execution_count": 31,
   "metadata": {},
   "outputs": [
    {
     "data": {
      "text/plain": [
       "0        82.54\n",
       "1        40.24\n",
       "2        35.52\n",
       "3        32.77\n",
       "4        31.38\n",
       "         ...  \n",
       "15933     0.01\n",
       "15934     0.01\n",
       "15935     0.01\n",
       "16453     0.00\n",
       "16420     0.00\n",
       "Name: sum_sales, Length: 16459, dtype: float64"
      ]
     },
     "execution_count": 31,
     "metadata": {},
     "output_type": "execute_result"
    }
   ],
   "source": [
    "df['sum_sales'].sort_values(ascending = False) "
   ]
  },
  {
   "cell_type": "markdown",
   "metadata": {},
   "source": [
    "## Исследовательский анализ данных"
   ]
  },
  {
   "cell_type": "markdown",
   "metadata": {},
   "source": [
    "### Исследование количество игр по году выпуска"
   ]
  },
  {
   "cell_type": "markdown",
   "metadata": {},
   "source": [
    "Подсчитаем сколько игр было выпущено по годам:"
   ]
  },
  {
   "cell_type": "code",
   "execution_count": 32,
   "metadata": {
    "scrolled": true
   },
   "outputs": [
    {
     "data": {
      "text/plain": [
       "Text(0, 0.5, 'количество игр')"
      ]
     },
     "execution_count": 32,
     "metadata": {},
     "output_type": "execute_result"
    },
    {
     "data": {
      "image/png": "[encoded data removed]",
      "text/plain": [
       "<Figure size 576x720 with 1 Axes>"
      ]
     },
     "metadata": {
      "needs_background": "light"
     },
     "output_type": "display_data"
    }
   ],
   "source": [
    "df_pivot = df.pivot_table(index = 'year_of_release', values = ['name'], aggfunc = ['count'])\n",
    "df_pivot.columns = ['количесво выпущенных игр в год']\n",
    "df_pivot.plot.barh(figsize = (8,10))\n",
    "plt.xlabel(\"год выпуска\")\n",
    "plt.ylabel(\"количество игр\")"
   ]
  },
  {
   "cell_type": "markdown",
   "metadata": {},
   "source": [
    "До 1994 года игр выпускалось менее 100 в год, эти данные можно исключить из датафрейма, так как они являются выбросами:"
   ]
  },
  {
   "cell_type": "code",
   "execution_count": 33,
   "metadata": {},
   "outputs": [],
   "source": [
    "df = df[df['year_of_release']>1994]"
   ]
  },
  {
   "cell_type": "markdown",
   "metadata": {},
   "source": [
    "### Исследование продаж по платформам"
   ]
  },
  {
   "cell_type": "markdown",
   "metadata": {},
   "source": [
    "Составим сводную таблицу по суммарным продажам в разбивке по платформам:"
   ]
  },
  {
   "cell_type": "code",
   "execution_count": 34,
   "metadata": {},
   "outputs": [
    {
     "data": {
      "text/plain": [
       "Text(0, 0.5, 'количество игр')"
      ]
     },
     "execution_count": 34,
     "metadata": {},
     "output_type": "execute_result"
    },
    {
     "data": {
      "image/png": "[encoded data removed]",
      "text/plain": [
       "<Figure size 432x432 with 1 Axes>"
      ]
     },
     "metadata": {
      "needs_background": "light"
     },
     "output_type": "display_data"
    }
   ],
   "source": [
    "df_pivot = df.pivot_table(index = 'platform', values = ['sum_sales'], aggfunc = ['sum'])\n",
    "df_pivot.columns = ['суммарные продажи']\n",
    "df_pivot.plot.bar(figsize = (6,6))\n",
    "plt.xlabel(\"платформа\")\n",
    "plt.ylabel(\"количество игр\")"
   ]
  },
  {
   "cell_type": "markdown",
   "metadata": {},
   "source": [
    "Из столбцатой диаграмме хорошо видны платформа с наибольшими суммарными продажами:DS, Wii, PS3,X360, PS2 (по возрастанию)."
   ]
  },
  {
   "cell_type": "code",
   "execution_count": 35,
   "metadata": {
    "scrolled": true
   },
   "outputs": [
    {
     "name": "stdout",
     "output_type": "stream",
     "text": [
      "Index(['PS2', 'X360', 'PS3', 'Wii', 'DS'], dtype='object', name='platform')\n"
     ]
    },
    {
     "data": {
      "text/plain": [
       "Text(0.5, 1.0, 'Суммарные продажи по платформам')"
      ]
     },
     "execution_count": 35,
     "metadata": {},
     "output_type": "execute_result"
    },
    {
     "data": {
      "image/png": "[encoded data removed]",
      "text/plain": [
       "<Figure size 432x288 with 1 Axes>"
      ]
     },
     "metadata": {
      "needs_background": "light"
     },
     "output_type": "display_data"
    }
   ],
   "source": [
    "platform_max_sales = df_pivot.sort_values(by = 'суммарные продажи',ascending = False).head(5).index\n",
    "print(platform_max_sales)\n",
    "df_platform = (\n",
    "        df.query('platform in @platform_max_sales')\n",
    "        .pivot_table(index = 'year_of_release', columns = 'platform',\n",
    "                     values = 'sum_sales', aggfunc = ['sum'])\n",
    ")\n",
    "df_platform.columns = ['DS','PS2','PS3','Wii','X360']\n",
    "df_platform.plot.bar()\n",
    "plt.xlabel(\"год выпуска\")\n",
    "plt.ylabel(\"суммарные продажи\")\n",
    "plt.title('Суммарные продажи по платформам')"
   ]
  },
  {
   "cell_type": "code",
   "execution_count": 36,
   "metadata": {},
   "outputs": [
    {
     "data": {
      "text/html": [
       "<div>\n",
       "<style scoped>\n",
       "    .dataframe tbody tr th:only-of-type {\n",
       "        vertical-align: middle;\n",
       "    }\n",
       "\n",
       "    .dataframe tbody tr th {\n",
       "        vertical-align: top;\n",
       "    }\n",
       "\n",
       "    .dataframe thead th {\n",
       "        text-align: right;\n",
       "    }\n",
       "</style>\n",
       "<table border=\"1\" class=\"dataframe\">\n",
       "  <thead>\n",
       "    <tr style=\"text-align: right;\">\n",
       "      <th></th>\n",
       "      <th>DS</th>\n",
       "      <th>PS2</th>\n",
       "      <th>PS3</th>\n",
       "      <th>Wii</th>\n",
       "      <th>X360</th>\n",
       "    </tr>\n",
       "    <tr>\n",
       "      <th>year_of_release</th>\n",
       "      <th></th>\n",
       "      <th></th>\n",
       "      <th></th>\n",
       "      <th></th>\n",
       "      <th></th>\n",
       "    </tr>\n",
       "  </thead>\n",
       "  <tbody>\n",
       "    <tr>\n",
       "      <th>2000</th>\n",
       "      <td>NaN</td>\n",
       "      <td>39.17</td>\n",
       "      <td>NaN</td>\n",
       "      <td>NaN</td>\n",
       "      <td>NaN</td>\n",
       "    </tr>\n",
       "    <tr>\n",
       "      <th>2001</th>\n",
       "      <td>NaN</td>\n",
       "      <td>166.43</td>\n",
       "      <td>NaN</td>\n",
       "      <td>NaN</td>\n",
       "      <td>NaN</td>\n",
       "    </tr>\n",
       "    <tr>\n",
       "      <th>2002</th>\n",
       "      <td>NaN</td>\n",
       "      <td>205.38</td>\n",
       "      <td>NaN</td>\n",
       "      <td>NaN</td>\n",
       "      <td>NaN</td>\n",
       "    </tr>\n",
       "    <tr>\n",
       "      <th>2003</th>\n",
       "      <td>NaN</td>\n",
       "      <td>185.93</td>\n",
       "      <td>NaN</td>\n",
       "      <td>NaN</td>\n",
       "      <td>NaN</td>\n",
       "    </tr>\n",
       "    <tr>\n",
       "      <th>2004</th>\n",
       "      <td>17.27</td>\n",
       "      <td>220.55</td>\n",
       "      <td>NaN</td>\n",
       "      <td>NaN</td>\n",
       "      <td>NaN</td>\n",
       "    </tr>\n",
       "    <tr>\n",
       "      <th>2005</th>\n",
       "      <td>130.14</td>\n",
       "      <td>160.98</td>\n",
       "      <td>NaN</td>\n",
       "      <td>NaN</td>\n",
       "      <td>8.25</td>\n",
       "    </tr>\n",
       "    <tr>\n",
       "      <th>2006</th>\n",
       "      <td>119.81</td>\n",
       "      <td>106.46</td>\n",
       "      <td>20.96</td>\n",
       "      <td>137.15</td>\n",
       "      <td>51.62</td>\n",
       "    </tr>\n",
       "    <tr>\n",
       "      <th>2007</th>\n",
       "      <td>146.94</td>\n",
       "      <td>75.99</td>\n",
       "      <td>73.19</td>\n",
       "      <td>152.77</td>\n",
       "      <td>95.42</td>\n",
       "    </tr>\n",
       "    <tr>\n",
       "      <th>2008</th>\n",
       "      <td>145.32</td>\n",
       "      <td>53.90</td>\n",
       "      <td>118.52</td>\n",
       "      <td>171.32</td>\n",
       "      <td>135.26</td>\n",
       "    </tr>\n",
       "    <tr>\n",
       "      <th>2009</th>\n",
       "      <td>119.54</td>\n",
       "      <td>26.40</td>\n",
       "      <td>130.93</td>\n",
       "      <td>206.97</td>\n",
       "      <td>120.29</td>\n",
       "    </tr>\n",
       "    <tr>\n",
       "      <th>2010</th>\n",
       "      <td>85.02</td>\n",
       "      <td>5.64</td>\n",
       "      <td>142.17</td>\n",
       "      <td>127.95</td>\n",
       "      <td>170.03</td>\n",
       "    </tr>\n",
       "    <tr>\n",
       "      <th>2011</th>\n",
       "      <td>26.18</td>\n",
       "      <td>0.45</td>\n",
       "      <td>156.78</td>\n",
       "      <td>59.65</td>\n",
       "      <td>143.89</td>\n",
       "    </tr>\n",
       "    <tr>\n",
       "      <th>2012</th>\n",
       "      <td>11.01</td>\n",
       "      <td>NaN</td>\n",
       "      <td>107.36</td>\n",
       "      <td>21.71</td>\n",
       "      <td>99.74</td>\n",
       "    </tr>\n",
       "    <tr>\n",
       "      <th>2013</th>\n",
       "      <td>1.54</td>\n",
       "      <td>NaN</td>\n",
       "      <td>113.25</td>\n",
       "      <td>8.59</td>\n",
       "      <td>88.58</td>\n",
       "    </tr>\n",
       "    <tr>\n",
       "      <th>2014</th>\n",
       "      <td>NaN</td>\n",
       "      <td>NaN</td>\n",
       "      <td>47.76</td>\n",
       "      <td>3.75</td>\n",
       "      <td>34.74</td>\n",
       "    </tr>\n",
       "    <tr>\n",
       "      <th>2015</th>\n",
       "      <td>NaN</td>\n",
       "      <td>NaN</td>\n",
       "      <td>16.82</td>\n",
       "      <td>1.14</td>\n",
       "      <td>11.96</td>\n",
       "    </tr>\n",
       "    <tr>\n",
       "      <th>2016</th>\n",
       "      <td>NaN</td>\n",
       "      <td>NaN</td>\n",
       "      <td>3.60</td>\n",
       "      <td>0.18</td>\n",
       "      <td>1.52</td>\n",
       "    </tr>\n",
       "  </tbody>\n",
       "</table>\n",
       "</div>"
      ],
      "text/plain": [
       "                     DS     PS2     PS3     Wii    X360\n",
       "year_of_release                                        \n",
       "2000                NaN   39.17     NaN     NaN     NaN\n",
       "2001                NaN  166.43     NaN     NaN     NaN\n",
       "2002                NaN  205.38     NaN     NaN     NaN\n",
       "2003                NaN  185.93     NaN     NaN     NaN\n",
       "2004              17.27  220.55     NaN     NaN     NaN\n",
       "2005             130.14  160.98     NaN     NaN    8.25\n",
       "2006             119.81  106.46   20.96  137.15   51.62\n",
       "2007             146.94   75.99   73.19  152.77   95.42\n",
       "2008             145.32   53.90  118.52  171.32  135.26\n",
       "2009             119.54   26.40  130.93  206.97  120.29\n",
       "2010              85.02    5.64  142.17  127.95  170.03\n",
       "2011              26.18    0.45  156.78   59.65  143.89\n",
       "2012              11.01     NaN  107.36   21.71   99.74\n",
       "2013               1.54     NaN  113.25    8.59   88.58\n",
       "2014                NaN     NaN   47.76    3.75   34.74\n",
       "2015                NaN     NaN   16.82    1.14   11.96\n",
       "2016                NaN     NaN    3.60    0.18    1.52"
      ]
     },
     "execution_count": 36,
     "metadata": {},
     "output_type": "execute_result"
    }
   ],
   "source": [
    "df_platform "
   ]
  },
  {
   "cell_type": "markdown",
   "metadata": {},
   "source": [
    "В 2000г. появилась PS2, но в 2012 году продаж игр на эту платформу уже не было. В 2004г. появляется DS, а 2013 - DS продаж нет.  В 2005г. добавляется X360. Выявленные закономерности характерна и для других платформ. Каждый год появляются новые платформы. За 12 лет исчезают старые платформы. На пике продаж платформа держится 2-3 года. "
   ]
  },
  {
   "cell_type": "markdown",
   "metadata": {},
   "source": [
    "### Исследование продаж за актуальный период"
   ]
  },
  {
   "cell_type": "markdown",
   "metadata": {},
   "source": [
    "Продажа игр особо динамично меняющаяся индустрии, платформа на пике по продажам держится около 3 лет. На основании исследовании выше определим актуальный период в 3 года с 2014 по 2016 годы. Эти данные помогут построить прогноз на 2017 год."
   ]
  },
  {
   "cell_type": "code",
   "execution_count": 37,
   "metadata": {},
   "outputs": [],
   "source": [
    "df_actual = df.query('year_of_release >= 2014 and year_of_release <= 2016')"
   ]
  },
  {
   "cell_type": "code",
   "execution_count": 38,
   "metadata": {},
   "outputs": [
    {
     "data": {
      "text/plain": [
       "<matplotlib.legend.Legend at 0x2ded39f15b0>"
      ]
     },
     "execution_count": 38,
     "metadata": {},
     "output_type": "execute_result"
    },
    {
     "data": {
      "image/png": "[encoded data removed]",
      "text/plain": [
       "<Figure size 1080x432 with 1 Axes>"
      ]
     },
     "metadata": {
      "needs_background": "light"
     },
     "output_type": "display_data"
    }
   ],
   "source": [
    "df_pivot_actual = df_actual.pivot_table(index = 'year_of_release', columns = 'platform', values = 'sum_sales', aggfunc = ['sum'])\n",
    "df_pivot_actual.plot.bar(figsize = (15,6))\n",
    "plt.xlabel(\"год выпуска\")\n",
    "plt.ylabel(\"суммарные продажи\")\n",
    "plt.title('Суммарные продажи по платформам')\n",
    "plt.legend(bbox_to_anchor=(1.02, 1),loc='upper left', borderaxespad=0)"
   ]
  },
  {
   "cell_type": "markdown",
   "metadata": {},
   "source": [
    "На протяжении 3 лет самой прибыльной платформой является PS4, уровень ее продаж в разы привышает остальные платформы, продажи от 70 до 120 млн. В 2014 году XOne, PS3, 3DS имели почти одинаковые продажи ( 40-50 млн.), но к 2016 г - продажи значительно снизились. Остальные платформы к 2014 году уже были менее популярны.\n",
    "\n",
    "Можно выделить PS4, как потенциально прибыльную платформу за последние 3 года, и XOne, PS3, 3DS. Рассмотрим только эти 4 платформы:"
   ]
  },
  {
   "cell_type": "code",
   "execution_count": 39,
   "metadata": {},
   "outputs": [
    {
     "data": {
      "text/plain": [
       "Index(['PS4', 'XOne', '3DS', 'PS3'], dtype='object', name='platform')"
      ]
     },
     "metadata": {},
     "output_type": "display_data"
    },
    {
     "data": {
      "text/plain": [
       "<matplotlib.legend.Legend at 0x2ded3a98790>"
      ]
     },
     "execution_count": 39,
     "metadata": {},
     "output_type": "execute_result"
    },
    {
     "data": {
      "image/png": "[encoded data removed]",
      "text/plain": [
       "<Figure size 1080x360 with 1 Axes>"
      ]
     },
     "metadata": {
      "needs_background": "light"
     },
     "output_type": "display_data"
    }
   ],
   "source": [
    "platform_max_sales = df_actual.groupby('platform')['sum_sales'].sum().sort_values(ascending = False).head(4).index\n",
    "display(platform_max_sales)\n",
    "df_platform2 = (\n",
    "        df_actual.query('platform in @platform_max_sales')\n",
    "        .pivot_table(index = 'year_of_release', columns = 'platform', values = 'sum_sales', aggfunc = ['sum'])\n",
    ")\n",
    "df_platform2.columns = ['3DS','PS3','PS4','XOne']\n",
    "df_platform2.plot.bar(figsize = (15,5))\n",
    "plt.xlabel(\"год выпуска\")\n",
    "plt.ylabel(\"суммарные продажи\")\n",
    "plt.title('Суммарные продажи по платформам')\n",
    "plt.legend(bbox_to_anchor=(1.02, 1),loc='upper left', borderaxespad=0)"
   ]
  },
  {
   "cell_type": "markdown",
   "metadata": {},
   "source": [
    "Отобразим диаграммы размаха для каждой платформы, по ней хорошо видна скошенность данных:"
   ]
  },
  {
   "cell_type": "code",
   "execution_count": 41,
   "metadata": {},
   "outputs": [
    {
     "data": {
      "text/plain": [
       "<AxesSubplot:>"
      ]
     },
     "execution_count": 41,
     "metadata": {},
     "output_type": "execute_result"
    },
    {
     "data": {
      "image/png": "[encoded data removed]",
      "text/plain": [
       "<Figure size 432x288 with 1 Axes>"
      ]
     },
     "metadata": {
      "needs_background": "light"
     },
     "output_type": "display_data"
    }
   ],
   "source": [
    "sns.boxplot(data = df_platform2)"
   ]
  },
  {
   "cell_type": "markdown",
   "metadata": {},
   "source": [
    "Максимальное количество копий было продано на PS4 (медианные продажи равны 100). Стоит отметить, что 2016 г продажи снизились.\n",
    "\n",
    "XOne занимает второе место по продажам. Заметно, что их ящик скошен:расстояние между первым квартилем и медианой заметно больше, чем расстояние между медианой и третьим квартилем. Это говорит о том, что сначала их продажи были высокими, но с истечением времени их рост значительно уменьшился. \n",
    "\n",
    "Наименьшие продажи наблюдаются у 3DS и PS3. 3DS начала продажи с 40 млн., потом кол-во копий проданных игр уменьшилось в двое. У PS3 медианные продажи меньше, чем у предыдущих платфор. "
   ]
  },
  {
   "cell_type": "markdown",
   "metadata": {},
   "source": [
    "### Исследование влияние оценок критиков и пользователей на продажи внутри одной популярной платформы"
   ]
  },
  {
   "cell_type": "markdown",
   "metadata": {},
   "source": [
    "Выявим самую полулярную платформу среди оценок пользователей и критиков:\n",
    "* выполним срез по данным за актуальный период, исключив ранее добавленные флаги в оценкам;\n",
    "* высчитаем количество и сумму по оценкам: "
   ]
  },
  {
   "cell_type": "code",
   "execution_count": 42,
   "metadata": {},
   "outputs": [],
   "source": [
    "df_actual_score = df_actual.query('critic_score!=-1 and user_score!=-1') "
   ]
  },
  {
   "cell_type": "code",
   "execution_count": 43,
   "metadata": {},
   "outputs": [
    {
     "data": {
      "text/html": [
       "<div>\n",
       "<style scoped>\n",
       "    .dataframe tbody tr th:only-of-type {\n",
       "        vertical-align: middle;\n",
       "    }\n",
       "\n",
       "    .dataframe tbody tr th {\n",
       "        vertical-align: top;\n",
       "    }\n",
       "\n",
       "    .dataframe thead tr th {\n",
       "        text-align: left;\n",
       "    }\n",
       "\n",
       "    .dataframe thead tr:last-of-type th {\n",
       "        text-align: right;\n",
       "    }\n",
       "</style>\n",
       "<table border=\"1\" class=\"dataframe\">\n",
       "  <thead>\n",
       "    <tr>\n",
       "      <th></th>\n",
       "      <th colspan=\"2\" halign=\"left\">sum</th>\n",
       "      <th colspan=\"2\" halign=\"left\">count</th>\n",
       "    </tr>\n",
       "    <tr>\n",
       "      <th></th>\n",
       "      <th>critic_score</th>\n",
       "      <th>user_score</th>\n",
       "      <th>critic_score</th>\n",
       "      <th>user_score</th>\n",
       "    </tr>\n",
       "    <tr>\n",
       "      <th>platform</th>\n",
       "      <th></th>\n",
       "      <th></th>\n",
       "      <th></th>\n",
       "      <th></th>\n",
       "    </tr>\n",
       "  </thead>\n",
       "  <tbody>\n",
       "    <tr>\n",
       "      <th>PS4</th>\n",
       "      <td>16897</td>\n",
       "      <td>1598.8</td>\n",
       "      <td>234</td>\n",
       "      <td>234</td>\n",
       "    </tr>\n",
       "    <tr>\n",
       "      <th>XOne</th>\n",
       "      <td>11193</td>\n",
       "      <td>999.7</td>\n",
       "      <td>151</td>\n",
       "      <td>151</td>\n",
       "    </tr>\n",
       "    <tr>\n",
       "      <th>PC</th>\n",
       "      <td>8773</td>\n",
       "      <td>729.3</td>\n",
       "      <td>115</td>\n",
       "      <td>115</td>\n",
       "    </tr>\n",
       "    <tr>\n",
       "      <th>PSV</th>\n",
       "      <td>3832</td>\n",
       "      <td>417.2</td>\n",
       "      <td>53</td>\n",
       "      <td>53</td>\n",
       "    </tr>\n",
       "    <tr>\n",
       "      <th>3DS</th>\n",
       "      <td>3299</td>\n",
       "      <td>343.8</td>\n",
       "      <td>47</td>\n",
       "      <td>47</td>\n",
       "    </tr>\n",
       "    <tr>\n",
       "      <th>WiiU</th>\n",
       "      <td>2985</td>\n",
       "      <td>303.5</td>\n",
       "      <td>42</td>\n",
       "      <td>42</td>\n",
       "    </tr>\n",
       "    <tr>\n",
       "      <th>PS3</th>\n",
       "      <td>2396</td>\n",
       "      <td>227.9</td>\n",
       "      <td>36</td>\n",
       "      <td>36</td>\n",
       "    </tr>\n",
       "    <tr>\n",
       "      <th>X360</th>\n",
       "      <td>1657</td>\n",
       "      <td>159.7</td>\n",
       "      <td>26</td>\n",
       "      <td>26</td>\n",
       "    </tr>\n",
       "  </tbody>\n",
       "</table>\n",
       "</div>"
      ],
      "text/plain": [
       "                  sum                   count           \n",
       "         critic_score user_score critic_score user_score\n",
       "platform                                                \n",
       "PS4             16897     1598.8          234        234\n",
       "XOne            11193      999.7          151        151\n",
       "PC               8773      729.3          115        115\n",
       "PSV              3832      417.2           53         53\n",
       "3DS              3299      343.8           47         47\n",
       "WiiU             2985      303.5           42         42\n",
       "PS3              2396      227.9           36         36\n",
       "X360             1657      159.7           26         26"
      ]
     },
     "execution_count": 43,
     "metadata": {},
     "output_type": "execute_result"
    }
   ],
   "source": [
    "df_popular = df_actual_score.pivot_table(index = 'platform', values = ['critic_score','user_score'], aggfunc = ['sum', 'count'])\n",
    "df_popular.sort_values(by = ('sum', 'critic_score'), ascending = False)"
   ]
  },
  {
   "cell_type": "markdown",
   "metadata": {},
   "source": [
    "Самая популярная платформа - PS4, так как и критики и пользователи оценивали ее чаще других, и суммы по оценкам наибольшие."
   ]
  },
  {
   "cell_type": "code",
   "execution_count": 44,
   "metadata": {},
   "outputs": [
    {
     "data": {
      "text/plain": [
       "MultiIndex([(  'sum', 'critic_score'),\n",
       "            (  'sum',   'user_score'),\n",
       "            ('count', 'critic_score'),\n",
       "            ('count',   'user_score')],\n",
       "           )"
      ]
     },
     "execution_count": 44,
     "metadata": {},
     "output_type": "execute_result"
    }
   ],
   "source": [
    "df_popular.columns"
   ]
  },
  {
   "cell_type": "markdown",
   "metadata": {},
   "source": [
    "Выполним срез - оставим игры на платформе PS4:"
   ]
  },
  {
   "cell_type": "code",
   "execution_count": 45,
   "metadata": {},
   "outputs": [],
   "source": [
    "df_ps4 = df_actual_score.query('platform == \"PS4\"')[[\"name\", 'critic_score','user_score','sum_sales']]"
   ]
  },
  {
   "cell_type": "code",
   "execution_count": 46,
   "metadata": {},
   "outputs": [
    {
     "data": {
      "text/html": [
       "<div>\n",
       "<style scoped>\n",
       "    .dataframe tbody tr th:only-of-type {\n",
       "        vertical-align: middle;\n",
       "    }\n",
       "\n",
       "    .dataframe tbody tr th {\n",
       "        vertical-align: top;\n",
       "    }\n",
       "\n",
       "    .dataframe thead th {\n",
       "        text-align: right;\n",
       "    }\n",
       "</style>\n",
       "<table border=\"1\" class=\"dataframe\">\n",
       "  <thead>\n",
       "    <tr style=\"text-align: right;\">\n",
       "      <th></th>\n",
       "      <th>name</th>\n",
       "      <th>critic_score</th>\n",
       "      <th>user_score</th>\n",
       "      <th>sum_sales</th>\n",
       "    </tr>\n",
       "  </thead>\n",
       "  <tbody>\n",
       "    <tr>\n",
       "      <th>42</th>\n",
       "      <td>Grand Theft Auto V</td>\n",
       "      <td>97</td>\n",
       "      <td>8.3</td>\n",
       "      <td>12.62</td>\n",
       "    </tr>\n",
       "    <tr>\n",
       "      <th>77</th>\n",
       "      <td>FIFA 16</td>\n",
       "      <td>82</td>\n",
       "      <td>4.3</td>\n",
       "      <td>8.58</td>\n",
       "    </tr>\n",
       "    <tr>\n",
       "      <th>92</th>\n",
       "      <td>Call of Duty: Advanced Warfare</td>\n",
       "      <td>83</td>\n",
       "      <td>5.7</td>\n",
       "      <td>7.66</td>\n",
       "    </tr>\n",
       "    <tr>\n",
       "      <th>94</th>\n",
       "      <td>FIFA 17</td>\n",
       "      <td>85</td>\n",
       "      <td>5.0</td>\n",
       "      <td>7.60</td>\n",
       "    </tr>\n",
       "    <tr>\n",
       "      <th>105</th>\n",
       "      <td>Fallout 4</td>\n",
       "      <td>87</td>\n",
       "      <td>6.5</td>\n",
       "      <td>7.17</td>\n",
       "    </tr>\n",
       "    <tr>\n",
       "      <th>...</th>\n",
       "      <td>...</td>\n",
       "      <td>...</td>\n",
       "      <td>...</td>\n",
       "      <td>...</td>\n",
       "    </tr>\n",
       "    <tr>\n",
       "      <th>16231</th>\n",
       "      <td>Super Dungeon Bros</td>\n",
       "      <td>42</td>\n",
       "      <td>2.3</td>\n",
       "      <td>0.01</td>\n",
       "    </tr>\n",
       "    <tr>\n",
       "      <th>16244</th>\n",
       "      <td>Sherlock Holmes: The Devil's Daughter</td>\n",
       "      <td>70</td>\n",
       "      <td>6.8</td>\n",
       "      <td>0.01</td>\n",
       "    </tr>\n",
       "    <tr>\n",
       "      <th>16245</th>\n",
       "      <td>Root Letter</td>\n",
       "      <td>69</td>\n",
       "      <td>7.5</td>\n",
       "      <td>0.01</td>\n",
       "    </tr>\n",
       "    <tr>\n",
       "      <th>16270</th>\n",
       "      <td>Dungeons 2</td>\n",
       "      <td>61</td>\n",
       "      <td>7.9</td>\n",
       "      <td>0.01</td>\n",
       "    </tr>\n",
       "    <tr>\n",
       "      <th>16274</th>\n",
       "      <td>Carmageddon: Max Damage</td>\n",
       "      <td>51</td>\n",
       "      <td>5.5</td>\n",
       "      <td>0.01</td>\n",
       "    </tr>\n",
       "  </tbody>\n",
       "</table>\n",
       "<p>234 rows × 4 columns</p>\n",
       "</div>"
      ],
      "text/plain": [
       "                                        name  critic_score  user_score  \\\n",
       "42                        Grand Theft Auto V            97         8.3   \n",
       "77                                   FIFA 16            82         4.3   \n",
       "92            Call of Duty: Advanced Warfare            83         5.7   \n",
       "94                                   FIFA 17            85         5.0   \n",
       "105                                Fallout 4            87         6.5   \n",
       "...                                      ...           ...         ...   \n",
       "16231                     Super Dungeon Bros            42         2.3   \n",
       "16244  Sherlock Holmes: The Devil's Daughter            70         6.8   \n",
       "16245                            Root Letter            69         7.5   \n",
       "16270                             Dungeons 2            61         7.9   \n",
       "16274                Carmageddon: Max Damage            51         5.5   \n",
       "\n",
       "       sum_sales  \n",
       "42         12.62  \n",
       "77          8.58  \n",
       "92          7.66  \n",
       "94          7.60  \n",
       "105         7.17  \n",
       "...          ...  \n",
       "16231       0.01  \n",
       "16244       0.01  \n",
       "16245       0.01  \n",
       "16270       0.01  \n",
       "16274       0.01  \n",
       "\n",
       "[234 rows x 4 columns]"
      ]
     },
     "execution_count": 46,
     "metadata": {},
     "output_type": "execute_result"
    }
   ],
   "source": [
    "df_ps4"
   ]
  },
  {
   "cell_type": "markdown",
   "metadata": {},
   "source": [
    "Определим коэффициенты корреляции:"
   ]
  },
  {
   "cell_type": "code",
   "execution_count": 47,
   "metadata": {},
   "outputs": [
    {
     "name": "stdout",
     "output_type": "stream",
     "text": [
      "Коэффициент корреляции продаж и оценок критиков: 0.40190287811475306\n",
      "Коэффициент корреляции продаж и оценок пользователей: -0.043185859971936295\n"
     ]
    }
   ],
   "source": [
    "print('Коэффициент корреляции продаж и оценок критиков:',df_ps4['sum_sales'].corr(df_ps4['critic_score']))\n",
    "print('Коэффициент корреляции продаж и оценок пользователей:',df_ps4['sum_sales'].corr(df_ps4['user_score']))"
   ]
  },
  {
   "cell_type": "markdown",
   "metadata": {},
   "source": [
    "Параметры коррелируют, но связь не сильная. Зависимоть суммарных продаж от оценки критиков сильнее, чем от оценок пользователей, которая очень слабая и обратная."
   ]
  },
  {
   "cell_type": "markdown",
   "metadata": {},
   "source": [
    "Построим диаграммы рассеяния:"
   ]
  },
  {
   "cell_type": "code",
   "execution_count": 48,
   "metadata": {},
   "outputs": [
    {
     "data": {
      "text/plain": [
       "Text(0, 0.5, 'суммарные продажи')"
      ]
     },
     "execution_count": 48,
     "metadata": {},
     "output_type": "execute_result"
    },
    {
     "data": {
      "image/png": "[encoded data removed]",
      "text/plain": [
       "<Figure size 432x288 with 1 Axes>"
      ]
     },
     "metadata": {
      "needs_background": "light"
     },
     "output_type": "display_data"
    }
   ],
   "source": [
    "df_ps4.plot(x='critic_score' , y = 'sum_sales', kind='scatter',alpha=0.3, grid=True)\n",
    "plt.xlabel(\"оценки критиков\")\n",
    "plt.ylabel(\"суммарные продажи\") "
   ]
  },
  {
   "cell_type": "code",
   "execution_count": 49,
   "metadata": {},
   "outputs": [
    {
     "data": {
      "text/plain": [
       "Text(0, 0.5, 'суммарные продажи')"
      ]
     },
     "execution_count": 49,
     "metadata": {},
     "output_type": "execute_result"
    },
    {
     "data": {
      "image/png": "[encoded data removed]",
      "text/plain": [
       "<Figure size 432x288 with 1 Axes>"
      ]
     },
     "metadata": {
      "needs_background": "light"
     },
     "output_type": "display_data"
    }
   ],
   "source": [
    "df_ps4.plot(x='user_score' , y = 'sum_sales', kind='scatter',alpha=0.3, grid=True)   \n",
    "plt.xlabel(\"оценки пользователей\")\n",
    "plt.ylabel(\"суммарные продажи\") "
   ]
  },
  {
   "cell_type": "markdown",
   "metadata": {},
   "source": [
    "На диаграмме видно, что высоких оценок проставлено больше. \n",
    "\n",
    "Зависимость продаж от оценок критиков положительная, чем выше оценка у игры, тем и продаж больше.\n",
    "\n",
    "Зависимость продаж от оценок пользователей слабая и обратная, с увеличением оценки наблюдается уменьшение проданных копии игр."
   ]
  },
  {
   "cell_type": "markdown",
   "metadata": {},
   "source": [
    "### Сравнение выводов влияние оценок критиков и пользователей на продажи внутри платформы PS4 и на  других платформах"
   ]
  },
  {
   "cell_type": "markdown",
   "metadata": {},
   "source": [
    "Возьмем данные за актуальный период по всем платформам:"
   ]
  },
  {
   "cell_type": "code",
   "execution_count": 50,
   "metadata": {},
   "outputs": [
    {
     "data": {
      "text/html": [
       "<div>\n",
       "<style scoped>\n",
       "    .dataframe tbody tr th:only-of-type {\n",
       "        vertical-align: middle;\n",
       "    }\n",
       "\n",
       "    .dataframe tbody tr th {\n",
       "        vertical-align: top;\n",
       "    }\n",
       "\n",
       "    .dataframe thead tr th {\n",
       "        text-align: left;\n",
       "    }\n",
       "\n",
       "    .dataframe thead tr:last-of-type th {\n",
       "        text-align: right;\n",
       "    }\n",
       "</style>\n",
       "<table border=\"1\" class=\"dataframe\">\n",
       "  <thead>\n",
       "    <tr>\n",
       "      <th></th>\n",
       "      <th></th>\n",
       "      <th colspan=\"3\" halign=\"left\">corr</th>\n",
       "    </tr>\n",
       "    <tr>\n",
       "      <th></th>\n",
       "      <th></th>\n",
       "      <th>sum_sales</th>\n",
       "      <th>critic_score</th>\n",
       "      <th>user_score</th>\n",
       "    </tr>\n",
       "    <tr>\n",
       "      <th>platform</th>\n",
       "      <th></th>\n",
       "      <th></th>\n",
       "      <th></th>\n",
       "      <th></th>\n",
       "    </tr>\n",
       "  </thead>\n",
       "  <tbody>\n",
       "    <tr>\n",
       "      <th rowspan=\"3\" valign=\"top\">3DS</th>\n",
       "      <th>sum_sales</th>\n",
       "      <td>1.000000</td>\n",
       "      <td>0.284686</td>\n",
       "      <td>0.279850</td>\n",
       "    </tr>\n",
       "    <tr>\n",
       "      <th>critic_score</th>\n",
       "      <td>0.284686</td>\n",
       "      <td>1.000000</td>\n",
       "      <td>0.862485</td>\n",
       "    </tr>\n",
       "    <tr>\n",
       "      <th>user_score</th>\n",
       "      <td>0.279850</td>\n",
       "      <td>0.862485</td>\n",
       "      <td>1.000000</td>\n",
       "    </tr>\n",
       "    <tr>\n",
       "      <th rowspan=\"3\" valign=\"top\">PC</th>\n",
       "      <th>sum_sales</th>\n",
       "      <td>1.000000</td>\n",
       "      <td>0.172061</td>\n",
       "      <td>-0.089974</td>\n",
       "    </tr>\n",
       "    <tr>\n",
       "      <th>critic_score</th>\n",
       "      <td>0.172061</td>\n",
       "      <td>1.000000</td>\n",
       "      <td>0.466099</td>\n",
       "    </tr>\n",
       "    <tr>\n",
       "      <th>user_score</th>\n",
       "      <td>-0.089974</td>\n",
       "      <td>0.466099</td>\n",
       "      <td>1.000000</td>\n",
       "    </tr>\n",
       "    <tr>\n",
       "      <th rowspan=\"3\" valign=\"top\">PS3</th>\n",
       "      <th>sum_sales</th>\n",
       "      <td>1.000000</td>\n",
       "      <td>0.446575</td>\n",
       "      <td>0.156595</td>\n",
       "    </tr>\n",
       "    <tr>\n",
       "      <th>critic_score</th>\n",
       "      <td>0.446575</td>\n",
       "      <td>1.000000</td>\n",
       "      <td>0.693445</td>\n",
       "    </tr>\n",
       "    <tr>\n",
       "      <th>user_score</th>\n",
       "      <td>0.156595</td>\n",
       "      <td>0.693445</td>\n",
       "      <td>1.000000</td>\n",
       "    </tr>\n",
       "    <tr>\n",
       "      <th rowspan=\"3\" valign=\"top\">PS4</th>\n",
       "      <th>sum_sales</th>\n",
       "      <td>1.000000</td>\n",
       "      <td>0.401903</td>\n",
       "      <td>-0.043186</td>\n",
       "    </tr>\n",
       "    <tr>\n",
       "      <th>critic_score</th>\n",
       "      <td>0.401903</td>\n",
       "      <td>1.000000</td>\n",
       "      <td>0.546434</td>\n",
       "    </tr>\n",
       "    <tr>\n",
       "      <th>user_score</th>\n",
       "      <td>-0.043186</td>\n",
       "      <td>0.546434</td>\n",
       "      <td>1.000000</td>\n",
       "    </tr>\n",
       "    <tr>\n",
       "      <th rowspan=\"3\" valign=\"top\">PSV</th>\n",
       "      <th>sum_sales</th>\n",
       "      <td>1.000000</td>\n",
       "      <td>0.041029</td>\n",
       "      <td>0.023528</td>\n",
       "    </tr>\n",
       "    <tr>\n",
       "      <th>critic_score</th>\n",
       "      <td>0.041029</td>\n",
       "      <td>1.000000</td>\n",
       "      <td>0.524066</td>\n",
       "    </tr>\n",
       "    <tr>\n",
       "      <th>user_score</th>\n",
       "      <td>0.023528</td>\n",
       "      <td>0.524066</td>\n",
       "      <td>1.000000</td>\n",
       "    </tr>\n",
       "    <tr>\n",
       "      <th rowspan=\"3\" valign=\"top\">WiiU</th>\n",
       "      <th>sum_sales</th>\n",
       "      <td>1.000000</td>\n",
       "      <td>0.375640</td>\n",
       "      <td>0.411451</td>\n",
       "    </tr>\n",
       "    <tr>\n",
       "      <th>critic_score</th>\n",
       "      <td>0.375640</td>\n",
       "      <td>1.000000</td>\n",
       "      <td>0.763536</td>\n",
       "    </tr>\n",
       "    <tr>\n",
       "      <th>user_score</th>\n",
       "      <td>0.411451</td>\n",
       "      <td>0.763536</td>\n",
       "      <td>1.000000</td>\n",
       "    </tr>\n",
       "    <tr>\n",
       "      <th rowspan=\"3\" valign=\"top\">X360</th>\n",
       "      <th>sum_sales</th>\n",
       "      <td>1.000000</td>\n",
       "      <td>0.525723</td>\n",
       "      <td>0.336514</td>\n",
       "    </tr>\n",
       "    <tr>\n",
       "      <th>critic_score</th>\n",
       "      <td>0.525723</td>\n",
       "      <td>1.000000</td>\n",
       "      <td>0.625309</td>\n",
       "    </tr>\n",
       "    <tr>\n",
       "      <th>user_score</th>\n",
       "      <td>0.336514</td>\n",
       "      <td>0.625309</td>\n",
       "      <td>1.000000</td>\n",
       "    </tr>\n",
       "    <tr>\n",
       "      <th rowspan=\"3\" valign=\"top\">XOne</th>\n",
       "      <th>sum_sales</th>\n",
       "      <td>1.000000</td>\n",
       "      <td>0.422112</td>\n",
       "      <td>-0.091734</td>\n",
       "    </tr>\n",
       "    <tr>\n",
       "      <th>critic_score</th>\n",
       "      <td>0.422112</td>\n",
       "      <td>1.000000</td>\n",
       "      <td>0.440977</td>\n",
       "    </tr>\n",
       "    <tr>\n",
       "      <th>user_score</th>\n",
       "      <td>-0.091734</td>\n",
       "      <td>0.440977</td>\n",
       "      <td>1.000000</td>\n",
       "    </tr>\n",
       "  </tbody>\n",
       "</table>\n",
       "</div>"
      ],
      "text/plain": [
       "                           corr                        \n",
       "                      sum_sales critic_score user_score\n",
       "platform                                               \n",
       "3DS      sum_sales     1.000000     0.284686   0.279850\n",
       "         critic_score  0.284686     1.000000   0.862485\n",
       "         user_score    0.279850     0.862485   1.000000\n",
       "PC       sum_sales     1.000000     0.172061  -0.089974\n",
       "         critic_score  0.172061     1.000000   0.466099\n",
       "         user_score   -0.089974     0.466099   1.000000\n",
       "PS3      sum_sales     1.000000     0.446575   0.156595\n",
       "         critic_score  0.446575     1.000000   0.693445\n",
       "         user_score    0.156595     0.693445   1.000000\n",
       "PS4      sum_sales     1.000000     0.401903  -0.043186\n",
       "         critic_score  0.401903     1.000000   0.546434\n",
       "         user_score   -0.043186     0.546434   1.000000\n",
       "PSV      sum_sales     1.000000     0.041029   0.023528\n",
       "         critic_score  0.041029     1.000000   0.524066\n",
       "         user_score    0.023528     0.524066   1.000000\n",
       "WiiU     sum_sales     1.000000     0.375640   0.411451\n",
       "         critic_score  0.375640     1.000000   0.763536\n",
       "         user_score    0.411451     0.763536   1.000000\n",
       "X360     sum_sales     1.000000     0.525723   0.336514\n",
       "         critic_score  0.525723     1.000000   0.625309\n",
       "         user_score    0.336514     0.625309   1.000000\n",
       "XOne     sum_sales     1.000000     0.422112  -0.091734\n",
       "         critic_score  0.422112     1.000000   0.440977\n",
       "         user_score   -0.091734     0.440977   1.000000"
      ]
     },
     "metadata": {},
     "output_type": "display_data"
    }
   ],
   "source": [
    "df_score = df_actual_score.pivot_table(\n",
    "    index= 'platform', values=['sum_sales', 'critic_score','user_score'],\n",
    "    aggfunc = ['corr'])\n",
    "df_score = df_score[([('corr',    'sum_sales'),('corr', 'critic_score'),('corr',   'user_score')])]  \n",
    "display(df_score)"
   ]
  },
  {
   "cell_type": "markdown",
   "metadata": {},
   "source": [
    "Оценим результат, представив тепловую карту:"
   ]
  },
  {
   "cell_type": "code",
   "execution_count": 51,
   "metadata": {},
   "outputs": [
    {
     "data": {
      "text/plain": [
       "<seaborn.matrix.ClusterGrid at 0x2ded37db160>"
      ]
     },
     "execution_count": 51,
     "metadata": {},
     "output_type": "execute_result"
    },
    {
     "data": {
      "image/png": "[encoded data removed]",
      "text/plain": [
       "<Figure size 720x720 with 4 Axes>"
      ]
     },
     "metadata": {
      "needs_background": "light"
     },
     "output_type": "display_data"
    }
   ],
   "source": [
    "sns.clustermap(df_score)"
   ]
  },
  {
   "cell_type": "markdown",
   "metadata": {},
   "source": [
    "Изучив тепловую карту отметим:\n",
    "* суммарные продажи не сильно коррелируют с оценками критиков, в среднем в районе 0.2, - 0.4. Встречаются платформы где коэффициент кореляции чуть больше 0,4 - SP3, SP4, XOne.\n",
    "* зависимость суммарных продажи от оценок пользователей очень слабая (0-0.2), для некоторых платфор отрицательна -  PC, SP4, XOne.\n",
    "\n",
    "Зависимости прадаж от выбранных параметров внутри одной популярной платформы (PS4) и другим платформам в целом не отличаются."
   ]
  },
  {
   "cell_type": "markdown",
   "metadata": {},
   "source": [
    "### Анализ общего распределение игр по жанрам"
   ]
  },
  {
   "cell_type": "markdown",
   "metadata": {},
   "source": [
    "Выполним группировку игр по жанрам, рассчитав медианные продажи:"
   ]
  },
  {
   "cell_type": "code",
   "execution_count": 52,
   "metadata": {},
   "outputs": [
    {
     "data": {
      "text/plain": [
       "Text(0.5, 1.0, 'Суммарные продажи по жанрам')"
      ]
     },
     "execution_count": 52,
     "metadata": {},
     "output_type": "execute_result"
    },
    {
     "data": {
      "image/png": "[encoded data removed]",
      "text/plain": [
       "<Figure size 1080x432 with 1 Axes>"
      ]
     },
     "metadata": {
      "needs_background": "light"
     },
     "output_type": "display_data"
    }
   ],
   "source": [
    "df_genre = df_actual.pivot_table(index = 'genre', values = 'sum_sales', aggfunc = ['median'])\n",
    "df_genre.columns = ['cум.продажи']\n",
    "df_genre.plot.bar(figsize = (15,6))\n",
    "plt.xlabel(\"жанр игр\")\n",
    "plt.ylabel(\"суммарные продажи\")\n",
    "plt.title('Суммарные продажи по жанрам')"
   ]
  },
  {
   "cell_type": "markdown",
   "metadata": {},
   "source": [
    "На столбцатой диаграмма сильно выделяется жанр Shooter, у него продажи в разы больше всех остальных. Медианные продажи других жанров распределены до 0,2. К низким продажам можно отнести жанры: Adventure,Puzzle,Strategy."
   ]
  },
  {
   "cell_type": "markdown",
   "metadata": {},
   "source": [
    "### Анализ портрета пользователя каждого региона Северной Америки, Европы и Японии"
   ]
  },
  {
   "cell_type": "markdown",
   "metadata": {},
   "source": [
    "#### Самые популярные платформы "
   ]
  },
  {
   "cell_type": "markdown",
   "metadata": {},
   "source": [
    "Создадим сводную таблицу по актуальным данным в разбивке по платформам, и просуммируем продажи отдельно по регионам:\n",
    "* добавим столбцы - доли продаж по каждому региону;\n",
    "* выведем рейтинг платформ отледьно по Европе, Японии и Северной Америке;\n",
    "* отобразим результаты на столбцатой диаграмме. "
   ]
  },
  {
   "cell_type": "code",
   "execution_count": 53,
   "metadata": {},
   "outputs": [
    {
     "data": {
      "text/html": [
       "<div>\n",
       "<style scoped>\n",
       "    .dataframe tbody tr th:only-of-type {\n",
       "        vertical-align: middle;\n",
       "    }\n",
       "\n",
       "    .dataframe tbody tr th {\n",
       "        vertical-align: top;\n",
       "    }\n",
       "\n",
       "    .dataframe thead th {\n",
       "        text-align: right;\n",
       "    }\n",
       "</style>\n",
       "<table border=\"1\" class=\"dataframe\">\n",
       "  <thead>\n",
       "    <tr style=\"text-align: right;\">\n",
       "      <th></th>\n",
       "      <th>sum_eu_sales</th>\n",
       "      <th>sum_jp_sales</th>\n",
       "      <th>sum_na_sales</th>\n",
       "      <th>sum_sales</th>\n",
       "      <th>eu_sales_share</th>\n",
       "      <th>jp_sales_share</th>\n",
       "      <th>na_sales_share</th>\n",
       "    </tr>\n",
       "    <tr>\n",
       "      <th>platform</th>\n",
       "      <th></th>\n",
       "      <th></th>\n",
       "      <th></th>\n",
       "      <th></th>\n",
       "      <th></th>\n",
       "      <th></th>\n",
       "      <th></th>\n",
       "    </tr>\n",
       "  </thead>\n",
       "  <tbody>\n",
       "    <tr>\n",
       "      <th>3DS</th>\n",
       "      <td>16.12</td>\n",
       "      <td>44.24</td>\n",
       "      <td>22.64</td>\n",
       "      <td>86.68</td>\n",
       "      <td>0.185971</td>\n",
       "      <td>0.510383</td>\n",
       "      <td>0.261191</td>\n",
       "    </tr>\n",
       "    <tr>\n",
       "      <th>PC</th>\n",
       "      <td>17.97</td>\n",
       "      <td>0.00</td>\n",
       "      <td>7.23</td>\n",
       "      <td>27.05</td>\n",
       "      <td>0.664325</td>\n",
       "      <td>0.000000</td>\n",
       "      <td>0.267283</td>\n",
       "    </tr>\n",
       "    <tr>\n",
       "      <th>PS3</th>\n",
       "      <td>25.54</td>\n",
       "      <td>11.22</td>\n",
       "      <td>22.05</td>\n",
       "      <td>68.18</td>\n",
       "      <td>0.374597</td>\n",
       "      <td>0.164564</td>\n",
       "      <td>0.323409</td>\n",
       "    </tr>\n",
       "    <tr>\n",
       "      <th>PS4</th>\n",
       "      <td>130.04</td>\n",
       "      <td>15.02</td>\n",
       "      <td>98.61</td>\n",
       "      <td>288.15</td>\n",
       "      <td>0.451293</td>\n",
       "      <td>0.052126</td>\n",
       "      <td>0.342218</td>\n",
       "    </tr>\n",
       "    <tr>\n",
       "      <th>PSP</th>\n",
       "      <td>0.00</td>\n",
       "      <td>0.36</td>\n",
       "      <td>0.00</td>\n",
       "      <td>0.36</td>\n",
       "      <td>0.000000</td>\n",
       "      <td>1.000000</td>\n",
       "      <td>0.000000</td>\n",
       "    </tr>\n",
       "    <tr>\n",
       "      <th>PSV</th>\n",
       "      <td>3.53</td>\n",
       "      <td>14.54</td>\n",
       "      <td>2.52</td>\n",
       "      <td>22.40</td>\n",
       "      <td>0.157589</td>\n",
       "      <td>0.649107</td>\n",
       "      <td>0.112500</td>\n",
       "    </tr>\n",
       "    <tr>\n",
       "      <th>Wii</th>\n",
       "      <td>2.59</td>\n",
       "      <td>0.00</td>\n",
       "      <td>2.08</td>\n",
       "      <td>5.07</td>\n",
       "      <td>0.510848</td>\n",
       "      <td>0.000000</td>\n",
       "      <td>0.410256</td>\n",
       "    </tr>\n",
       "    <tr>\n",
       "      <th>WiiU</th>\n",
       "      <td>13.15</td>\n",
       "      <td>7.31</td>\n",
       "      <td>19.36</td>\n",
       "      <td>42.98</td>\n",
       "      <td>0.305956</td>\n",
       "      <td>0.170079</td>\n",
       "      <td>0.450442</td>\n",
       "    </tr>\n",
       "    <tr>\n",
       "      <th>X360</th>\n",
       "      <td>15.49</td>\n",
       "      <td>0.08</td>\n",
       "      <td>28.30</td>\n",
       "      <td>48.22</td>\n",
       "      <td>0.321236</td>\n",
       "      <td>0.001659</td>\n",
       "      <td>0.586893</td>\n",
       "    </tr>\n",
       "    <tr>\n",
       "      <th>XOne</th>\n",
       "      <td>46.25</td>\n",
       "      <td>0.32</td>\n",
       "      <td>81.27</td>\n",
       "      <td>140.36</td>\n",
       "      <td>0.329510</td>\n",
       "      <td>0.002280</td>\n",
       "      <td>0.579011</td>\n",
       "    </tr>\n",
       "  </tbody>\n",
       "</table>\n",
       "</div>"
      ],
      "text/plain": [
       "          sum_eu_sales  sum_jp_sales  sum_na_sales  sum_sales  eu_sales_share  \\\n",
       "platform                                                                        \n",
       "3DS              16.12         44.24         22.64      86.68        0.185971   \n",
       "PC               17.97          0.00          7.23      27.05        0.664325   \n",
       "PS3              25.54         11.22         22.05      68.18        0.374597   \n",
       "PS4             130.04         15.02         98.61     288.15        0.451293   \n",
       "PSP               0.00          0.36          0.00       0.36        0.000000   \n",
       "PSV               3.53         14.54          2.52      22.40        0.157589   \n",
       "Wii               2.59          0.00          2.08       5.07        0.510848   \n",
       "WiiU             13.15          7.31         19.36      42.98        0.305956   \n",
       "X360             15.49          0.08         28.30      48.22        0.321236   \n",
       "XOne             46.25          0.32         81.27     140.36        0.329510   \n",
       "\n",
       "          jp_sales_share  na_sales_share  \n",
       "platform                                  \n",
       "3DS             0.510383        0.261191  \n",
       "PC              0.000000        0.267283  \n",
       "PS3             0.164564        0.323409  \n",
       "PS4             0.052126        0.342218  \n",
       "PSP             1.000000        0.000000  \n",
       "PSV             0.649107        0.112500  \n",
       "Wii             0.000000        0.410256  \n",
       "WiiU            0.170079        0.450442  \n",
       "X360            0.001659        0.586893  \n",
       "XOne            0.002280        0.579011  "
      ]
     },
     "execution_count": 53,
     "metadata": {},
     "output_type": "execute_result"
    }
   ],
   "source": [
    "df_region = df_actual.pivot_table(index = 'platform', values = ['na_sales','eu_sales','jp_sales','sum_sales'], aggfunc = ['sum']) \n",
    "df_region.columns = ['sum_eu_sales','sum_jp_sales','sum_na_sales','sum_sales']\n",
    "df_region['eu_sales_share'] = df_region['sum_eu_sales']/df_region['sum_sales']\n",
    "df_region['jp_sales_share'] = df_region['sum_jp_sales']/df_region['sum_sales']\n",
    "df_region['na_sales_share'] = df_region['sum_na_sales']/df_region['sum_sales']\n",
    "df_region"
   ]
  },
  {
   "cell_type": "code",
   "execution_count": 54,
   "metadata": {},
   "outputs": [
    {
     "name": "stdout",
     "output_type": "stream",
     "text": [
      "Рейтинг популярных платформ в Европе:\n",
      " Index(['PS4', 'XOne', 'PS3', 'PC', '3DS'], dtype='object', name='platform')\n",
      "\n",
      "Рейтинг популярных платформ в Японии:\n",
      " Index(['3DS', 'PS4', 'PSV', 'PS3', 'WiiU'], dtype='object', name='platform')\n",
      "\n",
      "Рейтинг популярных платформ в Северной Америке:\n",
      " Index(['PS4', 'XOne', 'X360', '3DS', 'PS3'], dtype='object', name='platform')\n"
     ]
    }
   ],
   "source": [
    "print('Рейтинг популярных платформ в Европе:\\n',df_region.sort_values(by='sum_eu_sales', ascending = False).head().index)\n",
    "print('\\nРейтинг популярных платформ в Японии:\\n',df_region.sort_values(by='sum_jp_sales', ascending = False).head().index)\n",
    "print('\\nРейтинг популярных платформ в Северной Америке:\\n',df_region.sort_values(by='sum_na_sales', ascending = False).head().index)"
   ]
  },
  {
   "cell_type": "code",
   "execution_count": 55,
   "metadata": {
    "scrolled": true
   },
   "outputs": [
    {
     "data": {
      "image/png": "[encoded data removed]",
      "text/plain": [
       "<Figure size 576x360 with 1 Axes>"
      ]
     },
     "metadata": {
      "needs_background": "light"
     },
     "output_type": "display_data"
    }
   ],
   "source": [
    "plt.figure(figsize = (8,5))\n",
    "barWidth = 0.9\n",
    "plt.bar(df_region.index, df_region['sum_na_sales'], color='#a3acff', edgecolor='white', width=barWidth, label = 'продажи в Северной Америке')\n",
    "plt.bar(df_region.index, df_region['sum_eu_sales'], color='#b5ffb9', edgecolor='white', width=barWidth, label ='продажи в Европе')\n",
    "plt.bar(df_region.index, df_region['sum_jp_sales'], color='#f9bc86', edgecolor='white', width=barWidth, label = 'продажи в Японии')\n",
    "plt.xlabel(\"платформы\")\n",
    "plt.ylabel(\"количество млн. проданных копий\")\n",
    "plt.legend(loc='upper left', bbox_to_anchor=(1,1), ncol=1)\n",
    "plt.show()"
   ]
  },
  {
   "cell_type": "markdown",
   "metadata": {},
   "source": [
    "В Европе популярны платформы: PS4, XOne, PS3, PC, 3DS.\n",
    "\n",
    "В Японии популярны платформы: 3DS, PS4, PSV, PS3, WiiU\n",
    "\n",
    "В Северной Америке популярны платформы: PS4, XOne, X360, 3DS, PS3."
   ]
  },
  {
   "cell_type": "markdown",
   "metadata": {},
   "source": [
    "Рассмотрим доли продаж:"
   ]
  },
  {
   "cell_type": "code",
   "execution_count": 56,
   "metadata": {
    "scrolled": true
   },
   "outputs": [
    {
     "data": {
      "image/png": "[encoded data removed]",
      "text/plain": [
       "<Figure size 576x360 with 1 Axes>"
      ]
     },
     "metadata": {
      "needs_background": "light"
     },
     "output_type": "display_data"
    }
   ],
   "source": [
    "plt.figure(figsize = (8,5))\n",
    "barWidth = 0.9\n",
    "plt.bar(df_region.index, df_region['na_sales_share'], color='#a3acff', edgecolor='white', width=barWidth, label = 'продажи в Северной Америке')\n",
    "plt.bar(df_region.index, df_region['eu_sales_share'], color='#b5ffb9', edgecolor='white', width=barWidth, label ='продажи в Европе')\n",
    "plt.bar(df_region.index, df_region['jp_sales_share'], color='#f9bc86', edgecolor='white', width=barWidth, label = 'продажи в Японии')\n",
    "plt.xlabel(\"платформы\")\n",
    "plt.ylabel(\"доли от продаж\")\n",
    "plt.legend(loc='upper left', bbox_to_anchor=(1,1), ncol=1)\n",
    "plt.show()"
   ]
  },
  {
   "cell_type": "markdown",
   "metadata": {},
   "source": [
    "В разных регионах популярны разные платформы, поэтому и доли продаж распеределены не равномерно.\n",
    "Платформа WiiU пользуется спросом во всех 3 регионах: В Северной Америке, Европе, Японии (по убыванию).\n",
    "Все игры на 3DS, PSP, PSV были проданы в Японии. Все игры на PC, Wii были проданы в Европе, на PS4 - приходится половина всех продаж.\n",
    "В Северной Америке - WiiU, X360, XOne имееют большие продажи."
   ]
  },
  {
   "cell_type": "markdown",
   "metadata": {},
   "source": [
    "#### Самые популярные жанры "
   ]
  },
  {
   "cell_type": "markdown",
   "metadata": {},
   "source": [
    "Составим сводную таблицу по актуальным данным в разбивке по жанрам, и просуммируем продажи отдельно по регионам:\n",
    "* выведем рейтинг платформ отледьно по Европе, Японии и Северной Америке;\n",
    "* отобразим результаты на столбцатой диаграмме. "
   ]
  },
  {
   "cell_type": "code",
   "execution_count": 57,
   "metadata": {
    "scrolled": true
   },
   "outputs": [
    {
     "name": "stdout",
     "output_type": "stream",
     "text": [
      "Рейтинг популярных жанров в Европе:\n",
      " Index(['Action', 'Shooter', 'Sports', 'Role-Playing', 'Racing'], dtype='object', name='genre')\n",
      "\n",
      "Рейтинг популярных жанров в Японии:\n",
      " Index(['Role-Playing', 'Action', 'Fighting', 'Misc', 'Shooter'], dtype='object', name='genre')\n",
      "\n",
      "Рейтинг популярных жанров в Северной Америке:\n",
      " Index(['Shooter', 'Action', 'Sports', 'Role-Playing', 'Misc'], dtype='object', name='genre')\n"
     ]
    },
    {
     "data": {
      "text/plain": [
       "Text(0.5, 1.0, 'Суммарные продажи по жанрам')"
      ]
     },
     "execution_count": 57,
     "metadata": {},
     "output_type": "execute_result"
    },
    {
     "data": {
      "image/png": "[encoded data removed]",
      "text/plain": [
       "<Figure size 1080x432 with 1 Axes>"
      ]
     },
     "metadata": {
      "needs_background": "light"
     },
     "output_type": "display_data"
    }
   ],
   "source": [
    "df_genre_region = df_actual.pivot_table(index = 'genre', values = ['na_sales','eu_sales','jp_sales'], aggfunc = ['sum'])\n",
    "df_genre_region.columns = ['cум.продажи в Европе','cум.продажи в Японии','cум.продажи в Северной Америке']\n",
    "print('Рейтинг популярных жанров в Европе:\\n',df_genre_region.sort_values(by='cум.продажи в Европе', ascending = False).head().index)\n",
    "print('\\nРейтинг популярных жанров в Японии:\\n',df_genre_region.sort_values(by='cум.продажи в Японии', ascending = False).head().index)\n",
    "print('\\nРейтинг популярных жанров в Северной Америке:\\n',df_genre_region.sort_values(by='cум.продажи в Северной Америке', ascending = False).head().index)\n",
    "df_genre_region.plot.bar(figsize = (15,6))\n",
    "plt.xlabel(\"жанр игр\")\n",
    "plt.ylabel(\"суммарные продажи\")\n",
    "plt.title('Суммарные продажи по жанрам')"
   ]
  },
  {
   "cell_type": "markdown",
   "metadata": {},
   "source": [
    "В Европе популярны жанры: Action, Shooter, Sports,Role-Playing, Racing.\n",
    "\n",
    "В Японии: Role-Playing, Action, Fighting, Misc, Shooter.\n",
    "\n",
    "В Северной Америке: Shooter, Action, Shooter, Sports, Role-Playing,  Misc.\n",
    "\n",
    "Разница в результатах объясняется, тем что по регионам был выведен рейтинг платформ, в зависимоти от него и распределился рейтинг по жанрам игр. "
   ]
  },
  {
   "cell_type": "markdown",
   "metadata": {},
   "source": [
    "#### Влияние рейтинга ESRB на продажи"
   ]
  },
  {
   "cell_type": "markdown",
   "metadata": {},
   "source": [
    "В датафрейме втречаются следующие значения рейтинга ESRB:"
   ]
  },
  {
   "cell_type": "code",
   "execution_count": 58,
   "metadata": {
    "scrolled": true
   },
   "outputs": [
    {
     "data": {
      "text/plain": [
       "rating\n",
       "E          219\n",
       "E10+       185\n",
       "M          265\n",
       "T          271\n",
       "unknown    749\n",
       "Name: rating, dtype: int64"
      ]
     },
     "metadata": {},
     "output_type": "display_data"
    }
   ],
   "source": [
    "display(df_actual.groupby('rating')['rating'].count())"
   ]
  },
  {
   "cell_type": "markdown",
   "metadata": {},
   "source": [
    "Значения аббревиатур:\n",
    "* `AO` - «только для взрослых»\n",
    "* `E` - «для всех»\n",
    "* `E10+` - «для всех от 10 лет и старше»\n",
    "* `M` - «для взрослых»\n",
    "* `RP` - «рейтинг ожидается»\n",
    "* `T` - «подросткам»\n",
    "* `unknown` - пустые значения"
   ]
  },
  {
   "cell_type": "markdown",
   "metadata": {},
   "source": [
    "Составим сводную таблицу по актуальным данным в разбивке по значениям рейтинга ESRB, и просуммируем продажи отдельно по регионам. Отобразим результаты на столбцатой диаграмме:"
   ]
  },
  {
   "cell_type": "code",
   "execution_count": 59,
   "metadata": {},
   "outputs": [
    {
     "data": {
      "text/html": [
       "<div>\n",
       "<style scoped>\n",
       "    .dataframe tbody tr th:only-of-type {\n",
       "        vertical-align: middle;\n",
       "    }\n",
       "\n",
       "    .dataframe tbody tr th {\n",
       "        vertical-align: top;\n",
       "    }\n",
       "\n",
       "    .dataframe thead th {\n",
       "        text-align: right;\n",
       "    }\n",
       "</style>\n",
       "<table border=\"1\" class=\"dataframe\">\n",
       "  <thead>\n",
       "    <tr style=\"text-align: right;\">\n",
       "      <th></th>\n",
       "      <th>cум.продажи в Европе</th>\n",
       "      <th>cум.продажи в Японии</th>\n",
       "      <th>cум.продажи в Северной Америке</th>\n",
       "    </tr>\n",
       "    <tr>\n",
       "      <th>rating</th>\n",
       "      <th></th>\n",
       "      <th></th>\n",
       "      <th></th>\n",
       "    </tr>\n",
       "  </thead>\n",
       "  <tbody>\n",
       "    <tr>\n",
       "      <th>E</th>\n",
       "      <td>58.06</td>\n",
       "      <td>8.94</td>\n",
       "      <td>50.74</td>\n",
       "    </tr>\n",
       "    <tr>\n",
       "      <th>E10+</th>\n",
       "      <td>26.16</td>\n",
       "      <td>4.46</td>\n",
       "      <td>33.23</td>\n",
       "    </tr>\n",
       "    <tr>\n",
       "      <th>M</th>\n",
       "      <td>93.44</td>\n",
       "      <td>8.01</td>\n",
       "      <td>96.42</td>\n",
       "    </tr>\n",
       "    <tr>\n",
       "      <th>T</th>\n",
       "      <td>34.07</td>\n",
       "      <td>14.78</td>\n",
       "      <td>38.95</td>\n",
       "    </tr>\n",
       "    <tr>\n",
       "      <th>unknown</th>\n",
       "      <td>58.95</td>\n",
       "      <td>56.90</td>\n",
       "      <td>64.72</td>\n",
       "    </tr>\n",
       "  </tbody>\n",
       "</table>\n",
       "</div>"
      ],
      "text/plain": [
       "         cум.продажи в Европе  cум.продажи в Японии  \\\n",
       "rating                                                \n",
       "E                       58.06                  8.94   \n",
       "E10+                    26.16                  4.46   \n",
       "M                       93.44                  8.01   \n",
       "T                       34.07                 14.78   \n",
       "unknown                 58.95                 56.90   \n",
       "\n",
       "         cум.продажи в Северной Америке  \n",
       "rating                                   \n",
       "E                                 50.74  \n",
       "E10+                              33.23  \n",
       "M                                 96.42  \n",
       "T                                 38.95  \n",
       "unknown                           64.72  "
      ]
     },
     "metadata": {},
     "output_type": "display_data"
    },
    {
     "data": {
      "image/png": "[encoded data removed]",
      "text/plain": [
       "<Figure size 432x288 with 1 Axes>"
      ]
     },
     "metadata": {
      "needs_background": "light"
     },
     "output_type": "display_data"
    }
   ],
   "source": [
    "df_esrb = df_actual.pivot_table(index = 'rating', values = ['na_sales','eu_sales','jp_sales'], aggfunc = ['sum'])\n",
    "df_esrb.columns = ['cум.продажи в Европе','cум.продажи в Японии','cум.продажи в Северной Америке']\n",
    "display(df_esrb)\n",
    "df_esrb.plot.bar()\n",
    "plt.xlabel(\"рейтинг ESRB\")\n",
    "plt.ylabel(\"суммарные продажи\")\n",
    "plt.title('Суммарные продажи по рейтингу ESRB')\n",
    "plt.legend(loc='upper left', bbox_to_anchor=(1,1), ncol=1)\n",
    "plt.show()"
   ]
  },
  {
   "cell_type": "markdown",
   "metadata": {},
   "source": [
    "Во всех регионах высокие продажи у игр, для которых рейтинг неопределен. \n",
    "\n",
    "Игра с рейтингом для взрослых и «для всех» популярны в Европе и Северной Америке, в Японии - для подростков и для всех.\n",
    "\n",
    "Рейтинг ESRB не влияет на продажи."
   ]
  },
  {
   "cell_type": "markdown",
   "metadata": {},
   "source": [
    "### Проверка гипотез"
   ]
  },
  {
   "cell_type": "markdown",
   "metadata": {},
   "source": [
    "Необходимо проверить 2 гипотезы:\n",
    "* средние пользовательские рейтинги платформ Xbox One и PC одинаковые;\n",
    "* средние пользовательские рейтинги жанров Action (англ. «действие», экшенигры) и Sports (англ. «спортивные соревнования») разные."
   ]
  },
  {
   "cell_type": "markdown",
   "metadata": {},
   "source": [
    "#### Проверка гипотезы 1"
   ]
  },
  {
   "cell_type": "markdown",
   "metadata": {},
   "source": [
    "Средние пользовательские рейтинги платформ Xbox One и PC одинаковые.\n",
    "Сформулируем нулевую и альтернативную гипотезы:\n",
    " * H₀  — средние пользовательские рейтинги платформ Xbox One и PC равны (проверим равенство средних значений);\n",
    " * H₁ — средние пользовательские рейтинги платформ Xbox One и PC не равны (средние значения не равны).\n",
    " \n",
    "Для проверки гипотезы будет использоваться критерий p-value:"
   ]
  },
  {
   "cell_type": "code",
   "execution_count": 60,
   "metadata": {},
   "outputs": [
    {
     "name": "stdout",
     "output_type": "stream",
     "text": [
      "p-значение:  0.2718222107871509\n",
      "Не получилось отвергнуть нулевую гипотезу\n"
     ]
    }
   ],
   "source": [
    "sample_1 = df_actual[df_actual['platform'] == 'XOne']['user_score'] \n",
    "sample_2 = df_actual[df_actual['platform'] == 'PC']['user_score'] \n",
    "\n",
    "alpha = .01 # критический уровень статистической значимости\n",
    "# если p-value окажется меньше него - отвегнем гипотезу\n",
    "\n",
    "results = st.ttest_ind(sample_1, sample_2)\n",
    "\n",
    "print('p-значение: ', results.pvalue)\n",
    "\n",
    "if results.pvalue < alpha:\n",
    "    print(\"Отвергаем нулевую гипотезу\")\n",
    "else:\n",
    "    print(\"Не получилось отвергнуть нулевую гипотезу\") "
   ]
  },
  {
   "cell_type": "markdown",
   "metadata": {},
   "source": [
    "Полученное значение p-value говорит о том, что вероятность получить такое или большее различие случайно около 27%, хотя  средний пользовательский рейтинг игр разных жанров и неодинаков. Вероятность небольшая, чтобы делать вывод о значимом различии между средними оценками."
   ]
  },
  {
   "cell_type": "markdown",
   "metadata": {},
   "source": [
    "#### Проверка гипотезы 2"
   ]
  },
  {
   "cell_type": "markdown",
   "metadata": {},
   "source": [
    "Средние пользовательские рейтинги жанров Action и Sports разные.\n",
    "\n",
    "Сформулируем нулевую и альтернативную гипотезы:\n",
    " * H₀  — средние пользовательские рейтинги жанров Action и Sports равны (проверим равенство средних значений);\n",
    " * H₁ — средние пользовательские рейтинги жанров Action и Sports не равны (средние значения не равны).\n",
    " \n",
    "Для проверки гипотезы будет использоваться критерий p-value:"
   ]
  },
  {
   "cell_type": "code",
   "execution_count": 61,
   "metadata": {},
   "outputs": [
    {
     "name": "stdout",
     "output_type": "stream",
     "text": [
      "p-значение:  0.00046659782032851705\n",
      "Отвергаем нулевую гипотезу\n"
     ]
    }
   ],
   "source": [
    "sample_1 = df_actual[df_actual['genre'] == 'Action']['user_score'] \n",
    "sample_2 = df_actual[df_actual['genre'] == 'Sports']['user_score'] \n",
    "\n",
    "alpha = .01 # критический уровень статистической значимости\n",
    "# если p-value окажется меньше него - отвегнем гипотезу\n",
    "\n",
    "results = st.ttest_ind(sample_1, sample_2)\n",
    "\n",
    "print('p-значение: ', results.pvalue)\n",
    "\n",
    "if results.pvalue < alpha:\n",
    "    print(\"Отвергаем нулевую гипотезу\")\n",
    "else:\n",
    "    print(\"Не получилось отвергнуть нулевую гипотезу\") "
   ]
  },
  {
   "cell_type": "markdown",
   "metadata": {},
   "source": [
    "Полученное значение p-value говорит о том, что пользователи оценивали игры на платформах по разному. Это слишком маленькая вероятность, чтобы делать вывод о значимом сходстве между средними оценками."
   ]
  },
  {
   "cell_type": "markdown",
   "metadata": {},
   "source": [
    "## Общий вывод"
   ]
  },
  {
   "cell_type": "markdown",
   "metadata": {},
   "source": [
    "В данном проекте было проведено исследование компьютерных игр интернет-магазина «Стримчик».\n",
    "\n",
    "После знакомства с данными, была выполнена преобработка. Около 40% данных о оценках пользоватей, критиков и  рейтинге от организации ESRB были пусты. Пропуски были сохранены и идентифицорованы от других значений, это позволило сохранить целостность датафрейма без искажений. Частично были заполнены пропуски в столбце год выпуска, ориентируясь на наименование игр. Отдельно отработано значение 'tbd' в оценках критиков. Для каждого столбца оценок был изменен тип данных в зависимоти от оценочного диапозона.\n",
    "\n",
    "Для анализа выполнен расчет суммарные продаж по каждой игре."
   ]
  },
  {
   "cell_type": "markdown",
   "metadata": {},
   "source": [
    "Результаты исследования количества игр и продаж по году выпуска позволили выявить актуальный период для прогнозирования на 2017 год - с 2014 по 2016 гг . \n",
    "\n",
    "Выявлена потенциально прибыльная платформа за последние 3 года - PS4.\n",
    "\n",
    "Результаты исследование влияния оценок критиков и пользователей на продажи внутри одной популярной платформы (PS4) и на других платформах в целом не отличаются.\n",
    "* суммарные продажи не сильно коррелируют с оценками критиков (0.2,-0.4);\n",
    "* зависимость суммарных продажи от оценок пользователей очень слабая (0-0.2).\n",
    "\n",
    "Анализ общего распределения игр по жанрам выявил самый прибыльный (Shooter) и жанры с низкими продажами (Adventure,Puzzle,Strategy).\n",
    "\n",
    "По портретам пользователей регионов можно отметить:\n",
    "* Северная Америка: самые популярные платформы -  PS4, XOne, X360, 3DS, PS3; популярные жанры -  Shooter, Action, Shooter, Sports, Role-Playing, Misc;\n",
    "* Европа: лидер по суммарным продажам; самые популярные платформы - PS4, XOne, PS3, PC, 3DS; популярные жанры - Action, Shooter, Sports,Role-Playing, Racing;\n",
    "* Япония: наименьшие суммарные продажи;  самые популярные платформы -  3DS, PS4, PSV, PS3, WiiU; популярные жанры - Role-Playing, Action, Fighting, Misc, Shooter.\n",
    "\n",
    "Рейтинг ESRB не влияет на продажи."
   ]
  },
  {
   "cell_type": "markdown",
   "metadata": {},
   "source": [
    "Проверив гипотезу о равенстве средних пользовательских рейтингов платформ Xbox One и PC , пришли в выводу, выявили, что различий нет.\n",
    "\n",
    "Проверив гипотезу о различии средних пользовательских рейтингов жанров Action и Sports, что оценки разнятся."
   ]
  },
  {
   "cell_type": "markdown",
   "metadata": {},
   "source": [
    "**Исследование выявило определяющие успешность игры закономерности:**\n",
    "- география продаж (Европа является самым покупаемым регионом);\n",
    "- платформа (явно прослеживается 3летний пик для каждой платформа, PS4 - в топе для всех регионов);\n",
    "- жанр игр (Shooter популярнен во всех регионах);\n",
    "- оценки критиков (выявлена зависимость 0,4).\n",
    "\n",
    "Выделим закономерности/тренды, которые помогут бизнесу компании принять верные стратегические решения на 2017 год:\n",
    "\n",
    "1. PS4 и XOne на горизонте 2014-2016 годов - это 2 лидера. Уже видно их снижение продаж, но именно на них в 2017 году следует сделать ставку. Какого-то нового игрока на рынке игровых платформ не просматривается.\n",
    "\n",
    "2. Мы видим, что если оценки и влияют на количество продаж, то это справедливо только для оценок экспертов. Поэтому для рекламы нашей продукции следует использовать специализированные издания, в которых  мы будем стимулировать экспертов игрового рынка рекламировать нашу продукцию. Вкладываться в геймеров-блогеров и \"оплачивать\" мнение обычных геймеров не стоит, т.к. корреляции их оценок с продажами мы не видим.\n",
    "\n",
    "3. Так как в Европе популярны платформы: PS4 и XOne, в Японии популярны платформы: 3DS и PS4, в Северной Америке популярны платформы: PS4, XOne, то соответственно в этих регионах сделаем ставку на рекламу игр для именно этих платформ.\n",
    "\n",
    "4. Ставку в продажах в первую очередь сделаем на игры жанра Shooter, Sports и Action. Однако в соответствующих регионах эти лидеры будут чуть разными. В Европе распредление лидеров: Action, Shooter, Sports. В Японии: Role-Playing, Action, Shooter. В Америке: Shooter, Action, Sports. \n",
    "\n",
    "5. Пользоваться услугами агентства ESRB для присвоения рейтингов играм будем в Европе и Америке, но тратить деньги для рейтингования игр, отправляемых на продажу в Японию не стоит.\n",
    "\n"
   ]
  }
 ],
 "metadata": {
  "ExecuteTimeLog": [
   {
    "duration": 40,
    "start_time": "2022-04-10T07:28:04.295Z"
   },
   {
    "duration": 5,
    "start_time": "2022-04-10T07:28:13.179Z"
   },
   {
    "duration": 1021,
    "start_time": "2022-04-10T07:28:16.794Z"
   },
   {
    "duration": 93,
    "start_time": "2022-04-10T07:28:17.817Z"
   },
   {
    "duration": 17,
    "start_time": "2022-04-10T07:28:17.911Z"
   },
   {
    "duration": 12,
    "start_time": "2022-04-10T07:28:17.930Z"
   },
   {
    "duration": 22,
    "start_time": "2022-04-10T07:28:17.944Z"
   },
   {
    "duration": 6,
    "start_time": "2022-04-10T07:28:17.967Z"
   },
   {
    "duration": 11,
    "start_time": "2022-04-10T07:28:17.974Z"
   },
   {
    "duration": 11,
    "start_time": "2022-04-10T07:28:17.986Z"
   },
   {
    "duration": 24,
    "start_time": "2022-04-10T07:28:17.998Z"
   },
   {
    "duration": 5,
    "start_time": "2022-04-10T07:28:18.024Z"
   },
   {
    "duration": 40,
    "start_time": "2022-04-10T07:28:18.030Z"
   },
   {
    "duration": 16,
    "start_time": "2022-04-10T07:28:18.072Z"
   },
   {
    "duration": 6,
    "start_time": "2022-04-10T07:28:18.090Z"
   },
   {
    "duration": 9,
    "start_time": "2022-04-10T07:28:18.097Z"
   },
   {
    "duration": 11,
    "start_time": "2022-04-10T07:28:18.108Z"
   },
   {
    "duration": 3,
    "start_time": "2022-04-10T07:28:18.120Z"
   },
   {
    "duration": 10,
    "start_time": "2022-04-10T07:28:18.124Z"
   },
   {
    "duration": 5,
    "start_time": "2022-04-10T07:28:18.136Z"
   },
   {
    "duration": 34,
    "start_time": "2022-04-10T07:28:18.143Z"
   },
   {
    "duration": 3,
    "start_time": "2022-04-10T07:28:18.179Z"
   },
   {
    "duration": 7,
    "start_time": "2022-04-10T07:28:18.184Z"
   },
   {
    "duration": 109,
    "start_time": "2022-04-10T07:28:18.192Z"
   },
   {
    "duration": 6,
    "start_time": "2022-04-10T07:28:18.302Z"
   },
   {
    "duration": 296,
    "start_time": "2022-04-10T07:28:18.309Z"
   },
   {
    "duration": 5,
    "start_time": "2022-04-10T07:28:18.606Z"
   },
   {
    "duration": 215,
    "start_time": "2022-04-10T07:28:18.612Z"
   },
   {
    "duration": 293,
    "start_time": "2022-04-10T07:28:18.828Z"
   },
   {
    "duration": 10,
    "start_time": "2022-04-10T07:28:19.124Z"
   },
   {
    "duration": 8,
    "start_time": "2022-04-10T07:28:19.135Z"
   },
   {
    "duration": 722,
    "start_time": "2022-04-10T07:28:19.144Z"
   },
   {
    "duration": 326,
    "start_time": "2022-04-10T07:28:19.867Z"
   },
   {
    "duration": 138,
    "start_time": "2022-04-10T07:28:20.195Z"
   },
   {
    "duration": 7,
    "start_time": "2022-04-10T07:28:20.334Z"
   },
   {
    "duration": 32,
    "start_time": "2022-04-10T07:28:20.342Z"
   },
   {
    "duration": 4,
    "start_time": "2022-04-10T07:28:20.376Z"
   },
   {
    "duration": 10,
    "start_time": "2022-04-10T07:28:20.381Z"
   },
   {
    "duration": 10,
    "start_time": "2022-04-10T07:28:20.392Z"
   },
   {
    "duration": 20,
    "start_time": "2022-04-10T07:28:20.404Z"
   },
   {
    "duration": 121,
    "start_time": "2022-04-10T07:28:20.425Z"
   },
   {
    "duration": 125,
    "start_time": "2022-04-10T07:28:20.547Z"
   },
   {
    "duration": 28,
    "start_time": "2022-04-10T07:28:20.673Z"
   },
   {
    "duration": 820,
    "start_time": "2022-04-10T07:28:20.703Z"
   },
   {
    "duration": 199,
    "start_time": "2022-04-10T07:28:21.524Z"
   },
   {
    "duration": 23,
    "start_time": "2022-04-10T07:28:21.724Z"
   },
   {
    "duration": 23,
    "start_time": "2022-04-10T07:28:21.749Z"
   },
   {
    "duration": 209,
    "start_time": "2022-04-10T07:28:21.773Z"
   },
   {
    "duration": 275,
    "start_time": "2022-04-10T07:28:21.984Z"
   },
   {
    "duration": 230,
    "start_time": "2022-04-10T07:28:22.261Z"
   },
   {
    "duration": 5,
    "start_time": "2022-04-10T07:28:22.493Z"
   },
   {
    "duration": 178,
    "start_time": "2022-04-10T07:28:22.499Z"
   },
   {
    "duration": 7,
    "start_time": "2022-04-10T07:28:22.679Z"
   },
   {
    "duration": 12,
    "start_time": "2022-04-10T07:28:22.688Z"
   },
   {
    "duration": 4,
    "start_time": "2022-04-10T07:28:37.339Z"
   },
   {
    "duration": 54,
    "start_time": "2022-04-10T07:28:52.604Z"
   },
   {
    "duration": 12,
    "start_time": "2022-04-10T07:29:02.433Z"
   },
   {
    "duration": 5,
    "start_time": "2022-04-10T07:29:25.892Z"
   },
   {
    "duration": 7,
    "start_time": "2022-04-10T07:29:48.332Z"
   },
   {
    "duration": 3,
    "start_time": "2022-04-10T07:30:21.329Z"
   },
   {
    "duration": 109,
    "start_time": "2022-04-10T07:30:21.334Z"
   },
   {
    "duration": 14,
    "start_time": "2022-04-10T07:30:21.445Z"
   },
   {
    "duration": 24,
    "start_time": "2022-04-10T07:30:21.461Z"
   },
   {
    "duration": 33,
    "start_time": "2022-04-10T07:30:21.486Z"
   },
   {
    "duration": 6,
    "start_time": "2022-04-10T07:30:21.521Z"
   },
   {
    "duration": 19,
    "start_time": "2022-04-10T07:30:21.528Z"
   },
   {
    "duration": 12,
    "start_time": "2022-04-10T07:30:21.548Z"
   },
   {
    "duration": 24,
    "start_time": "2022-04-10T07:30:21.562Z"
   },
   {
    "duration": 5,
    "start_time": "2022-04-10T07:30:21.587Z"
   },
   {
    "duration": 20,
    "start_time": "2022-04-10T07:30:21.594Z"
   },
   {
    "duration": 3,
    "start_time": "2022-04-10T07:30:21.616Z"
   },
   {
    "duration": 9,
    "start_time": "2022-04-10T07:30:21.620Z"
   },
   {
    "duration": 40,
    "start_time": "2022-04-10T07:30:21.631Z"
   },
   {
    "duration": 11,
    "start_time": "2022-04-10T07:30:21.672Z"
   },
   {
    "duration": 4,
    "start_time": "2022-04-10T07:30:21.684Z"
   },
   {
    "duration": 6,
    "start_time": "2022-04-10T07:30:21.689Z"
   },
   {
    "duration": 6,
    "start_time": "2022-04-10T07:30:21.696Z"
   },
   {
    "duration": 12,
    "start_time": "2022-04-10T07:30:21.703Z"
   },
   {
    "duration": 3,
    "start_time": "2022-04-10T07:30:21.716Z"
   },
   {
    "duration": 8,
    "start_time": "2022-04-10T07:30:21.721Z"
   },
   {
    "duration": 110,
    "start_time": "2022-04-10T07:30:21.730Z"
   },
   {
    "duration": 6,
    "start_time": "2022-04-10T07:30:21.842Z"
   },
   {
    "duration": 286,
    "start_time": "2022-04-10T07:30:21.851Z"
   },
   {
    "duration": 5,
    "start_time": "2022-04-10T07:30:22.139Z"
   },
   {
    "duration": 225,
    "start_time": "2022-04-10T07:30:22.146Z"
   },
   {
    "duration": 291,
    "start_time": "2022-04-10T07:30:22.372Z"
   },
   {
    "duration": 15,
    "start_time": "2022-04-10T07:30:22.665Z"
   },
   {
    "duration": 6,
    "start_time": "2022-04-10T07:30:22.682Z"
   },
   {
    "duration": 651,
    "start_time": "2022-04-10T07:30:22.690Z"
   },
   {
    "duration": 318,
    "start_time": "2022-04-10T07:30:23.343Z"
   },
   {
    "duration": 135,
    "start_time": "2022-04-10T07:30:23.663Z"
   },
   {
    "duration": 6,
    "start_time": "2022-04-10T07:30:23.800Z"
   },
   {
    "duration": 25,
    "start_time": "2022-04-10T07:30:23.807Z"
   },
   {
    "duration": 4,
    "start_time": "2022-04-10T07:30:23.833Z"
   },
   {
    "duration": 33,
    "start_time": "2022-04-10T07:30:23.838Z"
   },
   {
    "duration": 12,
    "start_time": "2022-04-10T07:30:23.872Z"
   },
   {
    "duration": 8,
    "start_time": "2022-04-10T07:30:23.886Z"
   },
   {
    "duration": 125,
    "start_time": "2022-04-10T07:30:23.896Z"
   },
   {
    "duration": 129,
    "start_time": "2022-04-10T07:30:24.023Z"
   },
   {
    "duration": 38,
    "start_time": "2022-04-10T07:30:24.154Z"
   },
   {
    "duration": 810,
    "start_time": "2022-04-10T07:30:24.194Z"
   },
   {
    "duration": 184,
    "start_time": "2022-04-10T07:30:25.006Z"
   },
   {
    "duration": 20,
    "start_time": "2022-04-10T07:30:25.192Z"
   },
   {
    "duration": 6,
    "start_time": "2022-04-10T07:30:25.213Z"
   },
   {
    "duration": 325,
    "start_time": "2022-04-10T07:30:25.220Z"
   },
   {
    "duration": 338,
    "start_time": "2022-04-10T07:30:25.547Z"
   },
   {
    "duration": 625,
    "start_time": "2022-04-10T07:30:25.887Z"
   },
   {
    "duration": 61,
    "start_time": "2022-04-10T07:30:26.514Z"
   },
   {
    "duration": 504,
    "start_time": "2022-04-10T07:30:26.577Z"
   },
   {
    "duration": 10,
    "start_time": "2022-04-10T07:30:27.083Z"
   },
   {
    "duration": 9,
    "start_time": "2022-04-10T07:30:27.095Z"
   },
   {
    "duration": 8,
    "start_time": "2022-04-10T07:30:46.458Z"
   },
   {
    "duration": 133,
    "start_time": "2022-04-10T08:16:28.412Z"
   },
   {
    "duration": 2,
    "start_time": "2022-04-10T08:20:58.449Z"
   },
   {
    "duration": 90,
    "start_time": "2022-04-10T08:20:58.454Z"
   },
   {
    "duration": 14,
    "start_time": "2022-04-10T08:20:58.546Z"
   },
   {
    "duration": 13,
    "start_time": "2022-04-10T08:20:58.562Z"
   },
   {
    "duration": 23,
    "start_time": "2022-04-10T08:20:58.576Z"
   },
   {
    "duration": 5,
    "start_time": "2022-04-10T08:20:58.601Z"
   },
   {
    "duration": 9,
    "start_time": "2022-04-10T08:20:58.608Z"
   },
   {
    "duration": 4,
    "start_time": "2022-04-10T08:20:58.618Z"
   },
   {
    "duration": 9,
    "start_time": "2022-04-10T08:20:58.623Z"
   },
   {
    "duration": 3,
    "start_time": "2022-04-10T08:20:58.633Z"
   },
   {
    "duration": 129,
    "start_time": "2022-04-10T08:24:11.334Z"
   },
   {
    "duration": 17,
    "start_time": "2022-04-10T08:26:12.019Z"
   },
   {
    "duration": 91,
    "start_time": "2022-04-10T08:27:47.566Z"
   },
   {
    "duration": 92,
    "start_time": "2022-04-10T08:28:00.031Z"
   },
   {
    "duration": 89,
    "start_time": "2022-04-10T08:28:07.012Z"
   },
   {
    "duration": 3,
    "start_time": "2022-04-10T08:28:14.906Z"
   },
   {
    "duration": 91,
    "start_time": "2022-04-10T08:28:14.910Z"
   },
   {
    "duration": 14,
    "start_time": "2022-04-10T08:28:15.003Z"
   },
   {
    "duration": 21,
    "start_time": "2022-04-10T08:28:15.019Z"
   },
   {
    "duration": 24,
    "start_time": "2022-04-10T08:28:15.042Z"
   },
   {
    "duration": 5,
    "start_time": "2022-04-10T08:28:15.071Z"
   },
   {
    "duration": 7,
    "start_time": "2022-04-10T08:28:15.078Z"
   },
   {
    "duration": 8,
    "start_time": "2022-04-10T08:28:15.086Z"
   },
   {
    "duration": 21,
    "start_time": "2022-04-10T08:28:15.096Z"
   },
   {
    "duration": 5,
    "start_time": "2022-04-10T08:28:15.119Z"
   },
   {
    "duration": 47,
    "start_time": "2022-04-10T08:28:15.125Z"
   },
   {
    "duration": 4,
    "start_time": "2022-04-10T08:28:15.173Z"
   },
   {
    "duration": 11,
    "start_time": "2022-04-10T08:28:15.178Z"
   },
   {
    "duration": 11,
    "start_time": "2022-04-10T08:28:15.191Z"
   },
   {
    "duration": 3,
    "start_time": "2022-04-10T08:28:15.203Z"
   },
   {
    "duration": 6,
    "start_time": "2022-04-10T08:28:15.207Z"
   },
   {
    "duration": 7,
    "start_time": "2022-04-10T08:28:15.214Z"
   },
   {
    "duration": 12,
    "start_time": "2022-04-10T08:28:15.223Z"
   },
   {
    "duration": 3,
    "start_time": "2022-04-10T08:28:15.237Z"
   },
   {
    "duration": 36,
    "start_time": "2022-04-10T08:28:15.241Z"
   },
   {
    "duration": 91,
    "start_time": "2022-04-10T08:28:15.279Z"
   },
   {
    "duration": 6,
    "start_time": "2022-04-10T08:28:15.372Z"
   },
   {
    "duration": 90,
    "start_time": "2022-04-10T08:28:31.357Z"
   },
   {
    "duration": 87,
    "start_time": "2022-04-10T08:28:44.663Z"
   },
   {
    "duration": 84,
    "start_time": "2022-04-10T08:28:58.050Z"
   },
   {
    "duration": 193,
    "start_time": "2022-04-10T08:29:53.030Z"
   },
   {
    "duration": 2,
    "start_time": "2022-04-10T08:33:29.327Z"
   },
   {
    "duration": 92,
    "start_time": "2022-04-10T08:33:29.331Z"
   },
   {
    "duration": 13,
    "start_time": "2022-04-10T08:33:29.424Z"
   },
   {
    "duration": 14,
    "start_time": "2022-04-10T08:33:29.439Z"
   },
   {
    "duration": 22,
    "start_time": "2022-04-10T08:33:29.454Z"
   },
   {
    "duration": 6,
    "start_time": "2022-04-10T08:33:29.477Z"
   },
   {
    "duration": 10,
    "start_time": "2022-04-10T08:33:29.484Z"
   },
   {
    "duration": 7,
    "start_time": "2022-04-10T08:33:29.496Z"
   },
   {
    "duration": 25,
    "start_time": "2022-04-10T08:33:29.505Z"
   },
   {
    "duration": 5,
    "start_time": "2022-04-10T08:33:29.532Z"
   },
   {
    "duration": 39,
    "start_time": "2022-04-10T08:33:29.538Z"
   },
   {
    "duration": 3,
    "start_time": "2022-04-10T08:33:29.579Z"
   },
   {
    "duration": 9,
    "start_time": "2022-04-10T08:33:29.584Z"
   },
   {
    "duration": 11,
    "start_time": "2022-04-10T08:33:29.594Z"
   },
   {
    "duration": 4,
    "start_time": "2022-04-10T08:33:29.606Z"
   },
   {
    "duration": 5,
    "start_time": "2022-04-10T08:33:29.611Z"
   },
   {
    "duration": 7,
    "start_time": "2022-04-10T08:33:29.617Z"
   },
   {
    "duration": 12,
    "start_time": "2022-04-10T08:33:29.625Z"
   },
   {
    "duration": 35,
    "start_time": "2022-04-10T08:33:29.638Z"
   },
   {
    "duration": 8,
    "start_time": "2022-04-10T08:33:29.674Z"
   },
   {
    "duration": 101,
    "start_time": "2022-04-10T08:33:29.683Z"
   },
   {
    "duration": 7,
    "start_time": "2022-04-10T08:33:29.786Z"
   },
   {
    "duration": 318,
    "start_time": "2022-04-10T08:33:29.794Z"
   },
   {
    "duration": 5,
    "start_time": "2022-04-10T08:33:30.114Z"
   },
   {
    "duration": 238,
    "start_time": "2022-04-10T08:33:30.121Z"
   },
   {
    "duration": 295,
    "start_time": "2022-04-10T08:33:30.361Z"
   },
   {
    "duration": 16,
    "start_time": "2022-04-10T08:33:30.658Z"
   },
   {
    "duration": 7,
    "start_time": "2022-04-10T08:33:30.676Z"
   },
   {
    "duration": 749,
    "start_time": "2022-04-10T08:33:30.685Z"
   },
   {
    "duration": 325,
    "start_time": "2022-04-10T08:33:31.435Z"
   },
   {
    "duration": 139,
    "start_time": "2022-04-10T08:33:31.761Z"
   },
   {
    "duration": 9,
    "start_time": "2022-04-10T08:33:31.901Z"
   },
   {
    "duration": 11,
    "start_time": "2022-04-10T08:33:54.533Z"
   },
   {
    "duration": 4,
    "start_time": "2022-04-10T08:34:11.230Z"
   },
   {
    "duration": 42,
    "start_time": "2022-04-10T08:34:40.841Z"
   },
   {
    "duration": 11,
    "start_time": "2022-04-10T08:34:45.607Z"
   },
   {
    "duration": 130,
    "start_time": "2022-04-10T08:36:17.820Z"
   },
   {
    "duration": 2,
    "start_time": "2022-04-10T08:36:33.841Z"
   },
   {
    "duration": 87,
    "start_time": "2022-04-10T08:36:33.845Z"
   },
   {
    "duration": 14,
    "start_time": "2022-04-10T08:36:33.933Z"
   },
   {
    "duration": 13,
    "start_time": "2022-04-10T08:36:33.948Z"
   },
   {
    "duration": 23,
    "start_time": "2022-04-10T08:36:33.963Z"
   },
   {
    "duration": 5,
    "start_time": "2022-04-10T08:36:33.987Z"
   },
   {
    "duration": 8,
    "start_time": "2022-04-10T08:36:33.994Z"
   },
   {
    "duration": 8,
    "start_time": "2022-04-10T08:36:34.003Z"
   },
   {
    "duration": 22,
    "start_time": "2022-04-10T08:36:34.012Z"
   },
   {
    "duration": 5,
    "start_time": "2022-04-10T08:36:34.035Z"
   },
   {
    "duration": 19,
    "start_time": "2022-04-10T08:36:34.070Z"
   },
   {
    "duration": 4,
    "start_time": "2022-04-10T08:36:34.091Z"
   },
   {
    "duration": 11,
    "start_time": "2022-04-10T08:36:34.096Z"
   },
   {
    "duration": 12,
    "start_time": "2022-04-10T08:36:34.110Z"
   },
   {
    "duration": 3,
    "start_time": "2022-04-10T08:36:34.123Z"
   },
   {
    "duration": 4,
    "start_time": "2022-04-10T08:36:34.128Z"
   },
   {
    "duration": 5,
    "start_time": "2022-04-10T08:36:34.134Z"
   },
   {
    "duration": 13,
    "start_time": "2022-04-10T08:36:34.171Z"
   },
   {
    "duration": 4,
    "start_time": "2022-04-10T08:36:34.186Z"
   },
   {
    "duration": 7,
    "start_time": "2022-04-10T08:36:34.192Z"
   },
   {
    "duration": 107,
    "start_time": "2022-04-10T08:36:34.201Z"
   },
   {
    "duration": 7,
    "start_time": "2022-04-10T08:36:34.310Z"
   },
   {
    "duration": 285,
    "start_time": "2022-04-10T08:36:34.319Z"
   },
   {
    "duration": 6,
    "start_time": "2022-04-10T08:36:34.606Z"
   },
   {
    "duration": 222,
    "start_time": "2022-04-10T08:36:34.613Z"
   },
   {
    "duration": 304,
    "start_time": "2022-04-10T08:36:34.837Z"
   },
   {
    "duration": 12,
    "start_time": "2022-04-10T08:36:35.142Z"
   },
   {
    "duration": 17,
    "start_time": "2022-04-10T08:36:35.155Z"
   },
   {
    "duration": 715,
    "start_time": "2022-04-10T08:36:35.173Z"
   },
   {
    "duration": 321,
    "start_time": "2022-04-10T08:36:35.890Z"
   },
   {
    "duration": 131,
    "start_time": "2022-04-10T08:36:36.213Z"
   },
   {
    "duration": 9,
    "start_time": "2022-04-10T08:36:36.346Z"
   },
   {
    "duration": 4,
    "start_time": "2022-04-10T08:36:36.356Z"
   },
   {
    "duration": 131,
    "start_time": "2022-04-10T08:36:36.370Z"
   },
   {
    "duration": 138,
    "start_time": "2022-04-10T08:37:45.039Z"
   },
   {
    "duration": 16,
    "start_time": "2022-04-10T08:41:35.868Z"
   },
   {
    "duration": 139,
    "start_time": "2022-04-10T08:41:41.431Z"
   },
   {
    "duration": 242,
    "start_time": "2022-04-10T08:41:46.055Z"
   },
   {
    "duration": 9,
    "start_time": "2022-04-10T08:42:01.317Z"
   },
   {
    "duration": 125,
    "start_time": "2022-04-10T08:42:02.513Z"
   },
   {
    "duration": 2,
    "start_time": "2022-04-10T08:42:09.910Z"
   },
   {
    "duration": 103,
    "start_time": "2022-04-10T08:42:09.914Z"
   },
   {
    "duration": 14,
    "start_time": "2022-04-10T08:42:10.019Z"
   },
   {
    "duration": 14,
    "start_time": "2022-04-10T08:42:10.035Z"
   },
   {
    "duration": 24,
    "start_time": "2022-04-10T08:42:10.050Z"
   },
   {
    "duration": 5,
    "start_time": "2022-04-10T08:42:10.076Z"
   },
   {
    "duration": 9,
    "start_time": "2022-04-10T08:42:10.083Z"
   },
   {
    "duration": 8,
    "start_time": "2022-04-10T08:42:10.093Z"
   },
   {
    "duration": 22,
    "start_time": "2022-04-10T08:42:10.103Z"
   },
   {
    "duration": 6,
    "start_time": "2022-04-10T08:42:10.127Z"
   },
   {
    "duration": 45,
    "start_time": "2022-04-10T08:42:10.134Z"
   },
   {
    "duration": 4,
    "start_time": "2022-04-10T08:42:10.180Z"
   },
   {
    "duration": 8,
    "start_time": "2022-04-10T08:42:10.185Z"
   },
   {
    "duration": 11,
    "start_time": "2022-04-10T08:42:10.194Z"
   },
   {
    "duration": 3,
    "start_time": "2022-04-10T08:42:10.206Z"
   },
   {
    "duration": 5,
    "start_time": "2022-04-10T08:42:10.210Z"
   },
   {
    "duration": 6,
    "start_time": "2022-04-10T08:42:10.216Z"
   },
   {
    "duration": 12,
    "start_time": "2022-04-10T08:42:10.223Z"
   },
   {
    "duration": 36,
    "start_time": "2022-04-10T08:42:10.236Z"
   },
   {
    "duration": 8,
    "start_time": "2022-04-10T08:42:10.274Z"
   },
   {
    "duration": 95,
    "start_time": "2022-04-10T08:42:10.283Z"
   },
   {
    "duration": 5,
    "start_time": "2022-04-10T08:42:10.380Z"
   },
   {
    "duration": 285,
    "start_time": "2022-04-10T08:42:10.387Z"
   },
   {
    "duration": 5,
    "start_time": "2022-04-10T08:42:10.673Z"
   },
   {
    "duration": 215,
    "start_time": "2022-04-10T08:42:10.679Z"
   },
   {
    "duration": 493,
    "start_time": "2022-04-10T08:42:10.896Z"
   },
   {
    "duration": 12,
    "start_time": "2022-04-10T08:42:11.390Z"
   },
   {
    "duration": 7,
    "start_time": "2022-04-10T08:42:11.405Z"
   },
   {
    "duration": 553,
    "start_time": "2022-04-10T08:42:11.414Z"
   },
   {
    "duration": 315,
    "start_time": "2022-04-10T08:42:11.968Z"
   },
   {
    "duration": 139,
    "start_time": "2022-04-10T08:42:12.285Z"
   },
   {
    "duration": 9,
    "start_time": "2022-04-10T08:42:12.425Z"
   },
   {
    "duration": 139,
    "start_time": "2022-04-10T08:42:12.436Z"
   },
   {
    "duration": 156,
    "start_time": "2022-04-10T08:57:04.866Z"
   },
   {
    "duration": 1678,
    "start_time": "2022-04-10T19:19:44.525Z"
   },
   {
    "duration": 165,
    "start_time": "2022-04-10T19:19:47.556Z"
   },
   {
    "duration": 21,
    "start_time": "2022-04-10T19:20:08.094Z"
   },
   {
    "duration": 23,
    "start_time": "2022-04-10T19:20:10.448Z"
   },
   {
    "duration": 41,
    "start_time": "2022-04-10T19:20:29.006Z"
   },
   {
    "duration": 381,
    "start_time": "2022-04-10T19:37:19.117Z"
   },
   {
    "duration": 6,
    "start_time": "2022-04-10T19:37:40.260Z"
   },
   {
    "duration": 111,
    "start_time": "2022-04-10T19:38:11.044Z"
   },
   {
    "duration": 9,
    "start_time": "2022-04-10T19:39:57.780Z"
   },
   {
    "duration": 11,
    "start_time": "2022-04-10T19:40:32.579Z"
   },
   {
    "duration": 5,
    "start_time": "2022-04-10T19:58:15.158Z"
   },
   {
    "duration": 10,
    "start_time": "2022-04-10T19:58:37.864Z"
   },
   {
    "duration": 6,
    "start_time": "2022-04-10T20:02:15.720Z"
   },
   {
    "duration": 11,
    "start_time": "2022-04-10T20:03:03.738Z"
   },
   {
    "duration": 18,
    "start_time": "2022-04-10T20:06:42.102Z"
   },
   {
    "duration": 12,
    "start_time": "2022-04-10T20:07:30.780Z"
   },
   {
    "duration": 19,
    "start_time": "2022-04-10T20:07:35.359Z"
   },
   {
    "duration": 12,
    "start_time": "2022-04-10T21:07:33.670Z"
   },
   {
    "duration": 10,
    "start_time": "2022-04-10T21:09:47.356Z"
   },
   {
    "duration": 6,
    "start_time": "2022-04-10T21:10:52.612Z"
   },
   {
    "duration": 22,
    "start_time": "2022-04-10T21:11:04.921Z"
   },
   {
    "duration": 4,
    "start_time": "2022-04-10T21:20:10.116Z"
   },
   {
    "duration": 30,
    "start_time": "2022-04-10T21:20:35.704Z"
   },
   {
    "duration": 1406,
    "start_time": "2022-04-11T18:01:55.978Z"
   },
   {
    "duration": 139,
    "start_time": "2022-04-11T18:01:57.386Z"
   },
   {
    "duration": 17,
    "start_time": "2022-04-11T18:01:57.526Z"
   },
   {
    "duration": 15,
    "start_time": "2022-04-11T18:01:57.545Z"
   },
   {
    "duration": 24,
    "start_time": "2022-04-11T18:01:57.561Z"
   },
   {
    "duration": 4,
    "start_time": "2022-04-11T18:01:57.587Z"
   },
   {
    "duration": 9,
    "start_time": "2022-04-11T18:01:57.592Z"
   },
   {
    "duration": 12,
    "start_time": "2022-04-11T18:01:57.603Z"
   },
   {
    "duration": 4,
    "start_time": "2022-04-11T18:01:57.617Z"
   },
   {
    "duration": 13,
    "start_time": "2022-04-11T18:02:11.012Z"
   },
   {
    "duration": 20,
    "start_time": "2022-04-11T18:02:17.870Z"
   },
   {
    "duration": 93,
    "start_time": "2022-04-11T18:06:54.143Z"
   },
   {
    "duration": 5,
    "start_time": "2022-04-11T18:07:12.078Z"
   },
   {
    "duration": 4,
    "start_time": "2022-04-11T18:07:23.895Z"
   },
   {
    "duration": 4,
    "start_time": "2022-04-11T18:07:47.184Z"
   },
   {
    "duration": 24,
    "start_time": "2022-04-11T18:08:13.258Z"
   },
   {
    "duration": 25,
    "start_time": "2022-04-11T18:08:48.587Z"
   },
   {
    "duration": 12,
    "start_time": "2022-04-11T18:08:58.047Z"
   },
   {
    "duration": 14,
    "start_time": "2022-04-11T18:09:07.645Z"
   },
   {
    "duration": 5,
    "start_time": "2022-04-11T18:09:25.119Z"
   },
   {
    "duration": 4,
    "start_time": "2022-04-11T18:10:10.083Z"
   },
   {
    "duration": 13,
    "start_time": "2022-04-11T18:10:29.616Z"
   },
   {
    "duration": 12,
    "start_time": "2022-04-11T18:10:35.181Z"
   },
   {
    "duration": 6,
    "start_time": "2022-04-11T18:11:15.309Z"
   },
   {
    "duration": 6,
    "start_time": "2022-04-11T18:11:24.665Z"
   },
   {
    "duration": 11,
    "start_time": "2022-04-11T18:11:28.368Z"
   },
   {
    "duration": 4,
    "start_time": "2022-04-11T18:11:33.680Z"
   },
   {
    "duration": 11,
    "start_time": "2022-04-11T18:14:38.420Z"
   },
   {
    "duration": 3,
    "start_time": "2022-04-11T18:14:43.069Z"
   },
   {
    "duration": 4,
    "start_time": "2022-04-11T18:14:59.097Z"
   },
   {
    "duration": 4,
    "start_time": "2022-04-11T18:15:04.395Z"
   },
   {
    "duration": 5,
    "start_time": "2022-04-11T18:15:14.375Z"
   },
   {
    "duration": 9,
    "start_time": "2022-04-11T18:20:05.887Z"
   },
   {
    "duration": 10,
    "start_time": "2022-04-11T18:20:53.930Z"
   },
   {
    "duration": 9,
    "start_time": "2022-04-11T18:24:00.927Z"
   },
   {
    "duration": 9,
    "start_time": "2022-04-11T18:24:28.936Z"
   },
   {
    "duration": 9,
    "start_time": "2022-04-11T18:26:40.367Z"
   },
   {
    "duration": 199,
    "start_time": "2022-04-11T18:28:47.520Z"
   },
   {
    "duration": 10,
    "start_time": "2022-04-11T18:28:57.079Z"
   },
   {
    "duration": 23,
    "start_time": "2022-04-11T18:29:15.086Z"
   },
   {
    "duration": 23,
    "start_time": "2022-04-11T18:29:30.304Z"
   },
   {
    "duration": 28,
    "start_time": "2022-04-11T18:30:34.841Z"
   },
   {
    "duration": 26,
    "start_time": "2022-04-11T18:30:41.885Z"
   },
   {
    "duration": 13,
    "start_time": "2022-04-11T18:31:11.895Z"
   },
   {
    "duration": 17,
    "start_time": "2022-04-11T18:31:22.078Z"
   },
   {
    "duration": 18,
    "start_time": "2022-04-11T18:33:20.148Z"
   },
   {
    "duration": 26,
    "start_time": "2022-04-11T18:34:26.215Z"
   },
   {
    "duration": 37,
    "start_time": "2022-04-11T18:34:46.588Z"
   },
   {
    "duration": 6,
    "start_time": "2022-04-11T18:35:43.892Z"
   },
   {
    "duration": 14,
    "start_time": "2022-04-11T18:37:12.965Z"
   },
   {
    "duration": 6,
    "start_time": "2022-04-11T18:37:53.219Z"
   },
   {
    "duration": 5,
    "start_time": "2022-04-11T18:38:08.144Z"
   },
   {
    "duration": 5,
    "start_time": "2022-04-11T18:38:35.048Z"
   },
   {
    "duration": 26,
    "start_time": "2022-04-11T18:40:05.981Z"
   },
   {
    "duration": 17,
    "start_time": "2022-04-11T18:40:16.450Z"
   },
   {
    "duration": 13,
    "start_time": "2022-04-11T18:40:21.000Z"
   },
   {
    "duration": 8,
    "start_time": "2022-04-11T18:40:33.315Z"
   },
   {
    "duration": 18,
    "start_time": "2022-04-11T18:40:41.310Z"
   },
   {
    "duration": 17,
    "start_time": "2022-04-11T18:40:53.039Z"
   },
   {
    "duration": 12,
    "start_time": "2022-04-11T18:40:56.297Z"
   },
   {
    "duration": 15,
    "start_time": "2022-04-11T18:41:10.632Z"
   },
   {
    "duration": 14,
    "start_time": "2022-04-11T18:42:13.794Z"
   },
   {
    "duration": 15,
    "start_time": "2022-04-11T18:43:37.708Z"
   },
   {
    "duration": 8,
    "start_time": "2022-04-11T18:44:11.829Z"
   },
   {
    "duration": 8,
    "start_time": "2022-04-11T18:44:25.837Z"
   },
   {
    "duration": 8,
    "start_time": "2022-04-11T18:44:30.869Z"
   },
   {
    "duration": 201,
    "start_time": "2022-04-11T18:44:49.968Z"
   },
   {
    "duration": 3,
    "start_time": "2022-04-11T18:44:54.296Z"
   },
   {
    "duration": 235,
    "start_time": "2022-04-11T18:45:25.354Z"
   },
   {
    "duration": 16,
    "start_time": "2022-04-11T18:45:32.412Z"
   },
   {
    "duration": 13,
    "start_time": "2022-04-11T18:46:25.481Z"
   },
   {
    "duration": 12,
    "start_time": "2022-04-11T18:46:34.146Z"
   },
   {
    "duration": 26,
    "start_time": "2022-04-11T18:50:41.928Z"
   },
   {
    "duration": 15,
    "start_time": "2022-04-11T18:51:21.382Z"
   },
   {
    "duration": 17,
    "start_time": "2022-04-11T18:52:21.141Z"
   },
   {
    "duration": 16,
    "start_time": "2022-04-11T18:52:29.153Z"
   },
   {
    "duration": 18,
    "start_time": "2022-04-11T18:54:05.834Z"
   },
   {
    "duration": 17,
    "start_time": "2022-04-11T18:54:08.304Z"
   },
   {
    "duration": 10,
    "start_time": "2022-04-11T18:54:09.458Z"
   },
   {
    "duration": 17,
    "start_time": "2022-04-11T18:55:03.420Z"
   },
   {
    "duration": 17,
    "start_time": "2022-04-11T18:55:33.531Z"
   },
   {
    "duration": 17,
    "start_time": "2022-04-11T18:58:15.501Z"
   },
   {
    "duration": 12,
    "start_time": "2022-04-11T18:59:08.677Z"
   },
   {
    "duration": 11,
    "start_time": "2022-04-11T19:05:10.730Z"
   },
   {
    "duration": 12,
    "start_time": "2022-04-11T19:05:13.096Z"
   },
   {
    "duration": 9,
    "start_time": "2022-04-11T19:05:17.977Z"
   },
   {
    "duration": 19,
    "start_time": "2022-04-11T19:05:18.708Z"
   },
   {
    "duration": 11,
    "start_time": "2022-04-11T19:05:19.367Z"
   },
   {
    "duration": 4,
    "start_time": "2022-04-11T19:05:24.464Z"
   },
   {
    "duration": 4,
    "start_time": "2022-04-11T19:05:39.688Z"
   },
   {
    "duration": 157,
    "start_time": "2022-04-11T19:05:39.694Z"
   },
   {
    "duration": 21,
    "start_time": "2022-04-11T19:05:39.853Z"
   },
   {
    "duration": 23,
    "start_time": "2022-04-11T19:05:39.876Z"
   },
   {
    "duration": 25,
    "start_time": "2022-04-11T19:05:39.901Z"
   },
   {
    "duration": 5,
    "start_time": "2022-04-11T19:05:39.928Z"
   },
   {
    "duration": 16,
    "start_time": "2022-04-11T19:05:39.934Z"
   },
   {
    "duration": 12,
    "start_time": "2022-04-11T19:05:39.951Z"
   },
   {
    "duration": 31,
    "start_time": "2022-04-11T19:05:39.965Z"
   },
   {
    "duration": 7,
    "start_time": "2022-04-11T19:05:39.998Z"
   },
   {
    "duration": 6,
    "start_time": "2022-04-11T19:05:40.007Z"
   },
   {
    "duration": 19,
    "start_time": "2022-04-11T19:05:40.015Z"
   },
   {
    "duration": 9,
    "start_time": "2022-04-11T19:05:40.035Z"
   },
   {
    "duration": 5,
    "start_time": "2022-04-11T19:05:40.045Z"
   },
   {
    "duration": 47,
    "start_time": "2022-04-11T19:05:40.052Z"
   },
   {
    "duration": 7,
    "start_time": "2022-04-11T19:05:40.100Z"
   },
   {
    "duration": 20,
    "start_time": "2022-04-11T19:05:40.109Z"
   },
   {
    "duration": 4,
    "start_time": "2022-04-11T19:05:40.130Z"
   },
   {
    "duration": 13,
    "start_time": "2022-04-11T19:05:40.135Z"
   },
   {
    "duration": 35,
    "start_time": "2022-04-11T19:05:40.149Z"
   },
   {
    "duration": 5,
    "start_time": "2022-04-11T19:05:40.185Z"
   },
   {
    "duration": 9,
    "start_time": "2022-04-11T19:05:40.194Z"
   },
   {
    "duration": 7,
    "start_time": "2022-04-11T19:05:40.204Z"
   },
   {
    "duration": 12,
    "start_time": "2022-04-11T19:05:40.213Z"
   },
   {
    "duration": 5,
    "start_time": "2022-04-11T19:05:46.325Z"
   },
   {
    "duration": 9,
    "start_time": "2022-04-11T19:05:49.277Z"
   },
   {
    "duration": 110,
    "start_time": "2022-04-11T19:05:54.193Z"
   },
   {
    "duration": 104,
    "start_time": "2022-04-11T19:09:02.505Z"
   },
   {
    "duration": 106,
    "start_time": "2022-04-11T19:09:12.777Z"
   },
   {
    "duration": 101,
    "start_time": "2022-04-11T19:09:20.669Z"
   },
   {
    "duration": 96,
    "start_time": "2022-04-11T19:09:30.944Z"
   },
   {
    "duration": 99,
    "start_time": "2022-04-11T19:09:38.192Z"
   },
   {
    "duration": 99,
    "start_time": "2022-04-11T19:10:05.500Z"
   },
   {
    "duration": 113,
    "start_time": "2022-04-11T19:10:10.351Z"
   },
   {
    "duration": 3,
    "start_time": "2022-04-11T19:43:20.881Z"
   },
   {
    "duration": 157,
    "start_time": "2022-04-11T19:43:20.886Z"
   },
   {
    "duration": 15,
    "start_time": "2022-04-11T19:43:21.045Z"
   },
   {
    "duration": 15,
    "start_time": "2022-04-11T19:43:21.061Z"
   },
   {
    "duration": 26,
    "start_time": "2022-04-11T19:43:21.077Z"
   },
   {
    "duration": 5,
    "start_time": "2022-04-11T19:43:21.105Z"
   },
   {
    "duration": 15,
    "start_time": "2022-04-11T19:43:21.111Z"
   },
   {
    "duration": 15,
    "start_time": "2022-04-11T19:43:21.128Z"
   },
   {
    "duration": 11,
    "start_time": "2022-04-11T19:43:21.145Z"
   },
   {
    "duration": 27,
    "start_time": "2022-04-11T19:43:21.158Z"
   },
   {
    "duration": 71,
    "start_time": "2022-04-11T19:43:21.190Z"
   },
   {
    "duration": 31,
    "start_time": "2022-04-11T19:43:21.262Z"
   },
   {
    "duration": 14,
    "start_time": "2022-04-11T19:43:21.295Z"
   },
   {
    "duration": 8,
    "start_time": "2022-04-11T19:43:21.311Z"
   },
   {
    "duration": 40,
    "start_time": "2022-04-11T19:43:21.321Z"
   },
   {
    "duration": 18,
    "start_time": "2022-04-11T19:43:21.363Z"
   },
   {
    "duration": 32,
    "start_time": "2022-04-11T19:43:21.383Z"
   },
   {
    "duration": 4,
    "start_time": "2022-04-11T19:43:21.417Z"
   },
   {
    "duration": 14,
    "start_time": "2022-04-11T19:43:21.423Z"
   },
   {
    "duration": 23,
    "start_time": "2022-04-11T19:43:21.440Z"
   },
   {
    "duration": 17,
    "start_time": "2022-04-11T19:43:21.465Z"
   },
   {
    "duration": 12,
    "start_time": "2022-04-11T19:43:21.483Z"
   },
   {
    "duration": 5,
    "start_time": "2022-04-11T19:43:21.497Z"
   },
   {
    "duration": 14,
    "start_time": "2022-04-11T19:43:21.503Z"
   },
   {
    "duration": 5,
    "start_time": "2022-04-11T19:43:21.518Z"
   },
   {
    "duration": 7,
    "start_time": "2022-04-11T19:43:21.525Z"
   },
   {
    "duration": 132,
    "start_time": "2022-04-11T19:43:21.534Z"
   },
   {
    "duration": 18,
    "start_time": "2022-04-11T19:43:21.668Z"
   },
   {
    "duration": 365,
    "start_time": "2022-04-11T19:43:21.690Z"
   },
   {
    "duration": 6,
    "start_time": "2022-04-11T19:43:22.058Z"
   },
   {
    "duration": 268,
    "start_time": "2022-04-11T19:43:22.066Z"
   },
   {
    "duration": 321,
    "start_time": "2022-04-11T19:43:22.336Z"
   },
   {
    "duration": 23,
    "start_time": "2022-04-11T19:43:22.659Z"
   },
   {
    "duration": 7,
    "start_time": "2022-04-11T19:43:27.527Z"
   },
   {
    "duration": 243,
    "start_time": "2022-04-11T19:43:42.750Z"
   },
   {
    "duration": 1270,
    "start_time": "2022-04-12T12:32:07.843Z"
   },
   {
    "duration": 67,
    "start_time": "2022-04-12T12:32:09.115Z"
   },
   {
    "duration": 21,
    "start_time": "2022-04-12T12:32:09.184Z"
   },
   {
    "duration": 17,
    "start_time": "2022-04-12T12:32:09.208Z"
   },
   {
    "duration": 31,
    "start_time": "2022-04-12T12:32:09.226Z"
   },
   {
    "duration": 5,
    "start_time": "2022-04-12T12:32:09.259Z"
   },
   {
    "duration": 10,
    "start_time": "2022-04-12T12:32:09.265Z"
   },
   {
    "duration": 41,
    "start_time": "2022-04-12T12:32:09.277Z"
   },
   {
    "duration": 12,
    "start_time": "2022-04-12T12:32:09.319Z"
   },
   {
    "duration": 9,
    "start_time": "2022-04-12T12:32:09.333Z"
   },
   {
    "duration": 8,
    "start_time": "2022-04-12T12:32:09.343Z"
   },
   {
    "duration": 29,
    "start_time": "2022-04-12T12:32:12.674Z"
   },
   {
    "duration": 37,
    "start_time": "2022-04-12T12:32:18.750Z"
   },
   {
    "duration": 27,
    "start_time": "2022-04-12T12:34:57.025Z"
   },
   {
    "duration": 107,
    "start_time": "2022-04-12T12:37:37.388Z"
   },
   {
    "duration": 19,
    "start_time": "2022-04-12T12:37:56.091Z"
   },
   {
    "duration": 1406,
    "start_time": "2022-04-12T15:14:03.144Z"
   },
   {
    "duration": 131,
    "start_time": "2022-04-12T15:14:04.552Z"
   },
   {
    "duration": 20,
    "start_time": "2022-04-12T15:14:04.684Z"
   },
   {
    "duration": 21,
    "start_time": "2022-04-12T15:14:04.706Z"
   },
   {
    "duration": 29,
    "start_time": "2022-04-12T15:14:04.730Z"
   },
   {
    "duration": 5,
    "start_time": "2022-04-12T15:14:04.760Z"
   },
   {
    "duration": 12,
    "start_time": "2022-04-12T15:14:04.767Z"
   },
   {
    "duration": 15,
    "start_time": "2022-04-12T15:14:04.780Z"
   },
   {
    "duration": 18,
    "start_time": "2022-04-12T15:14:04.826Z"
   },
   {
    "duration": 9,
    "start_time": "2022-04-12T15:14:04.846Z"
   },
   {
    "duration": 5,
    "start_time": "2022-04-12T15:14:04.857Z"
   },
   {
    "duration": 176,
    "start_time": "2022-04-12T15:14:07.430Z"
   },
   {
    "duration": 196,
    "start_time": "2022-04-12T15:14:17.846Z"
   },
   {
    "duration": 176,
    "start_time": "2022-04-12T15:14:35.076Z"
   },
   {
    "duration": 31,
    "start_time": "2022-04-12T15:16:25.082Z"
   },
   {
    "duration": 1524,
    "start_time": "2022-04-12T15:16:34.686Z"
   },
   {
    "duration": 180,
    "start_time": "2022-04-12T15:17:19.632Z"
   },
   {
    "duration": 8,
    "start_time": "2022-04-12T15:17:25.883Z"
   },
   {
    "duration": 3,
    "start_time": "2022-04-12T15:18:50.128Z"
   },
   {
    "duration": 131,
    "start_time": "2022-04-12T15:18:50.133Z"
   },
   {
    "duration": 15,
    "start_time": "2022-04-12T15:18:50.266Z"
   },
   {
    "duration": 15,
    "start_time": "2022-04-12T15:18:50.283Z"
   },
   {
    "duration": 38,
    "start_time": "2022-04-12T15:18:50.299Z"
   },
   {
    "duration": 5,
    "start_time": "2022-04-12T15:18:50.339Z"
   },
   {
    "duration": 14,
    "start_time": "2022-04-12T15:18:50.345Z"
   },
   {
    "duration": 19,
    "start_time": "2022-04-12T15:18:57.863Z"
   },
   {
    "duration": 175,
    "start_time": "2022-04-12T15:19:24.627Z"
   },
   {
    "duration": 184,
    "start_time": "2022-04-12T15:19:31.766Z"
   },
   {
    "duration": 11,
    "start_time": "2022-04-12T15:19:36.563Z"
   },
   {
    "duration": 19,
    "start_time": "2022-04-12T15:31:43.472Z"
   },
   {
    "duration": 293,
    "start_time": "2022-04-12T15:31:55.812Z"
   },
   {
    "duration": 28,
    "start_time": "2022-04-12T15:35:03.538Z"
   },
   {
    "duration": 3,
    "start_time": "2022-04-12T15:35:33.156Z"
   },
   {
    "duration": 32,
    "start_time": "2022-04-12T15:35:38.944Z"
   },
   {
    "duration": 17,
    "start_time": "2022-04-12T15:36:14.898Z"
   },
   {
    "duration": 17,
    "start_time": "2022-04-12T15:36:31.388Z"
   },
   {
    "duration": 17,
    "start_time": "2022-04-12T15:37:28.694Z"
   },
   {
    "duration": 24,
    "start_time": "2022-04-12T15:38:07.437Z"
   },
   {
    "duration": 21,
    "start_time": "2022-04-12T15:38:26.337Z"
   },
   {
    "duration": 24,
    "start_time": "2022-04-12T15:39:06.160Z"
   },
   {
    "duration": 17,
    "start_time": "2022-04-12T15:39:47.204Z"
   },
   {
    "duration": 719,
    "start_time": "2022-04-12T15:40:14.192Z"
   },
   {
    "duration": 21,
    "start_time": "2022-04-12T15:40:19.334Z"
   },
   {
    "duration": 43,
    "start_time": "2022-04-12T15:40:22.922Z"
   },
   {
    "duration": 23,
    "start_time": "2022-04-12T15:41:49.253Z"
   },
   {
    "duration": 33,
    "start_time": "2022-04-12T15:41:55.573Z"
   },
   {
    "duration": 35,
    "start_time": "2022-04-12T15:42:06.652Z"
   },
   {
    "duration": 34,
    "start_time": "2022-04-12T15:42:24.138Z"
   },
   {
    "duration": 21,
    "start_time": "2022-04-12T15:42:27.646Z"
   },
   {
    "duration": 22,
    "start_time": "2022-04-12T15:43:48.686Z"
   },
   {
    "duration": 37,
    "start_time": "2022-04-12T15:44:38.318Z"
   },
   {
    "duration": 29,
    "start_time": "2022-04-12T15:44:49.480Z"
   },
   {
    "duration": 189,
    "start_time": "2022-04-12T15:45:13.761Z"
   },
   {
    "duration": 29,
    "start_time": "2022-04-12T15:48:58.559Z"
   },
   {
    "duration": 38,
    "start_time": "2022-04-12T15:49:06.502Z"
   },
   {
    "duration": 31,
    "start_time": "2022-04-12T15:49:56.724Z"
   },
   {
    "duration": 29,
    "start_time": "2022-04-12T15:50:04.239Z"
   },
   {
    "duration": 25,
    "start_time": "2022-04-12T15:50:13.774Z"
   },
   {
    "duration": 37,
    "start_time": "2022-04-12T15:50:42.346Z"
   },
   {
    "duration": 23,
    "start_time": "2022-04-12T15:50:52.875Z"
   },
   {
    "duration": 4,
    "start_time": "2022-04-12T15:51:28.949Z"
   },
   {
    "duration": 5,
    "start_time": "2022-04-12T15:51:32.046Z"
   },
   {
    "duration": 23,
    "start_time": "2022-04-12T15:51:53.485Z"
   },
   {
    "duration": 6,
    "start_time": "2022-04-12T15:52:50.083Z"
   },
   {
    "duration": 5,
    "start_time": "2022-04-12T15:52:58.348Z"
   },
   {
    "duration": 4,
    "start_time": "2022-04-12T15:53:05.846Z"
   },
   {
    "duration": 32,
    "start_time": "2022-04-12T15:53:12.123Z"
   },
   {
    "duration": 28,
    "start_time": "2022-04-12T15:53:23.428Z"
   },
   {
    "duration": 27,
    "start_time": "2022-04-12T15:53:43.458Z"
   },
   {
    "duration": 30,
    "start_time": "2022-04-12T15:53:53.998Z"
   },
   {
    "duration": 4,
    "start_time": "2022-04-12T15:56:13.764Z"
   },
   {
    "duration": 5,
    "start_time": "2022-04-12T15:56:38.763Z"
   },
   {
    "duration": 4,
    "start_time": "2022-04-12T15:56:48.002Z"
   },
   {
    "duration": 5,
    "start_time": "2022-04-12T15:57:10.982Z"
   },
   {
    "duration": 7,
    "start_time": "2022-04-12T15:57:44.985Z"
   },
   {
    "duration": 5,
    "start_time": "2022-04-12T15:57:55.484Z"
   },
   {
    "duration": 29,
    "start_time": "2022-04-12T15:58:17.346Z"
   },
   {
    "duration": 9,
    "start_time": "2022-04-12T16:01:04.069Z"
   },
   {
    "duration": 10,
    "start_time": "2022-04-12T16:01:07.555Z"
   },
   {
    "duration": 10,
    "start_time": "2022-04-12T16:01:16.184Z"
   },
   {
    "duration": 22,
    "start_time": "2022-04-12T16:05:06.476Z"
   },
   {
    "duration": 219,
    "start_time": "2022-04-12T16:05:43.991Z"
   },
   {
    "duration": 22,
    "start_time": "2022-04-12T16:08:41.890Z"
   },
   {
    "duration": 0,
    "start_time": "2022-04-12T16:09:41.452Z"
   },
   {
    "duration": 24,
    "start_time": "2022-04-12T16:10:25.082Z"
   },
   {
    "duration": 21,
    "start_time": "2022-04-12T16:10:53.085Z"
   },
   {
    "duration": 9,
    "start_time": "2022-04-12T16:13:27.543Z"
   },
   {
    "duration": 9,
    "start_time": "2022-04-12T16:14:14.863Z"
   },
   {
    "duration": 24,
    "start_time": "2022-04-12T16:14:43.581Z"
   },
   {
    "duration": 31,
    "start_time": "2022-04-12T16:15:13.422Z"
   },
   {
    "duration": 25,
    "start_time": "2022-04-12T16:15:32.749Z"
   },
   {
    "duration": 24,
    "start_time": "2022-04-12T16:15:39.367Z"
   },
   {
    "duration": 35,
    "start_time": "2022-04-12T16:15:52.105Z"
   },
   {
    "duration": 31,
    "start_time": "2022-04-12T16:17:18.721Z"
   },
   {
    "duration": 12,
    "start_time": "2022-04-12T16:17:58.606Z"
   },
   {
    "duration": 13,
    "start_time": "2022-04-12T16:22:38.468Z"
   },
   {
    "duration": 9,
    "start_time": "2022-04-12T16:22:47.463Z"
   },
   {
    "duration": 36,
    "start_time": "2022-04-12T16:35:10.628Z"
   },
   {
    "duration": 15,
    "start_time": "2022-04-12T16:37:08.198Z"
   },
   {
    "duration": 3,
    "start_time": "2022-04-12T16:38:36.843Z"
   },
   {
    "duration": 336,
    "start_time": "2022-04-12T16:38:36.851Z"
   },
   {
    "duration": 13,
    "start_time": "2022-04-12T16:38:37.190Z"
   },
   {
    "duration": 33,
    "start_time": "2022-04-12T16:38:37.205Z"
   },
   {
    "duration": 38,
    "start_time": "2022-04-12T16:38:37.241Z"
   },
   {
    "duration": 5,
    "start_time": "2022-04-12T16:38:37.280Z"
   },
   {
    "duration": 13,
    "start_time": "2022-04-12T16:38:37.287Z"
   },
   {
    "duration": 9,
    "start_time": "2022-04-12T16:38:43.659Z"
   },
   {
    "duration": 9,
    "start_time": "2022-04-12T16:38:57.787Z"
   },
   {
    "duration": 3,
    "start_time": "2022-04-12T16:39:34.253Z"
   },
   {
    "duration": 129,
    "start_time": "2022-04-12T16:39:34.258Z"
   },
   {
    "duration": 14,
    "start_time": "2022-04-12T16:39:34.389Z"
   },
   {
    "duration": 16,
    "start_time": "2022-04-12T16:39:34.404Z"
   },
   {
    "duration": 31,
    "start_time": "2022-04-12T16:39:34.421Z"
   },
   {
    "duration": 5,
    "start_time": "2022-04-12T16:39:34.454Z"
   },
   {
    "duration": 12,
    "start_time": "2022-04-12T16:39:34.461Z"
   },
   {
    "duration": 12,
    "start_time": "2022-04-12T16:39:42.676Z"
   },
   {
    "duration": 13,
    "start_time": "2022-04-12T16:39:50.982Z"
   },
   {
    "duration": 14,
    "start_time": "2022-04-12T16:42:50.675Z"
   },
   {
    "duration": 9,
    "start_time": "2022-04-12T16:44:02.689Z"
   },
   {
    "duration": 18,
    "start_time": "2022-04-12T16:44:09.735Z"
   },
   {
    "duration": 9,
    "start_time": "2022-04-12T16:44:17.548Z"
   },
   {
    "duration": 18,
    "start_time": "2022-04-12T16:45:10.589Z"
   },
   {
    "duration": 17,
    "start_time": "2022-04-12T16:48:36.534Z"
   },
   {
    "duration": 171,
    "start_time": "2022-04-12T16:49:47.124Z"
   },
   {
    "duration": 15,
    "start_time": "2022-04-12T16:49:57.835Z"
   },
   {
    "duration": 228,
    "start_time": "2022-04-12T16:50:17.887Z"
   },
   {
    "duration": 15,
    "start_time": "2022-04-12T16:50:27.746Z"
   },
   {
    "duration": 9,
    "start_time": "2022-04-12T16:51:01.056Z"
   },
   {
    "duration": 218,
    "start_time": "2022-04-12T16:51:48.641Z"
   },
   {
    "duration": 3053,
    "start_time": "2022-04-12T16:51:57.445Z"
   },
   {
    "duration": 17,
    "start_time": "2022-04-12T16:52:24.826Z"
   },
   {
    "duration": 11,
    "start_time": "2022-04-12T16:52:38.899Z"
   },
   {
    "duration": 4,
    "start_time": "2022-04-12T16:54:10.558Z"
   },
   {
    "duration": 13,
    "start_time": "2022-04-12T16:54:15.440Z"
   },
   {
    "duration": 12,
    "start_time": "2022-04-12T16:54:48.084Z"
   },
   {
    "duration": 10,
    "start_time": "2022-04-12T16:56:16.320Z"
   },
   {
    "duration": 3,
    "start_time": "2022-04-12T16:56:21.824Z"
   },
   {
    "duration": 4,
    "start_time": "2022-04-12T16:56:32.441Z"
   },
   {
    "duration": 4,
    "start_time": "2022-04-12T16:56:40.666Z"
   },
   {
    "duration": 7,
    "start_time": "2022-04-12T16:56:44.498Z"
   },
   {
    "duration": 5,
    "start_time": "2022-04-12T16:56:54.380Z"
   },
   {
    "duration": 8,
    "start_time": "2022-04-12T16:57:03.251Z"
   },
   {
    "duration": 27,
    "start_time": "2022-04-12T16:57:07.398Z"
   },
   {
    "duration": 6,
    "start_time": "2022-04-12T17:00:37.991Z"
   },
   {
    "duration": 12,
    "start_time": "2022-04-12T17:02:06.265Z"
   },
   {
    "duration": 13,
    "start_time": "2022-04-12T17:02:11.824Z"
   },
   {
    "duration": 15,
    "start_time": "2022-04-12T17:03:20.532Z"
   },
   {
    "duration": 15,
    "start_time": "2022-04-12T17:03:44.356Z"
   },
   {
    "duration": 12,
    "start_time": "2022-04-12T17:04:05.744Z"
   },
   {
    "duration": 13,
    "start_time": "2022-04-12T17:04:11.537Z"
   },
   {
    "duration": 13,
    "start_time": "2022-04-12T17:05:02.241Z"
   },
   {
    "duration": 17,
    "start_time": "2022-04-12T17:05:21.534Z"
   },
   {
    "duration": 13,
    "start_time": "2022-04-12T17:05:27.634Z"
   },
   {
    "duration": 13,
    "start_time": "2022-04-12T17:05:31.070Z"
   },
   {
    "duration": 12,
    "start_time": "2022-04-12T17:05:40.704Z"
   },
   {
    "duration": 9,
    "start_time": "2022-04-12T17:06:36.436Z"
   },
   {
    "duration": 5,
    "start_time": "2022-04-12T17:10:55.050Z"
   },
   {
    "duration": 7,
    "start_time": "2022-04-12T17:11:17.949Z"
   },
   {
    "duration": 5,
    "start_time": "2022-04-12T17:11:26.695Z"
   },
   {
    "duration": 5,
    "start_time": "2022-04-12T17:11:32.272Z"
   },
   {
    "duration": 174,
    "start_time": "2022-04-12T17:13:35.343Z"
   },
   {
    "duration": 10,
    "start_time": "2022-04-12T17:13:48.099Z"
   },
   {
    "duration": 4,
    "start_time": "2022-04-12T17:13:55.985Z"
   },
   {
    "duration": 559,
    "start_time": "2022-04-12T17:13:55.991Z"
   },
   {
    "duration": 15,
    "start_time": "2022-04-12T17:13:56.552Z"
   },
   {
    "duration": 22,
    "start_time": "2022-04-12T17:13:56.570Z"
   },
   {
    "duration": 41,
    "start_time": "2022-04-12T17:13:56.595Z"
   },
   {
    "duration": 7,
    "start_time": "2022-04-12T17:13:56.638Z"
   },
   {
    "duration": 19,
    "start_time": "2022-04-12T17:13:56.646Z"
   },
   {
    "duration": 16,
    "start_time": "2022-04-12T17:13:56.667Z"
   },
   {
    "duration": 9,
    "start_time": "2022-04-12T17:13:56.685Z"
   },
   {
    "duration": 46,
    "start_time": "2022-04-12T17:13:56.695Z"
   },
   {
    "duration": 25,
    "start_time": "2022-04-12T17:13:56.745Z"
   },
   {
    "duration": 11,
    "start_time": "2022-04-12T17:13:56.773Z"
   },
   {
    "duration": 9,
    "start_time": "2022-04-12T17:15:30.483Z"
   },
   {
    "duration": 36,
    "start_time": "2022-04-12T17:15:35.123Z"
   },
   {
    "duration": 10,
    "start_time": "2022-04-12T17:16:00.928Z"
   },
   {
    "duration": 22,
    "start_time": "2022-04-12T17:16:19.876Z"
   },
   {
    "duration": 28,
    "start_time": "2022-04-12T17:19:48.464Z"
   },
   {
    "duration": 46,
    "start_time": "2022-04-12T17:20:51.726Z"
   },
   {
    "duration": 74,
    "start_time": "2022-04-12T17:21:18.564Z"
   },
   {
    "duration": 41,
    "start_time": "2022-04-12T17:21:37.335Z"
   },
   {
    "duration": 6,
    "start_time": "2022-04-12T17:22:27.740Z"
   },
   {
    "duration": 5,
    "start_time": "2022-04-12T17:22:53.538Z"
   },
   {
    "duration": 7,
    "start_time": "2022-04-12T17:23:01.169Z"
   },
   {
    "duration": 24,
    "start_time": "2022-04-12T17:23:23.470Z"
   },
   {
    "duration": 5,
    "start_time": "2022-04-12T17:25:03.769Z"
   },
   {
    "duration": 9,
    "start_time": "2022-04-12T17:27:27.208Z"
   },
   {
    "duration": 9,
    "start_time": "2022-04-12T17:32:03.800Z"
   },
   {
    "duration": 8,
    "start_time": "2022-04-12T17:33:09.883Z"
   },
   {
    "duration": 4,
    "start_time": "2022-04-12T17:33:53.840Z"
   },
   {
    "duration": 5,
    "start_time": "2022-04-12T17:35:21.965Z"
   },
   {
    "duration": 4,
    "start_time": "2022-04-12T17:36:18.618Z"
   },
   {
    "duration": 4,
    "start_time": "2022-04-12T17:37:06.439Z"
   },
   {
    "duration": 17,
    "start_time": "2022-04-12T17:37:10.595Z"
   },
   {
    "duration": 4,
    "start_time": "2022-04-12T17:37:23.140Z"
   },
   {
    "duration": 141,
    "start_time": "2022-04-12T17:37:23.146Z"
   },
   {
    "duration": 15,
    "start_time": "2022-04-12T17:37:23.290Z"
   },
   {
    "duration": 120,
    "start_time": "2022-04-12T17:37:23.307Z"
   },
   {
    "duration": 30,
    "start_time": "2022-04-12T17:37:23.430Z"
   },
   {
    "duration": 7,
    "start_time": "2022-04-12T17:37:23.462Z"
   },
   {
    "duration": 5,
    "start_time": "2022-04-12T17:37:23.471Z"
   },
   {
    "duration": 46,
    "start_time": "2022-04-12T17:37:23.478Z"
   },
   {
    "duration": 16,
    "start_time": "2022-04-12T17:37:23.526Z"
   },
   {
    "duration": 14,
    "start_time": "2022-04-12T17:37:23.544Z"
   },
   {
    "duration": 24,
    "start_time": "2022-04-12T17:37:23.561Z"
   },
   {
    "duration": 54,
    "start_time": "2022-04-12T17:37:23.587Z"
   },
   {
    "duration": 28,
    "start_time": "2022-04-12T17:37:23.643Z"
   },
   {
    "duration": 4,
    "start_time": "2022-04-12T17:37:23.673Z"
   },
   {
    "duration": 12,
    "start_time": "2022-04-12T17:37:23.679Z"
   },
   {
    "duration": 10,
    "start_time": "2022-04-12T17:37:31.298Z"
   },
   {
    "duration": 5,
    "start_time": "2022-04-12T17:38:00.194Z"
   },
   {
    "duration": 28,
    "start_time": "2022-04-12T17:38:08.657Z"
   },
   {
    "duration": 8,
    "start_time": "2022-04-12T17:38:12.769Z"
   },
   {
    "duration": 26,
    "start_time": "2022-04-12T17:38:20.030Z"
   },
   {
    "duration": 5,
    "start_time": "2022-04-12T17:38:21.274Z"
   },
   {
    "duration": 9,
    "start_time": "2022-04-12T17:38:33.799Z"
   },
   {
    "duration": 15,
    "start_time": "2022-04-12T17:38:35.208Z"
   },
   {
    "duration": 3,
    "start_time": "2022-04-12T17:38:39.878Z"
   },
   {
    "duration": 4,
    "start_time": "2022-04-12T17:38:41.429Z"
   },
   {
    "duration": 6,
    "start_time": "2022-04-12T17:38:44.243Z"
   },
   {
    "duration": 14,
    "start_time": "2022-04-12T17:38:45.512Z"
   },
   {
    "duration": 7,
    "start_time": "2022-04-12T17:39:14.767Z"
   },
   {
    "duration": 9,
    "start_time": "2022-04-12T17:39:23.928Z"
   },
   {
    "duration": 125,
    "start_time": "2022-04-12T17:39:25.191Z"
   },
   {
    "duration": 9,
    "start_time": "2022-04-12T17:39:39.347Z"
   },
   {
    "duration": 317,
    "start_time": "2022-04-12T17:39:45.703Z"
   },
   {
    "duration": 5,
    "start_time": "2022-04-12T17:39:49.177Z"
   },
   {
    "duration": 290,
    "start_time": "2022-04-12T17:39:52.030Z"
   },
   {
    "duration": 375,
    "start_time": "2022-04-12T17:39:54.814Z"
   },
   {
    "duration": 13,
    "start_time": "2022-04-12T17:40:01.475Z"
   },
   {
    "duration": 8,
    "start_time": "2022-04-12T17:41:34.444Z"
   },
   {
    "duration": 278,
    "start_time": "2022-04-12T17:42:05.252Z"
   },
   {
    "duration": 256,
    "start_time": "2022-04-12T17:42:08.569Z"
   },
   {
    "duration": 171,
    "start_time": "2022-04-12T17:42:11.199Z"
   },
   {
    "duration": 2,
    "start_time": "2022-04-12T17:47:34.089Z"
   },
   {
    "duration": 35,
    "start_time": "2022-04-12T17:47:39.434Z"
   },
   {
    "duration": 7,
    "start_time": "2022-04-12T17:48:20.876Z"
   },
   {
    "duration": 24,
    "start_time": "2022-04-12T17:48:50.089Z"
   },
   {
    "duration": 2,
    "start_time": "2022-04-12T19:38:54.680Z"
   },
   {
    "duration": 24,
    "start_time": "2022-04-12T19:38:59.871Z"
   },
   {
    "duration": 6,
    "start_time": "2022-04-12T19:44:47.204Z"
   },
   {
    "duration": 12,
    "start_time": "2022-04-12T19:45:21.171Z"
   },
   {
    "duration": 6,
    "start_time": "2022-04-12T19:45:24.376Z"
   },
   {
    "duration": 13,
    "start_time": "2022-04-12T19:45:25.242Z"
   },
   {
    "duration": 6,
    "start_time": "2022-04-12T19:51:36.136Z"
   },
   {
    "duration": 138,
    "start_time": "2022-04-12T19:52:06.539Z"
   },
   {
    "duration": 7,
    "start_time": "2022-04-12T19:56:56.676Z"
   },
   {
    "duration": 14,
    "start_time": "2022-04-12T19:56:58.749Z"
   },
   {
    "duration": 6,
    "start_time": "2022-04-12T19:57:05.941Z"
   },
   {
    "duration": 6,
    "start_time": "2022-04-12T19:58:35.795Z"
   },
   {
    "duration": 14,
    "start_time": "2022-04-12T19:58:37.117Z"
   },
   {
    "duration": 6,
    "start_time": "2022-04-12T19:58:41.282Z"
   },
   {
    "duration": 10,
    "start_time": "2022-04-12T19:59:46.701Z"
   },
   {
    "duration": 131,
    "start_time": "2022-04-12T19:59:59.315Z"
   },
   {
    "duration": 28,
    "start_time": "2022-04-12T20:01:52.489Z"
   },
   {
    "duration": 386,
    "start_time": "2022-04-12T20:02:05.215Z"
   },
   {
    "duration": 27,
    "start_time": "2022-04-12T20:02:16.984Z"
   },
   {
    "duration": 242,
    "start_time": "2022-04-12T20:02:24.376Z"
   },
   {
    "duration": 9,
    "start_time": "2022-04-12T20:04:18.357Z"
   },
   {
    "duration": 24,
    "start_time": "2022-04-12T20:06:35.348Z"
   },
   {
    "duration": 7,
    "start_time": "2022-04-12T20:07:04.142Z"
   },
   {
    "duration": 14,
    "start_time": "2022-04-12T20:07:06.213Z"
   },
   {
    "duration": 5,
    "start_time": "2022-04-12T20:07:16.200Z"
   },
   {
    "duration": 8,
    "start_time": "2022-04-12T20:07:59.621Z"
   },
   {
    "duration": 32,
    "start_time": "2022-04-12T20:08:13.440Z"
   },
   {
    "duration": 5,
    "start_time": "2022-04-12T20:08:29.301Z"
   },
   {
    "duration": 7,
    "start_time": "2022-04-12T20:08:34.047Z"
   },
   {
    "duration": 12,
    "start_time": "2022-04-12T20:08:36.847Z"
   },
   {
    "duration": 6,
    "start_time": "2022-04-12T20:09:11.057Z"
   },
   {
    "duration": 147,
    "start_time": "2022-04-12T20:11:27.210Z"
   },
   {
    "duration": 132,
    "start_time": "2022-04-12T20:11:37.372Z"
   },
   {
    "duration": 26,
    "start_time": "2022-04-12T20:16:07.969Z"
   },
   {
    "duration": 26,
    "start_time": "2022-04-12T20:16:27.680Z"
   },
   {
    "duration": 1113,
    "start_time": "2022-04-12T20:16:58.841Z"
   },
   {
    "duration": 202,
    "start_time": "2022-04-12T20:21:59.739Z"
   },
   {
    "duration": 211,
    "start_time": "2022-04-12T20:23:08.970Z"
   },
   {
    "duration": 248,
    "start_time": "2022-04-12T20:24:47.413Z"
   },
   {
    "duration": 23,
    "start_time": "2022-04-12T20:29:18.672Z"
   },
   {
    "duration": 7,
    "start_time": "2022-04-12T20:29:19.469Z"
   },
   {
    "duration": 298,
    "start_time": "2022-04-12T20:29:20.688Z"
   },
   {
    "duration": 194,
    "start_time": "2022-04-12T20:33:42.573Z"
   },
   {
    "duration": 297,
    "start_time": "2022-04-12T20:46:54.729Z"
   },
   {
    "duration": 7,
    "start_time": "2022-04-12T20:52:16.926Z"
   },
   {
    "duration": 208,
    "start_time": "2022-04-12T20:52:22.406Z"
   },
   {
    "duration": 7,
    "start_time": "2022-04-12T21:03:43.649Z"
   },
   {
    "duration": 9,
    "start_time": "2022-04-12T21:04:42.641Z"
   },
   {
    "duration": 48,
    "start_time": "2022-04-13T17:50:10.907Z"
   },
   {
    "duration": 1394,
    "start_time": "2022-04-13T17:50:15.866Z"
   },
   {
    "duration": 107,
    "start_time": "2022-04-13T17:50:17.262Z"
   },
   {
    "duration": 19,
    "start_time": "2022-04-13T17:50:17.370Z"
   },
   {
    "duration": 17,
    "start_time": "2022-04-13T17:50:17.392Z"
   },
   {
    "duration": 25,
    "start_time": "2022-04-13T17:50:17.410Z"
   },
   {
    "duration": 23,
    "start_time": "2022-04-13T17:50:17.436Z"
   },
   {
    "duration": 7,
    "start_time": "2022-04-13T17:50:17.461Z"
   },
   {
    "duration": 11,
    "start_time": "2022-04-13T17:50:17.469Z"
   },
   {
    "duration": 14,
    "start_time": "2022-04-13T17:50:17.482Z"
   },
   {
    "duration": 14,
    "start_time": "2022-04-13T17:50:17.499Z"
   },
   {
    "duration": 18,
    "start_time": "2022-04-13T17:50:17.515Z"
   },
   {
    "duration": 16,
    "start_time": "2022-04-13T17:50:17.555Z"
   },
   {
    "duration": 19,
    "start_time": "2022-04-13T17:50:17.573Z"
   },
   {
    "duration": 4,
    "start_time": "2022-04-13T17:50:17.593Z"
   },
   {
    "duration": 11,
    "start_time": "2022-04-13T17:50:17.598Z"
   },
   {
    "duration": 12,
    "start_time": "2022-04-13T17:50:17.611Z"
   },
   {
    "duration": 3,
    "start_time": "2022-04-13T17:50:17.625Z"
   },
   {
    "duration": 27,
    "start_time": "2022-04-13T17:50:17.655Z"
   },
   {
    "duration": 6,
    "start_time": "2022-04-13T17:50:17.684Z"
   },
   {
    "duration": 20,
    "start_time": "2022-04-13T17:50:17.692Z"
   },
   {
    "duration": 4,
    "start_time": "2022-04-13T17:50:17.714Z"
   },
   {
    "duration": 42,
    "start_time": "2022-04-13T17:50:17.719Z"
   },
   {
    "duration": 13,
    "start_time": "2022-04-13T17:50:17.764Z"
   },
   {
    "duration": 4,
    "start_time": "2022-04-13T17:50:17.779Z"
   },
   {
    "duration": 5,
    "start_time": "2022-04-13T17:50:17.785Z"
   },
   {
    "duration": 10,
    "start_time": "2022-04-13T17:50:17.792Z"
   },
   {
    "duration": 14,
    "start_time": "2022-04-13T17:50:17.803Z"
   },
   {
    "duration": 5,
    "start_time": "2022-04-13T17:50:17.820Z"
   },
   {
    "duration": 9,
    "start_time": "2022-04-13T17:50:17.854Z"
   },
   {
    "duration": 132,
    "start_time": "2022-04-13T17:50:17.865Z"
   },
   {
    "duration": 7,
    "start_time": "2022-04-13T17:50:18.000Z"
   },
   {
    "duration": 340,
    "start_time": "2022-04-13T17:50:18.009Z"
   },
   {
    "duration": 6,
    "start_time": "2022-04-13T17:50:18.354Z"
   },
   {
    "duration": 252,
    "start_time": "2022-04-13T17:50:18.362Z"
   },
   {
    "duration": 317,
    "start_time": "2022-04-13T17:50:18.616Z"
   },
   {
    "duration": 24,
    "start_time": "2022-04-13T17:50:18.935Z"
   },
   {
    "duration": 12,
    "start_time": "2022-04-13T17:50:18.962Z"
   },
   {
    "duration": 261,
    "start_time": "2022-04-13T17:50:18.976Z"
   },
   {
    "duration": 737,
    "start_time": "2022-04-13T17:50:21.102Z"
   },
   {
    "duration": 196,
    "start_time": "2022-04-13T17:50:43.897Z"
   },
   {
    "duration": 131,
    "start_time": "2022-04-13T17:51:07.420Z"
   },
   {
    "duration": 121,
    "start_time": "2022-04-13T17:52:19.828Z"
   },
   {
    "duration": 10,
    "start_time": "2022-04-13T17:52:31.077Z"
   },
   {
    "duration": 131,
    "start_time": "2022-04-13T17:57:36.855Z"
   },
   {
    "duration": 316,
    "start_time": "2022-04-13T18:06:13.482Z"
   },
   {
    "duration": 3,
    "start_time": "2022-04-13T18:47:22.221Z"
   },
   {
    "duration": 3,
    "start_time": "2022-04-13T18:47:57.335Z"
   },
   {
    "duration": 4,
    "start_time": "2022-04-13T18:48:07.759Z"
   },
   {
    "duration": 99,
    "start_time": "2022-04-13T18:48:08.617Z"
   },
   {
    "duration": 3,
    "start_time": "2022-04-13T18:48:41.129Z"
   },
   {
    "duration": 105,
    "start_time": "2022-04-13T18:48:41.135Z"
   },
   {
    "duration": 18,
    "start_time": "2022-04-13T18:48:41.242Z"
   },
   {
    "duration": 18,
    "start_time": "2022-04-13T18:48:41.262Z"
   },
   {
    "duration": 26,
    "start_time": "2022-04-13T18:48:41.283Z"
   },
   {
    "duration": 5,
    "start_time": "2022-04-13T18:48:41.310Z"
   },
   {
    "duration": 7,
    "start_time": "2022-04-13T18:48:41.317Z"
   },
   {
    "duration": 10,
    "start_time": "2022-04-13T18:48:41.355Z"
   },
   {
    "duration": 17,
    "start_time": "2022-04-13T18:48:41.367Z"
   },
   {
    "duration": 20,
    "start_time": "2022-04-13T18:48:41.385Z"
   },
   {
    "duration": 19,
    "start_time": "2022-04-13T18:48:41.408Z"
   },
   {
    "duration": 39,
    "start_time": "2022-04-13T18:48:41.428Z"
   },
   {
    "duration": 20,
    "start_time": "2022-04-13T18:48:41.469Z"
   },
   {
    "duration": 4,
    "start_time": "2022-04-13T18:48:41.490Z"
   },
   {
    "duration": 10,
    "start_time": "2022-04-13T18:48:41.496Z"
   },
   {
    "duration": 11,
    "start_time": "2022-04-13T18:48:41.508Z"
   },
   {
    "duration": 36,
    "start_time": "2022-04-13T18:48:41.520Z"
   },
   {
    "duration": 29,
    "start_time": "2022-04-13T18:48:41.557Z"
   },
   {
    "duration": 6,
    "start_time": "2022-04-13T18:48:41.588Z"
   },
   {
    "duration": 21,
    "start_time": "2022-04-13T18:48:41.596Z"
   },
   {
    "duration": 4,
    "start_time": "2022-04-13T18:48:41.618Z"
   },
   {
    "duration": 9,
    "start_time": "2022-04-13T18:48:41.655Z"
   },
   {
    "duration": 19,
    "start_time": "2022-04-13T18:48:41.666Z"
   },
   {
    "duration": 4,
    "start_time": "2022-04-13T18:48:41.687Z"
   },
   {
    "duration": 10,
    "start_time": "2022-04-13T18:48:41.692Z"
   },
   {
    "duration": 6,
    "start_time": "2022-04-13T18:48:41.703Z"
   },
   {
    "duration": 16,
    "start_time": "2022-04-13T18:48:41.711Z"
   },
   {
    "duration": 26,
    "start_time": "2022-04-13T18:48:41.728Z"
   },
   {
    "duration": 9,
    "start_time": "2022-04-13T18:48:41.758Z"
   },
   {
    "duration": 121,
    "start_time": "2022-04-13T18:48:41.769Z"
   },
   {
    "duration": 8,
    "start_time": "2022-04-13T18:48:41.892Z"
   },
   {
    "duration": 324,
    "start_time": "2022-04-13T18:48:41.903Z"
   },
   {
    "duration": 6,
    "start_time": "2022-04-13T18:48:42.229Z"
   },
   {
    "duration": 240,
    "start_time": "2022-04-13T18:48:42.237Z"
   },
   {
    "duration": 405,
    "start_time": "2022-04-13T18:48:42.479Z"
   },
   {
    "duration": 12,
    "start_time": "2022-04-13T18:48:42.886Z"
   },
   {
    "duration": 11,
    "start_time": "2022-04-13T18:48:42.900Z"
   },
   {
    "duration": 270,
    "start_time": "2022-04-13T18:48:42.912Z"
   },
   {
    "duration": 189,
    "start_time": "2022-04-13T18:48:43.184Z"
   },
   {
    "duration": 141,
    "start_time": "2022-04-13T18:48:43.375Z"
   },
   {
    "duration": 9,
    "start_time": "2022-04-13T18:48:43.518Z"
   },
   {
    "duration": 132,
    "start_time": "2022-04-13T18:48:43.529Z"
   },
   {
    "duration": 7,
    "start_time": "2022-04-13T18:48:43.663Z"
   },
   {
    "duration": 25,
    "start_time": "2022-04-13T18:48:43.671Z"
   },
   {
    "duration": 3,
    "start_time": "2022-04-13T18:48:43.698Z"
   },
   {
    "duration": 8,
    "start_time": "2022-04-13T18:48:43.703Z"
   },
   {
    "duration": 13,
    "start_time": "2022-04-13T18:48:43.712Z"
   },
   {
    "duration": 33,
    "start_time": "2022-04-13T18:48:43.726Z"
   },
   {
    "duration": 149,
    "start_time": "2022-04-13T18:48:43.761Z"
   },
   {
    "duration": 144,
    "start_time": "2022-04-13T18:48:43.912Z"
   },
   {
    "duration": 28,
    "start_time": "2022-04-13T18:48:44.058Z"
   },
   {
    "duration": 951,
    "start_time": "2022-04-13T18:48:44.087Z"
   },
   {
    "duration": 226,
    "start_time": "2022-04-13T18:48:45.041Z"
   },
   {
    "duration": 27,
    "start_time": "2022-04-13T18:48:45.269Z"
   },
   {
    "duration": 10,
    "start_time": "2022-04-13T18:48:45.298Z"
   },
   {
    "duration": 325,
    "start_time": "2022-04-13T18:48:45.310Z"
   },
   {
    "duration": 204,
    "start_time": "2022-04-13T18:48:45.638Z"
   },
   {
    "duration": 434,
    "start_time": "2022-04-13T18:48:45.844Z"
   },
   {
    "duration": 7,
    "start_time": "2022-04-13T18:48:46.282Z"
   },
   {
    "duration": 186,
    "start_time": "2022-04-13T18:48:46.291Z"
   },
   {
    "duration": 8,
    "start_time": "2022-04-13T18:48:46.479Z"
   },
   {
    "duration": 9,
    "start_time": "2022-04-13T18:48:46.489Z"
   },
   {
    "duration": 4,
    "start_time": "2022-04-13T18:53:34.647Z"
   },
   {
    "duration": 112,
    "start_time": "2022-04-13T18:53:46.164Z"
   },
   {
    "duration": 16,
    "start_time": "2022-04-13T18:53:48.285Z"
   },
   {
    "duration": 17,
    "start_time": "2022-04-13T18:53:50.174Z"
   },
   {
    "duration": 37,
    "start_time": "2022-04-13T18:53:52.909Z"
   },
   {
    "duration": 2274,
    "start_time": "2022-04-13T18:54:55.708Z"
   },
   {
    "duration": 4,
    "start_time": "2022-04-13T18:55:14.408Z"
   },
   {
    "duration": 138,
    "start_time": "2022-04-13T18:55:14.417Z"
   },
   {
    "duration": 18,
    "start_time": "2022-04-13T18:55:14.557Z"
   },
   {
    "duration": 27,
    "start_time": "2022-04-13T18:55:14.577Z"
   },
   {
    "duration": 69,
    "start_time": "2022-04-13T18:55:14.608Z"
   },
   {
    "duration": 8,
    "start_time": "2022-04-13T18:55:14.679Z"
   },
   {
    "duration": 8,
    "start_time": "2022-04-13T18:55:14.689Z"
   },
   {
    "duration": 16,
    "start_time": "2022-04-13T18:55:14.699Z"
   },
   {
    "duration": 50,
    "start_time": "2022-04-13T18:55:14.717Z"
   },
   {
    "duration": 10,
    "start_time": "2022-04-13T18:55:14.769Z"
   },
   {
    "duration": 20,
    "start_time": "2022-04-13T18:55:14.783Z"
   },
   {
    "duration": 50,
    "start_time": "2022-04-13T18:55:14.805Z"
   },
   {
    "duration": 36,
    "start_time": "2022-04-13T18:55:14.857Z"
   },
   {
    "duration": 4,
    "start_time": "2022-04-13T18:55:14.896Z"
   },
   {
    "duration": 12,
    "start_time": "2022-04-13T18:55:14.902Z"
   },
   {
    "duration": 13,
    "start_time": "2022-04-13T18:55:14.916Z"
   },
   {
    "duration": 25,
    "start_time": "2022-04-13T18:55:14.931Z"
   },
   {
    "duration": 30,
    "start_time": "2022-04-13T18:55:14.958Z"
   },
   {
    "duration": 7,
    "start_time": "2022-04-13T18:55:14.990Z"
   },
   {
    "duration": 55,
    "start_time": "2022-04-13T18:55:14.999Z"
   },
   {
    "duration": 18,
    "start_time": "2022-04-13T18:55:15.056Z"
   },
   {
    "duration": 32,
    "start_time": "2022-04-13T18:55:15.077Z"
   },
   {
    "duration": 22,
    "start_time": "2022-04-13T18:55:15.111Z"
   },
   {
    "duration": 4,
    "start_time": "2022-04-13T18:55:15.136Z"
   },
   {
    "duration": 14,
    "start_time": "2022-04-13T18:55:15.142Z"
   },
   {
    "duration": 14,
    "start_time": "2022-04-13T18:55:15.158Z"
   },
   {
    "duration": 33,
    "start_time": "2022-04-13T18:55:15.174Z"
   },
   {
    "duration": 18,
    "start_time": "2022-04-13T18:55:15.209Z"
   },
   {
    "duration": 10,
    "start_time": "2022-04-13T18:55:15.232Z"
   },
   {
    "duration": 181,
    "start_time": "2022-04-13T18:55:15.243Z"
   },
   {
    "duration": 11,
    "start_time": "2022-04-13T18:55:15.426Z"
   },
   {
    "duration": 322,
    "start_time": "2022-04-13T18:55:15.438Z"
   },
   {
    "duration": 6,
    "start_time": "2022-04-13T18:55:15.762Z"
   },
   {
    "duration": 383,
    "start_time": "2022-04-13T18:55:15.771Z"
   },
   {
    "duration": 472,
    "start_time": "2022-04-13T18:55:16.156Z"
   },
   {
    "duration": 27,
    "start_time": "2022-04-13T18:55:16.630Z"
   },
   {
    "duration": 8,
    "start_time": "2022-04-13T18:55:16.660Z"
   },
   {
    "duration": 418,
    "start_time": "2022-04-13T18:55:16.670Z"
   },
   {
    "duration": 273,
    "start_time": "2022-04-13T18:55:17.090Z"
   },
   {
    "duration": 222,
    "start_time": "2022-04-13T18:55:17.365Z"
   },
   {
    "duration": 8,
    "start_time": "2022-04-13T18:55:17.589Z"
   },
   {
    "duration": 222,
    "start_time": "2022-04-13T18:55:17.655Z"
   },
   {
    "duration": 6,
    "start_time": "2022-04-13T18:55:17.879Z"
   },
   {
    "duration": 76,
    "start_time": "2022-04-13T18:55:17.887Z"
   },
   {
    "duration": 4,
    "start_time": "2022-04-13T18:55:17.965Z"
   },
   {
    "duration": 9,
    "start_time": "2022-04-13T18:55:17.970Z"
   },
   {
    "duration": 13,
    "start_time": "2022-04-13T18:55:17.980Z"
   },
   {
    "duration": 61,
    "start_time": "2022-04-13T18:55:17.995Z"
   },
   {
    "duration": 423,
    "start_time": "2022-04-13T18:55:18.058Z"
   },
   {
    "duration": 814,
    "start_time": "2022-04-13T18:55:18.483Z"
   },
   {
    "duration": 83,
    "start_time": "2022-04-13T18:55:19.299Z"
   },
   {
    "duration": 1246,
    "start_time": "2022-04-13T18:55:19.384Z"
   },
   {
    "duration": 310,
    "start_time": "2022-04-13T18:55:20.632Z"
   },
   {
    "duration": 45,
    "start_time": "2022-04-13T18:55:20.945Z"
   },
   {
    "duration": 8,
    "start_time": "2022-04-13T18:55:20.992Z"
   },
   {
    "duration": 210,
    "start_time": "2022-04-13T18:55:21.001Z"
   },
   {
    "duration": 190,
    "start_time": "2022-04-13T18:55:21.213Z"
   },
   {
    "duration": 269,
    "start_time": "2022-04-13T18:55:21.405Z"
   },
   {
    "duration": 6,
    "start_time": "2022-04-13T18:55:21.677Z"
   },
   {
    "duration": 179,
    "start_time": "2022-04-13T18:55:21.686Z"
   },
   {
    "duration": 8,
    "start_time": "2022-04-13T18:55:21.867Z"
   },
   {
    "duration": 8,
    "start_time": "2022-04-13T18:55:21.877Z"
   },
   {
    "duration": 7,
    "start_time": "2022-04-13T19:15:52.379Z"
   },
   {
    "duration": 111,
    "start_time": "2022-04-14T08:13:52.257Z"
   }
  ],
  "kernelspec": {
   "display_name": "Python 3",
   "language": "python",
   "name": "python3"
  },
  "language_info": {
   "codemirror_mode": {
    "name": "ipython",
    "version": 3
   },
   "file_extension": ".py",
   "mimetype": "text/x-python",
   "name": "python",
   "nbconvert_exporter": "python",
   "pygments_lexer": "ipython3",
   "version": "3.8.5"
  },
  "toc": {
   "base_numbering": "1",
   "nav_menu": {},
   "number_sections": true,
   "sideBar": true,
   "skip_h1_title": true,
   "title_cell": "Содержание",
   "title_sidebar": "Contents",
   "toc_cell": true,
   "toc_position": {
    "height": "calc(100% - 180px)",
    "left": "10px",
    "top": "150px",
    "width": "287px"
   },
   "toc_section_display": true,
   "toc_window_display": true
  }
 },
 "nbformat": 4,
 "nbformat_minor": 4
}
